{
 "cells": [
  {
   "cell_type": "code",
   "execution_count": 5,
   "metadata": {},
   "outputs": [],
   "source": [
    "%run ./3_DATA_PREPARATION.ipynb"
   ]
  },
  {
   "cell_type": "code",
   "execution_count": 7,
   "metadata": {},
   "outputs": [
    {
     "name": "stderr",
     "output_type": "stream",
     "text": [
      "INFO:prophet:Disabling weekly seasonality. Run prophet with weekly_seasonality=True to override this.\n",
      "INFO:prophet:Disabling daily seasonality. Run prophet with daily_seasonality=True to override this.\n",
      "c:\\Users\\mike_\\anaconda3\\lib\\site-packages\\prophet\\forecaster.py:896: FutureWarning: The frame.append method is deprecated and will be removed from pandas in a future version. Use pandas.concat instead.\n",
      "  components = components.append(new_comp)\n",
      "c:\\Users\\mike_\\anaconda3\\lib\\site-packages\\prophet\\forecaster.py:896: FutureWarning: The frame.append method is deprecated and will be removed from pandas in a future version. Use pandas.concat instead.\n",
      "  components = components.append(new_comp)\n",
      "c:\\Users\\mike_\\anaconda3\\lib\\site-packages\\prophet\\forecaster.py:896: FutureWarning: The frame.append method is deprecated and will be removed from pandas in a future version. Use pandas.concat instead.\n",
      "  components = components.append(new_comp)\n"
     ]
    },
    {
     "ename": "TypeError",
     "evalue": "'numpy.ndarray' object is not callable",
     "output_type": "error",
     "traceback": [
      "\u001b[1;31m---------------------------------------------------------------------------\u001b[0m",
      "\u001b[1;31mTypeError\u001b[0m                                 Traceback (most recent call last)",
      "\u001b[1;32mc:\\Users\\mike_\\Documents\\repos\\walmart_forecast\\notebooks\\4_MODELING_PROPHET.ipynb Celda 2\u001b[0m in \u001b[0;36m<cell line: 5>\u001b[1;34m()\u001b[0m\n\u001b[0;32m     <a href='vscode-notebook-cell:/c%3A/Users/mike_/Documents/repos/walmart_forecast/notebooks/4_MODELING_PROPHET.ipynb#W2sZmlsZQ%3D%3D?line=60'>61</a>\u001b[0m \u001b[39m\"\"\"\u001b[39;00m\n\u001b[0;32m     <a href='vscode-notebook-cell:/c%3A/Users/mike_/Documents/repos/walmart_forecast/notebooks/4_MODELING_PROPHET.ipynb#W2sZmlsZQ%3D%3D?line=61'>62</a>\u001b[0m \u001b[39mModel Performance\u001b[39;00m\n\u001b[0;32m     <a href='vscode-notebook-cell:/c%3A/Users/mike_/Documents/repos/walmart_forecast/notebooks/4_MODELING_PROPHET.ipynb#W2sZmlsZQ%3D%3D?line=62'>63</a>\u001b[0m \u001b[39m\"\"\"\u001b[39;00m\n\u001b[0;32m     <a href='vscode-notebook-cell:/c%3A/Users/mike_/Documents/repos/walmart_forecast/notebooks/4_MODELING_PROPHET.ipynb#W2sZmlsZQ%3D%3D?line=63'>64</a>\u001b[0m actual_sales \u001b[39m=\u001b[39m y_test\u001b[39m.\u001b[39mvalues\n\u001b[1;32m---> <a href='vscode-notebook-cell:/c%3A/Users/mike_/Documents/repos/walmart_forecast/notebooks/4_MODELING_PROPHET.ipynb#W2sZmlsZQ%3D%3D?line=64'>65</a>\u001b[0m predicted_sales \u001b[39m=\u001b[39m forecast\u001b[39m.\u001b[39;49mtail(\u001b[39m23\u001b[39;49m)[\u001b[39m'\u001b[39;49m\u001b[39myhat\u001b[39;49m\u001b[39m'\u001b[39;49m]\u001b[39m.\u001b[39;49mvalues()\n\u001b[0;32m     <a href='vscode-notebook-cell:/c%3A/Users/mike_/Documents/repos/walmart_forecast/notebooks/4_MODELING_PROPHET.ipynb#W2sZmlsZQ%3D%3D?line=65'>66</a>\u001b[0m evaluate(actual_sales, predicted_sales)\n\u001b[0;32m     <a href='vscode-notebook-cell:/c%3A/Users/mike_/Documents/repos/walmart_forecast/notebooks/4_MODELING_PROPHET.ipynb#W2sZmlsZQ%3D%3D?line=67'>68</a>\u001b[0m \u001b[39m# model performance\u001b[39;00m\n",
      "\u001b[1;31mTypeError\u001b[0m: 'numpy.ndarray' object is not callable"
     ]
    }
   ],
   "source": [
    "# Prophet for All Stores\n",
    "results = {}\n",
    "results_metrics = []\n",
    "\n",
    "for store in df.Store.unique():\n",
    "\n",
    "    store_series = df.loc[df['Store'] == store]\n",
    "    store_series = store_series[['Date', 'Weekly_Sales']]\n",
    "    store_series.dropna(inplace=True)\n",
    "    store_series.columns = ['Date', 'Sales']\n",
    "    store_series = store_series[[\"Sales\", \"Date\"]].resample(\"W\",on =\"Date\").sum().reset_index()\n",
    "    #store_df[\"Date\"]=pd.to_datetime(store_df[\"Date\"])\n",
    "    #store_series.set_index(\"Date\", inplace=True)\n",
    "\n",
    "    store_series['Time'] = np.arange(len(store_series.index)) # add time step column\n",
    "\n",
    "    store_series.rename(columns={'Date':'ds', 'Sales':'y'}, inplace=True)\n",
    "\n",
    "    #https://medium.com/@Hong_Tang/timeseries-split-with-sklearn-tips-8162c83612b9\n",
    "\n",
    "    # Time Series Split\n",
    "    tscv = TimeSeriesSplit() # instantiate object from class. default parameter sets object to perform k=5 splits\n",
    "\n",
    "    # Set date as index\n",
    "    store_series.set_index('ds', inplace=True)\n",
    "    store_series.sort_index(inplace=True)\n",
    "\n",
    "    #prepare features dataframe (X) and target (y) as data series\n",
    "    X = store_series.drop(labels=['y'], axis=1)\n",
    "    y = store_series['y']\n",
    "\n",
    "    # Split train test sets for both features and targets time-series class (tscv) class returns two arrays to mark train and test sets\n",
    "    for train_index, test_index in tscv.split(X):\n",
    "        X_train, X_test = X.iloc[train_index, :], X.iloc[test_index, :]\n",
    "        y_train, y_test = y.iloc[train_index], y.iloc[test_index]\n",
    "\n",
    "    # Summary of Train Test Split: number of records and date range for training and testing dataset.\n",
    "    #print('The training dataset has', len(X_train), 'records, ranging from', pd.DataFrame(y_train).index.min(), 'to', pd.DataFrame(y_train).index.max())\n",
    "    #print('The testing dataset has', len(X_test), 'records, ranging from', pd.DataFrame(y_test).index.min(), 'to', pd.DataFrame(y_test).index.max())\n",
    "\n",
    "    #fit the model by instantiating a new Prophet object. Call fit method and pass in the train dataset\n",
    "    m = Prophet()\n",
    "    m.fit(pd.DataFrame(y_train).reset_index())\n",
    "\n",
    "    \"\"\" \n",
    "    predictions are then made on a dataframe with a column ds containing the dates for which a prediction is to be made\n",
    "    You can get a suitable dataframe that extends into the future a specified number of days using the helper\n",
    "    method Prophet.make_future_dataframe. By default it will also include the dates from the history, so we will see the model fit as well.\n",
    "    \"\"\"\n",
    "    future = m.make_future_dataframe(periods=23, freq='W') # predict next 23 weeeks\n",
    "    #future.tail(40) uncomment no verify added periods\n",
    "\n",
    "    \"\"\"\n",
    "    The predict method will assign each row in future a predicted value which it names yhat. If you pass in historical\n",
    "    dates, it will provide an in-sample fit. The forecast object here is a new dataframe that includes a column yhat with the forecast,\n",
    "    as well as columns for components and uncertainty intervals.\n",
    "    \"\"\"\n",
    "    forecast = m.predict(future)\n",
    "    #forecast[['ds', 'yhat', 'yhat_lower', 'yhat_upper']].tail()\n",
    "\n",
    "    \"\"\"\n",
    "    Model Performance\n",
    "    \"\"\"\n",
    "    actual_sales = y_test.values\n",
    "    predicted_sales = forecast.tail(23)['yhat'].values\n",
    "    evaluate(actual_sales, predicted_sales)\n",
    "\n",
    "    # model performance\n",
    "    results_metrics.append(evaluate(actual_sales.values, predicted_sales))\n",
    "\n",
    "    # save results\n",
    "    results[store] = [X_train, X_test, y_train, actual_sales, predicted_sales]\n",
    "    \n",
    "\n",
    "    ## TODO: formato con pandas"
   ]
  },
  {
   "cell_type": "code",
   "execution_count": null,
   "metadata": {},
   "outputs": [],
   "source": []
  }
 ],
 "metadata": {
  "kernelspec": {
   "display_name": "Python 3.9.12 ('base')",
   "language": "python",
   "name": "python3"
  },
  "language_info": {
   "codemirror_mode": {
    "name": "ipython",
    "version": 3
   },
   "file_extension": ".py",
   "mimetype": "text/x-python",
   "name": "python",
   "nbconvert_exporter": "python",
   "pygments_lexer": "ipython3",
   "version": "3.9.12"
  },
  "orig_nbformat": 4,
  "vscode": {
   "interpreter": {
    "hash": "777a9814b1f625c6de01a68afd34302da90c24c55ff64ad7426d28deb82a847b"
   }
  }
 },
 "nbformat": 4,
 "nbformat_minor": 2
}
