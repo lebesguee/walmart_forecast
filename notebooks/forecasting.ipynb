{
 "cells": [
  {
   "cell_type": "markdown",
   "metadata": {},
   "source": [
    "#### Objetivo: generar un modelo que pueda hacer predicciones de ventas\n",
    "\n",
    "#### Escenario: Eres un científico de datos dentro de la consultoría “El oráculo”, tienes la asignación de trabajar en una empresa de retail para predecir sus ventas semanales a diferentes niveles muestrales, a nivel tienda\n",
    "\n",
    "#### Datasource: https://www.kaggle.com/code/aslanahmedov/walmart-sales-forecasting\n",
    "\n",
    "#### Entrega: 06 de Agosto de 2022\n",
    "\n"
   ]
  },
  {
   "cell_type": "markdown",
   "metadata": {},
   "source": [
    "# 1. Import Libraries"
   ]
  },
  {
   "cell_type": "code",
   "execution_count": 62,
   "metadata": {},
   "outputs": [],
   "source": [
    "import pandas as pd\n",
    "import numpy as np\n",
    "from prophet import Prophet\n",
    "import plotly.express as px\n",
    "from prophet.plot import plot_plotly, plot_components_plotly\n",
    "import matplotlib.pyplot as plt\n",
    "import seaborn as sns\n",
    "from sklearn.model_selection import train_test_split \n",
    "from sklearn.linear_model import LinearRegression\n",
    "from sklearn import metrics\n",
    "from sklearn.model_selection import TimeSeriesSplit\n",
    "from statsmodels.tsa.arima_model import ARMA\n",
    "import math\n",
    "\n",
    "from sklearn import neighbors\n",
    "from statsmodels.tsa.stattools import adfuller"
   ]
  },
  {
   "cell_type": "markdown",
   "metadata": {},
   "source": [
    "# 2. Read Data"
   ]
  },
  {
   "cell_type": "code",
   "execution_count": 63,
   "metadata": {},
   "outputs": [],
   "source": [
    "df = pd.read_csv('c:/Users/mike_/Documents/repos/walmart_forecast/data/clean_data.csv', parse_dates=['Date'])\n",
    "#df = pd.read_csv('https://raw.githubusercontent.com/lebesguee/walmart_forecast/main/data/clean_data.csv',\\\n",
    " #               parse_dates=['Date']) # read online\n",
    "\n",
    "## leer desde google drive: codigo en repo"
   ]
  },
  {
   "cell_type": "markdown",
   "metadata": {},
   "source": [
    "# 2. EDA"
   ]
  },
  {
   "cell_type": "code",
   "execution_count": 64,
   "metadata": {},
   "outputs": [
    {
     "data": {
      "text/html": [
       "<div>\n",
       "<style scoped>\n",
       "    .dataframe tbody tr th:only-of-type {\n",
       "        vertical-align: middle;\n",
       "    }\n",
       "\n",
       "    .dataframe tbody tr th {\n",
       "        vertical-align: top;\n",
       "    }\n",
       "\n",
       "    .dataframe thead th {\n",
       "        text-align: right;\n",
       "    }\n",
       "</style>\n",
       "<table border=\"1\" class=\"dataframe\">\n",
       "  <thead>\n",
       "    <tr style=\"text-align: right;\">\n",
       "      <th></th>\n",
       "      <th>Unnamed: 0</th>\n",
       "      <th>Store</th>\n",
       "      <th>Dept</th>\n",
       "      <th>Date</th>\n",
       "      <th>Weekly_Sales</th>\n",
       "      <th>IsHoliday</th>\n",
       "      <th>Temperature</th>\n",
       "      <th>Fuel_Price</th>\n",
       "      <th>MarkDown1</th>\n",
       "      <th>MarkDown2</th>\n",
       "      <th>...</th>\n",
       "      <th>Unemployment</th>\n",
       "      <th>Type</th>\n",
       "      <th>Size</th>\n",
       "      <th>Super_Bowl</th>\n",
       "      <th>Labor_Day</th>\n",
       "      <th>Thanksgiving</th>\n",
       "      <th>Christmas</th>\n",
       "      <th>week</th>\n",
       "      <th>month</th>\n",
       "      <th>year</th>\n",
       "    </tr>\n",
       "  </thead>\n",
       "  <tbody>\n",
       "    <tr>\n",
       "      <th>105524</th>\n",
       "      <td>105772</td>\n",
       "      <td>11</td>\n",
       "      <td>97</td>\n",
       "      <td>2012-03-30</td>\n",
       "      <td>14600.73</td>\n",
       "      <td>False</td>\n",
       "      <td>70.23</td>\n",
       "      <td>3.845</td>\n",
       "      <td>7438.04</td>\n",
       "      <td>190.98</td>\n",
       "      <td>...</td>\n",
       "      <td>6.833</td>\n",
       "      <td>A</td>\n",
       "      <td>207499</td>\n",
       "      <td>False</td>\n",
       "      <td>False</td>\n",
       "      <td>False</td>\n",
       "      <td>False</td>\n",
       "      <td>13</td>\n",
       "      <td>3</td>\n",
       "      <td>2012</td>\n",
       "    </tr>\n",
       "    <tr>\n",
       "      <th>252806</th>\n",
       "      <td>253593</td>\n",
       "      <td>26</td>\n",
       "      <td>33</td>\n",
       "      <td>2011-12-16</td>\n",
       "      <td>6261.11</td>\n",
       "      <td>False</td>\n",
       "      <td>28.24</td>\n",
       "      <td>3.445</td>\n",
       "      <td>2698.03</td>\n",
       "      <td>0.00</td>\n",
       "      <td>...</td>\n",
       "      <td>7.598</td>\n",
       "      <td>A</td>\n",
       "      <td>152513</td>\n",
       "      <td>False</td>\n",
       "      <td>False</td>\n",
       "      <td>False</td>\n",
       "      <td>False</td>\n",
       "      <td>50</td>\n",
       "      <td>12</td>\n",
       "      <td>2011</td>\n",
       "    </tr>\n",
       "    <tr>\n",
       "      <th>205854</th>\n",
       "      <td>206504</td>\n",
       "      <td>21</td>\n",
       "      <td>58</td>\n",
       "      <td>2012-08-24</td>\n",
       "      <td>560.00</td>\n",
       "      <td>False</td>\n",
       "      <td>77.72</td>\n",
       "      <td>3.620</td>\n",
       "      <td>6291.49</td>\n",
       "      <td>3.00</td>\n",
       "      <td>...</td>\n",
       "      <td>6.565</td>\n",
       "      <td>B</td>\n",
       "      <td>140167</td>\n",
       "      <td>False</td>\n",
       "      <td>False</td>\n",
       "      <td>False</td>\n",
       "      <td>False</td>\n",
       "      <td>34</td>\n",
       "      <td>8</td>\n",
       "      <td>2012</td>\n",
       "    </tr>\n",
       "    <tr>\n",
       "      <th>109185</th>\n",
       "      <td>109445</td>\n",
       "      <td>12</td>\n",
       "      <td>41</td>\n",
       "      <td>2010-07-09</td>\n",
       "      <td>290.00</td>\n",
       "      <td>False</td>\n",
       "      <td>90.37</td>\n",
       "      <td>3.100</td>\n",
       "      <td>0.00</td>\n",
       "      <td>0.00</td>\n",
       "      <td>...</td>\n",
       "      <td>14.180</td>\n",
       "      <td>B</td>\n",
       "      <td>112238</td>\n",
       "      <td>False</td>\n",
       "      <td>False</td>\n",
       "      <td>False</td>\n",
       "      <td>False</td>\n",
       "      <td>27</td>\n",
       "      <td>7</td>\n",
       "      <td>2010</td>\n",
       "    </tr>\n",
       "    <tr>\n",
       "      <th>226295</th>\n",
       "      <td>227020</td>\n",
       "      <td>24</td>\n",
       "      <td>6</td>\n",
       "      <td>2010-02-19</td>\n",
       "      <td>5453.37</td>\n",
       "      <td>False</td>\n",
       "      <td>31.05</td>\n",
       "      <td>2.909</td>\n",
       "      <td>0.00</td>\n",
       "      <td>0.00</td>\n",
       "      <td>...</td>\n",
       "      <td>8.326</td>\n",
       "      <td>A</td>\n",
       "      <td>203819</td>\n",
       "      <td>False</td>\n",
       "      <td>False</td>\n",
       "      <td>False</td>\n",
       "      <td>False</td>\n",
       "      <td>7</td>\n",
       "      <td>2</td>\n",
       "      <td>2010</td>\n",
       "    </tr>\n",
       "    <tr>\n",
       "      <th>190226</th>\n",
       "      <td>190809</td>\n",
       "      <td>20</td>\n",
       "      <td>83</td>\n",
       "      <td>2011-01-07</td>\n",
       "      <td>6463.23</td>\n",
       "      <td>False</td>\n",
       "      <td>31.43</td>\n",
       "      <td>3.193</td>\n",
       "      <td>0.00</td>\n",
       "      <td>0.00</td>\n",
       "      <td>...</td>\n",
       "      <td>7.343</td>\n",
       "      <td>A</td>\n",
       "      <td>203742</td>\n",
       "      <td>False</td>\n",
       "      <td>False</td>\n",
       "      <td>False</td>\n",
       "      <td>False</td>\n",
       "      <td>1</td>\n",
       "      <td>1</td>\n",
       "      <td>2011</td>\n",
       "    </tr>\n",
       "    <tr>\n",
       "      <th>150807</th>\n",
       "      <td>151204</td>\n",
       "      <td>16</td>\n",
       "      <td>26</td>\n",
       "      <td>2011-01-14</td>\n",
       "      <td>1879.02</td>\n",
       "      <td>False</td>\n",
       "      <td>17.46</td>\n",
       "      <td>2.911</td>\n",
       "      <td>0.00</td>\n",
       "      <td>0.00</td>\n",
       "      <td>...</td>\n",
       "      <td>6.614</td>\n",
       "      <td>B</td>\n",
       "      <td>57197</td>\n",
       "      <td>False</td>\n",
       "      <td>False</td>\n",
       "      <td>False</td>\n",
       "      <td>False</td>\n",
       "      <td>2</td>\n",
       "      <td>1</td>\n",
       "      <td>2011</td>\n",
       "    </tr>\n",
       "    <tr>\n",
       "      <th>412868</th>\n",
       "      <td>414206</td>\n",
       "      <td>45</td>\n",
       "      <td>93</td>\n",
       "      <td>2010-09-24</td>\n",
       "      <td>2609.36</td>\n",
       "      <td>False</td>\n",
       "      <td>68.59</td>\n",
       "      <td>2.713</td>\n",
       "      <td>0.00</td>\n",
       "      <td>0.00</td>\n",
       "      <td>...</td>\n",
       "      <td>8.743</td>\n",
       "      <td>B</td>\n",
       "      <td>118221</td>\n",
       "      <td>False</td>\n",
       "      <td>False</td>\n",
       "      <td>False</td>\n",
       "      <td>False</td>\n",
       "      <td>38</td>\n",
       "      <td>9</td>\n",
       "      <td>2010</td>\n",
       "    </tr>\n",
       "    <tr>\n",
       "      <th>165168</th>\n",
       "      <td>165646</td>\n",
       "      <td>17</td>\n",
       "      <td>81</td>\n",
       "      <td>2012-05-11</td>\n",
       "      <td>16273.14</td>\n",
       "      <td>False</td>\n",
       "      <td>49.96</td>\n",
       "      <td>3.809</td>\n",
       "      <td>6288.63</td>\n",
       "      <td>0.00</td>\n",
       "      <td>...</td>\n",
       "      <td>6.235</td>\n",
       "      <td>B</td>\n",
       "      <td>93188</td>\n",
       "      <td>False</td>\n",
       "      <td>False</td>\n",
       "      <td>False</td>\n",
       "      <td>False</td>\n",
       "      <td>19</td>\n",
       "      <td>5</td>\n",
       "      <td>2012</td>\n",
       "    </tr>\n",
       "    <tr>\n",
       "      <th>68457</th>\n",
       "      <td>68581</td>\n",
       "      <td>7</td>\n",
       "      <td>28</td>\n",
       "      <td>2012-10-12</td>\n",
       "      <td>258.21</td>\n",
       "      <td>False</td>\n",
       "      <td>41.43</td>\n",
       "      <td>3.760</td>\n",
       "      <td>302.62</td>\n",
       "      <td>0.00</td>\n",
       "      <td>...</td>\n",
       "      <td>7.557</td>\n",
       "      <td>B</td>\n",
       "      <td>70713</td>\n",
       "      <td>False</td>\n",
       "      <td>False</td>\n",
       "      <td>False</td>\n",
       "      <td>False</td>\n",
       "      <td>41</td>\n",
       "      <td>10</td>\n",
       "      <td>2012</td>\n",
       "    </tr>\n",
       "  </tbody>\n",
       "</table>\n",
       "<p>10 rows × 24 columns</p>\n",
       "</div>"
      ],
      "text/plain": [
       "        Unnamed: 0  Store  Dept       Date  Weekly_Sales  IsHoliday  \\\n",
       "105524      105772     11    97 2012-03-30      14600.73      False   \n",
       "252806      253593     26    33 2011-12-16       6261.11      False   \n",
       "205854      206504     21    58 2012-08-24        560.00      False   \n",
       "109185      109445     12    41 2010-07-09        290.00      False   \n",
       "226295      227020     24     6 2010-02-19       5453.37      False   \n",
       "190226      190809     20    83 2011-01-07       6463.23      False   \n",
       "150807      151204     16    26 2011-01-14       1879.02      False   \n",
       "412868      414206     45    93 2010-09-24       2609.36      False   \n",
       "165168      165646     17    81 2012-05-11      16273.14      False   \n",
       "68457        68581      7    28 2012-10-12        258.21      False   \n",
       "\n",
       "        Temperature  Fuel_Price  MarkDown1  MarkDown2  ...  Unemployment  \\\n",
       "105524        70.23       3.845    7438.04     190.98  ...         6.833   \n",
       "252806        28.24       3.445    2698.03       0.00  ...         7.598   \n",
       "205854        77.72       3.620    6291.49       3.00  ...         6.565   \n",
       "109185        90.37       3.100       0.00       0.00  ...        14.180   \n",
       "226295        31.05       2.909       0.00       0.00  ...         8.326   \n",
       "190226        31.43       3.193       0.00       0.00  ...         7.343   \n",
       "150807        17.46       2.911       0.00       0.00  ...         6.614   \n",
       "412868        68.59       2.713       0.00       0.00  ...         8.743   \n",
       "165168        49.96       3.809    6288.63       0.00  ...         6.235   \n",
       "68457         41.43       3.760     302.62       0.00  ...         7.557   \n",
       "\n",
       "        Type    Size  Super_Bowl  Labor_Day Thanksgiving  Christmas  week  \\\n",
       "105524     A  207499       False      False        False      False    13   \n",
       "252806     A  152513       False      False        False      False    50   \n",
       "205854     B  140167       False      False        False      False    34   \n",
       "109185     B  112238       False      False        False      False    27   \n",
       "226295     A  203819       False      False        False      False     7   \n",
       "190226     A  203742       False      False        False      False     1   \n",
       "150807     B   57197       False      False        False      False     2   \n",
       "412868     B  118221       False      False        False      False    38   \n",
       "165168     B   93188       False      False        False      False    19   \n",
       "68457      B   70713       False      False        False      False    41   \n",
       "\n",
       "        month  year  \n",
       "105524      3  2012  \n",
       "252806     12  2011  \n",
       "205854      8  2012  \n",
       "109185      7  2010  \n",
       "226295      2  2010  \n",
       "190226      1  2011  \n",
       "150807      1  2011  \n",
       "412868      9  2010  \n",
       "165168      5  2012  \n",
       "68457      10  2012  \n",
       "\n",
       "[10 rows x 24 columns]"
      ]
     },
     "execution_count": 64,
     "metadata": {},
     "output_type": "execute_result"
    }
   ],
   "source": [
    "df.sample(10)"
   ]
  },
  {
   "cell_type": "code",
   "execution_count": 65,
   "metadata": {},
   "outputs": [
    {
     "data": {
      "text/plain": [
       "Unnamed: 0               int64\n",
       "Store                    int64\n",
       "Dept                     int64\n",
       "Date            datetime64[ns]\n",
       "Weekly_Sales           float64\n",
       "IsHoliday                 bool\n",
       "Temperature            float64\n",
       "Fuel_Price             float64\n",
       "MarkDown1              float64\n",
       "MarkDown2              float64\n",
       "MarkDown3              float64\n",
       "MarkDown4              float64\n",
       "MarkDown5              float64\n",
       "CPI                    float64\n",
       "Unemployment           float64\n",
       "Type                    object\n",
       "Size                     int64\n",
       "Super_Bowl                bool\n",
       "Labor_Day                 bool\n",
       "Thanksgiving              bool\n",
       "Christmas                 bool\n",
       "week                     int64\n",
       "month                    int64\n",
       "year                     int64\n",
       "dtype: object"
      ]
     },
     "execution_count": 65,
     "metadata": {},
     "output_type": "execute_result"
    }
   ],
   "source": [
    "df.dtypes"
   ]
  },
  {
   "cell_type": "code",
   "execution_count": 66,
   "metadata": {},
   "outputs": [
    {
     "name": "stdout",
     "output_type": "stream",
     "text": [
      "rows = 420212 , columns = 24\n"
     ]
    }
   ],
   "source": [
    "print('rows =', df.shape[0], ', columns =' ,df.shape[1]) # dataset shape"
   ]
  },
  {
   "cell_type": "code",
   "execution_count": 67,
   "metadata": {},
   "outputs": [
    {
     "data": {
      "image/png": "[encoded data removed]",
      "text/plain": [
       "<Figure size 1008x1008 with 20 Axes>"
      ]
     },
     "metadata": {
      "needs_background": "light"
     },
     "output_type": "display_data"
    }
   ],
   "source": [
    "df.hist(figsize=(14,14), xrot=45)\n",
    "plt.show()"
   ]
  },
  {
   "cell_type": "code",
   "execution_count": 68,
   "metadata": {},
   "outputs": [
    {
     "data": {
      "text/html": [
       "<div>\n",
       "<style scoped>\n",
       "    .dataframe tbody tr th:only-of-type {\n",
       "        vertical-align: middle;\n",
       "    }\n",
       "\n",
       "    .dataframe tbody tr th {\n",
       "        vertical-align: top;\n",
       "    }\n",
       "\n",
       "    .dataframe thead th {\n",
       "        text-align: right;\n",
       "    }\n",
       "</style>\n",
       "<table border=\"1\" class=\"dataframe\">\n",
       "  <thead>\n",
       "    <tr style=\"text-align: right;\">\n",
       "      <th></th>\n",
       "      <th>Unnamed: 0</th>\n",
       "      <th>Store</th>\n",
       "      <th>Dept</th>\n",
       "      <th>Weekly_Sales</th>\n",
       "      <th>Temperature</th>\n",
       "      <th>Fuel_Price</th>\n",
       "      <th>MarkDown1</th>\n",
       "      <th>MarkDown2</th>\n",
       "      <th>MarkDown3</th>\n",
       "      <th>MarkDown4</th>\n",
       "      <th>MarkDown5</th>\n",
       "      <th>CPI</th>\n",
       "      <th>Unemployment</th>\n",
       "      <th>Size</th>\n",
       "      <th>week</th>\n",
       "      <th>month</th>\n",
       "      <th>year</th>\n",
       "    </tr>\n",
       "  </thead>\n",
       "  <tbody>\n",
       "    <tr>\n",
       "      <th>count</th>\n",
       "      <td>420212.000000</td>\n",
       "      <td>420212.000000</td>\n",
       "      <td>420212.000000</td>\n",
       "      <td>420212.000000</td>\n",
       "      <td>420212.000000</td>\n",
       "      <td>420212.000000</td>\n",
       "      <td>420212.000000</td>\n",
       "      <td>420212.000000</td>\n",
       "      <td>420212.000000</td>\n",
       "      <td>420212.000000</td>\n",
       "      <td>420212.000000</td>\n",
       "      <td>420212.000000</td>\n",
       "      <td>420212.000000</td>\n",
       "      <td>420212.000000</td>\n",
       "      <td>420212.000000</td>\n",
       "      <td>420212.000000</td>\n",
       "      <td>420212.000000</td>\n",
       "    </tr>\n",
       "    <tr>\n",
       "      <th>mean</th>\n",
       "      <td>210736.390089</td>\n",
       "      <td>22.195611</td>\n",
       "      <td>44.241309</td>\n",
       "      <td>16033.114591</td>\n",
       "      <td>60.090599</td>\n",
       "      <td>3.360890</td>\n",
       "      <td>2590.323565</td>\n",
       "      <td>878.905242</td>\n",
       "      <td>468.845949</td>\n",
       "      <td>1083.534361</td>\n",
       "      <td>1662.805002</td>\n",
       "      <td>171.212496</td>\n",
       "      <td>7.960000</td>\n",
       "      <td>136749.732787</td>\n",
       "      <td>25.828408</td>\n",
       "      <td>6.449866</td>\n",
       "      <td>2010.968454</td>\n",
       "    </tr>\n",
       "    <tr>\n",
       "      <th>std</th>\n",
       "      <td>121715.773081</td>\n",
       "      <td>12.787236</td>\n",
       "      <td>30.508819</td>\n",
       "      <td>22729.492116</td>\n",
       "      <td>18.447857</td>\n",
       "      <td>0.458519</td>\n",
       "      <td>6053.415601</td>\n",
       "      <td>5076.928566</td>\n",
       "      <td>5534.069859</td>\n",
       "      <td>3896.068938</td>\n",
       "      <td>4206.209357</td>\n",
       "      <td>39.162445</td>\n",
       "      <td>1.863879</td>\n",
       "      <td>60993.084568</td>\n",
       "      <td>14.152489</td>\n",
       "      <td>3.243397</td>\n",
       "      <td>0.796898</td>\n",
       "    </tr>\n",
       "    <tr>\n",
       "      <th>min</th>\n",
       "      <td>0.000000</td>\n",
       "      <td>1.000000</td>\n",
       "      <td>1.000000</td>\n",
       "      <td>0.010000</td>\n",
       "      <td>-2.060000</td>\n",
       "      <td>2.472000</td>\n",
       "      <td>0.000000</td>\n",
       "      <td>-265.760000</td>\n",
       "      <td>-29.100000</td>\n",
       "      <td>0.000000</td>\n",
       "      <td>0.000000</td>\n",
       "      <td>126.064000</td>\n",
       "      <td>3.879000</td>\n",
       "      <td>34875.000000</td>\n",
       "      <td>1.000000</td>\n",
       "      <td>1.000000</td>\n",
       "      <td>2010.000000</td>\n",
       "    </tr>\n",
       "    <tr>\n",
       "      <th>25%</th>\n",
       "      <td>105299.750000</td>\n",
       "      <td>11.000000</td>\n",
       "      <td>18.000000</td>\n",
       "      <td>2120.130000</td>\n",
       "      <td>46.680000</td>\n",
       "      <td>2.933000</td>\n",
       "      <td>0.000000</td>\n",
       "      <td>0.000000</td>\n",
       "      <td>0.000000</td>\n",
       "      <td>0.000000</td>\n",
       "      <td>0.000000</td>\n",
       "      <td>132.022667</td>\n",
       "      <td>6.891000</td>\n",
       "      <td>93638.000000</td>\n",
       "      <td>14.000000</td>\n",
       "      <td>4.000000</td>\n",
       "      <td>2010.000000</td>\n",
       "    </tr>\n",
       "    <tr>\n",
       "      <th>50%</th>\n",
       "      <td>210775.500000</td>\n",
       "      <td>22.000000</td>\n",
       "      <td>37.000000</td>\n",
       "      <td>7661.700000</td>\n",
       "      <td>62.090000</td>\n",
       "      <td>3.452000</td>\n",
       "      <td>0.000000</td>\n",
       "      <td>0.000000</td>\n",
       "      <td>0.000000</td>\n",
       "      <td>0.000000</td>\n",
       "      <td>0.000000</td>\n",
       "      <td>182.350989</td>\n",
       "      <td>7.866000</td>\n",
       "      <td>140167.000000</td>\n",
       "      <td>26.000000</td>\n",
       "      <td>6.000000</td>\n",
       "      <td>2011.000000</td>\n",
       "    </tr>\n",
       "    <tr>\n",
       "      <th>75%</th>\n",
       "      <td>316116.250000</td>\n",
       "      <td>33.000000</td>\n",
       "      <td>74.000000</td>\n",
       "      <td>20271.265000</td>\n",
       "      <td>74.280000</td>\n",
       "      <td>3.738000</td>\n",
       "      <td>2809.050000</td>\n",
       "      <td>2.400000</td>\n",
       "      <td>4.540000</td>\n",
       "      <td>425.290000</td>\n",
       "      <td>2168.040000</td>\n",
       "      <td>212.445487</td>\n",
       "      <td>8.567000</td>\n",
       "      <td>202505.000000</td>\n",
       "      <td>38.000000</td>\n",
       "      <td>9.000000</td>\n",
       "      <td>2012.000000</td>\n",
       "    </tr>\n",
       "    <tr>\n",
       "      <th>max</th>\n",
       "      <td>421569.000000</td>\n",
       "      <td>45.000000</td>\n",
       "      <td>99.000000</td>\n",
       "      <td>693099.360000</td>\n",
       "      <td>100.140000</td>\n",
       "      <td>4.468000</td>\n",
       "      <td>88646.760000</td>\n",
       "      <td>104519.540000</td>\n",
       "      <td>141630.610000</td>\n",
       "      <td>67474.850000</td>\n",
       "      <td>108519.280000</td>\n",
       "      <td>227.232807</td>\n",
       "      <td>14.313000</td>\n",
       "      <td>219622.000000</td>\n",
       "      <td>52.000000</td>\n",
       "      <td>12.000000</td>\n",
       "      <td>2012.000000</td>\n",
       "    </tr>\n",
       "  </tbody>\n",
       "</table>\n",
       "</div>"
      ],
      "text/plain": [
       "          Unnamed: 0          Store           Dept   Weekly_Sales  \\\n",
       "count  420212.000000  420212.000000  420212.000000  420212.000000   \n",
       "mean   210736.390089      22.195611      44.241309   16033.114591   \n",
       "std    121715.773081      12.787236      30.508819   22729.492116   \n",
       "min         0.000000       1.000000       1.000000       0.010000   \n",
       "25%    105299.750000      11.000000      18.000000    2120.130000   \n",
       "50%    210775.500000      22.000000      37.000000    7661.700000   \n",
       "75%    316116.250000      33.000000      74.000000   20271.265000   \n",
       "max    421569.000000      45.000000      99.000000  693099.360000   \n",
       "\n",
       "         Temperature     Fuel_Price      MarkDown1      MarkDown2  \\\n",
       "count  420212.000000  420212.000000  420212.000000  420212.000000   \n",
       "mean       60.090599       3.360890    2590.323565     878.905242   \n",
       "std        18.447857       0.458519    6053.415601    5076.928566   \n",
       "min        -2.060000       2.472000       0.000000    -265.760000   \n",
       "25%        46.680000       2.933000       0.000000       0.000000   \n",
       "50%        62.090000       3.452000       0.000000       0.000000   \n",
       "75%        74.280000       3.738000    2809.050000       2.400000   \n",
       "max       100.140000       4.468000   88646.760000  104519.540000   \n",
       "\n",
       "           MarkDown3      MarkDown4      MarkDown5            CPI  \\\n",
       "count  420212.000000  420212.000000  420212.000000  420212.000000   \n",
       "mean      468.845949    1083.534361    1662.805002     171.212496   \n",
       "std      5534.069859    3896.068938    4206.209357      39.162445   \n",
       "min       -29.100000       0.000000       0.000000     126.064000   \n",
       "25%         0.000000       0.000000       0.000000     132.022667   \n",
       "50%         0.000000       0.000000       0.000000     182.350989   \n",
       "75%         4.540000     425.290000    2168.040000     212.445487   \n",
       "max    141630.610000   67474.850000  108519.280000     227.232807   \n",
       "\n",
       "        Unemployment           Size           week          month  \\\n",
       "count  420212.000000  420212.000000  420212.000000  420212.000000   \n",
       "mean        7.960000  136749.732787      25.828408       6.449866   \n",
       "std         1.863879   60993.084568      14.152489       3.243397   \n",
       "min         3.879000   34875.000000       1.000000       1.000000   \n",
       "25%         6.891000   93638.000000      14.000000       4.000000   \n",
       "50%         7.866000  140167.000000      26.000000       6.000000   \n",
       "75%         8.567000  202505.000000      38.000000       9.000000   \n",
       "max        14.313000  219622.000000      52.000000      12.000000   \n",
       "\n",
       "                year  \n",
       "count  420212.000000  \n",
       "mean     2010.968454  \n",
       "std         0.796898  \n",
       "min      2010.000000  \n",
       "25%      2010.000000  \n",
       "50%      2011.000000  \n",
       "75%      2012.000000  \n",
       "max      2012.000000  "
      ]
     },
     "execution_count": 68,
     "metadata": {},
     "output_type": "execute_result"
    }
   ],
   "source": [
    "df.describe() # summary stats for numerical variables   ---Artur: Interpretación - Analizar cada dato 0.010000 - explicar"
   ]
  },
  {
   "cell_type": "code",
   "execution_count": 69,
   "metadata": {},
   "outputs": [
    {
     "data": {
      "text/html": [
       "<div>\n",
       "<style scoped>\n",
       "    .dataframe tbody tr th:only-of-type {\n",
       "        vertical-align: middle;\n",
       "    }\n",
       "\n",
       "    .dataframe tbody tr th {\n",
       "        vertical-align: top;\n",
       "    }\n",
       "\n",
       "    .dataframe thead th {\n",
       "        text-align: right;\n",
       "    }\n",
       "</style>\n",
       "<table border=\"1\" class=\"dataframe\">\n",
       "  <thead>\n",
       "    <tr style=\"text-align: right;\">\n",
       "      <th></th>\n",
       "      <th>Type</th>\n",
       "    </tr>\n",
       "  </thead>\n",
       "  <tbody>\n",
       "    <tr>\n",
       "      <th>count</th>\n",
       "      <td>420212</td>\n",
       "    </tr>\n",
       "    <tr>\n",
       "      <th>unique</th>\n",
       "      <td>3</td>\n",
       "    </tr>\n",
       "    <tr>\n",
       "      <th>top</th>\n",
       "      <td>A</td>\n",
       "    </tr>\n",
       "    <tr>\n",
       "      <th>freq</th>\n",
       "      <td>214961</td>\n",
       "    </tr>\n",
       "  </tbody>\n",
       "</table>\n",
       "</div>"
      ],
      "text/plain": [
       "          Type\n",
       "count   420212\n",
       "unique       3\n",
       "top          A\n",
       "freq    214961"
      ]
     },
     "execution_count": 69,
     "metadata": {},
     "output_type": "execute_result"
    }
   ],
   "source": [
    "df.describe(include='object') # summary stats for categorical variables"
   ]
  },
  {
   "cell_type": "code",
   "execution_count": 70,
   "metadata": {},
   "outputs": [
    {
     "data": {
      "image/png": "[encoded data removed]",
      "text/plain": [
       "<Figure size 432x288 with 1 Axes>"
      ]
     },
     "metadata": {
      "needs_background": "light"
     },
     "output_type": "display_data"
    }
   ],
   "source": [
    "# Plot each categorical feature\n",
    "for column in df.select_dtypes(include='object'):\n",
    "    if df[column].nunique() < 10:\n",
    "        sns.countplot(y=column, data=df)\n",
    "        plt.show()"
   ]
  },
  {
   "cell_type": "code",
   "execution_count": 71,
   "metadata": {},
   "outputs": [
    {
     "data": {
      "image/png": "[encoded data removed]",
      "text/plain": [
       "<Figure size 432x288 with 1 Axes>"
      ]
     },
     "metadata": {
      "needs_background": "light"
     },
     "output_type": "display_data"
    }
   ],
   "source": [
    "#Segment the target variable by categorical features.\n",
    "for column in df.select_dtypes(include='object'):\n",
    "    if df[column].nunique() < 10:\n",
    "        sns.boxplot(y=column, x='Weekly_Sales', data=df)\n",
    "    plt.show()"
   ]
  },
  {
   "cell_type": "code",
   "execution_count": 72,
   "metadata": {},
   "outputs": [
    {
     "data": {
      "text/html": [
       "<div>\n",
       "<style scoped>\n",
       "    .dataframe tbody tr th:only-of-type {\n",
       "        vertical-align: middle;\n",
       "    }\n",
       "\n",
       "    .dataframe tbody tr th {\n",
       "        vertical-align: top;\n",
       "    }\n",
       "\n",
       "    .dataframe thead th {\n",
       "        text-align: right;\n",
       "    }\n",
       "</style>\n",
       "<table border=\"1\" class=\"dataframe\">\n",
       "  <thead>\n",
       "    <tr style=\"text-align: right;\">\n",
       "      <th></th>\n",
       "      <th>Unnamed: 0</th>\n",
       "      <th>Store</th>\n",
       "      <th>Dept</th>\n",
       "      <th>Weekly_Sales</th>\n",
       "      <th>IsHoliday</th>\n",
       "      <th>Temperature</th>\n",
       "      <th>Fuel_Price</th>\n",
       "      <th>MarkDown1</th>\n",
       "      <th>MarkDown2</th>\n",
       "      <th>MarkDown3</th>\n",
       "      <th>...</th>\n",
       "      <th>CPI</th>\n",
       "      <th>Unemployment</th>\n",
       "      <th>Size</th>\n",
       "      <th>Super_Bowl</th>\n",
       "      <th>Labor_Day</th>\n",
       "      <th>Thanksgiving</th>\n",
       "      <th>Christmas</th>\n",
       "      <th>week</th>\n",
       "      <th>month</th>\n",
       "      <th>year</th>\n",
       "    </tr>\n",
       "    <tr>\n",
       "      <th>Type</th>\n",
       "      <th></th>\n",
       "      <th></th>\n",
       "      <th></th>\n",
       "      <th></th>\n",
       "      <th></th>\n",
       "      <th></th>\n",
       "      <th></th>\n",
       "      <th></th>\n",
       "      <th></th>\n",
       "      <th></th>\n",
       "      <th></th>\n",
       "      <th></th>\n",
       "      <th></th>\n",
       "      <th></th>\n",
       "      <th></th>\n",
       "      <th></th>\n",
       "      <th></th>\n",
       "      <th></th>\n",
       "      <th></th>\n",
       "      <th></th>\n",
       "      <th></th>\n",
       "    </tr>\n",
       "  </thead>\n",
       "  <tbody>\n",
       "    <tr>\n",
       "      <th>A</th>\n",
       "      <td>206865.238011</td>\n",
       "      <td>21.732254</td>\n",
       "      <td>44.629328</td>\n",
       "      <td>20148.108162</td>\n",
       "      <td>0.070524</td>\n",
       "      <td>60.530719</td>\n",
       "      <td>3.343986</td>\n",
       "      <td>3102.948292</td>\n",
       "      <td>1081.680100</td>\n",
       "      <td>550.360522</td>\n",
       "      <td>...</td>\n",
       "      <td>174.385610</td>\n",
       "      <td>7.791458</td>\n",
       "      <td>182225.385098</td>\n",
       "      <td>0.021176</td>\n",
       "      <td>0.021115</td>\n",
       "      <td>0.014156</td>\n",
       "      <td>0.014077</td>\n",
       "      <td>25.827587</td>\n",
       "      <td>6.449886</td>\n",
       "      <td>2010.966664</td>\n",
       "    </tr>\n",
       "    <tr>\n",
       "      <th>B</th>\n",
       "      <td>175234.442548</td>\n",
       "      <td>18.440281</td>\n",
       "      <td>43.050864</td>\n",
       "      <td>12290.549297</td>\n",
       "      <td>0.070313</td>\n",
       "      <td>57.562528</td>\n",
       "      <td>3.382280</td>\n",
       "      <td>2552.850604</td>\n",
       "      <td>826.520020</td>\n",
       "      <td>482.164755</td>\n",
       "      <td>...</td>\n",
       "      <td>167.217590</td>\n",
       "      <td>7.928047</td>\n",
       "      <td>101796.844232</td>\n",
       "      <td>0.021132</td>\n",
       "      <td>0.020911</td>\n",
       "      <td>0.014203</td>\n",
       "      <td>0.014067</td>\n",
       "      <td>25.830963</td>\n",
       "      <td>6.450251</td>\n",
       "      <td>2010.967590</td>\n",
       "    </tr>\n",
       "    <tr>\n",
       "      <th>C</th>\n",
       "      <td>366430.678339</td>\n",
       "      <td>38.937382</td>\n",
       "      <td>46.840689</td>\n",
       "      <td>9549.454168</td>\n",
       "      <td>0.069565</td>\n",
       "      <td>67.554064</td>\n",
       "      <td>3.364466</td>\n",
       "      <td>138.971526</td>\n",
       "      <td>53.239898</td>\n",
       "      <td>5.145340</td>\n",
       "      <td>...</td>\n",
       "      <td>170.464163</td>\n",
       "      <td>8.935687</td>\n",
       "      <td>40536.097070</td>\n",
       "      <td>0.020747</td>\n",
       "      <td>0.020935</td>\n",
       "      <td>0.013918</td>\n",
       "      <td>0.013965</td>\n",
       "      <td>25.822768</td>\n",
       "      <td>6.448286</td>\n",
       "      <td>2010.980831</td>\n",
       "    </tr>\n",
       "  </tbody>\n",
       "</table>\n",
       "<p>3 rows × 22 columns</p>\n",
       "</div>"
      ],
      "text/plain": [
       "         Unnamed: 0      Store       Dept  Weekly_Sales  IsHoliday  \\\n",
       "Type                                                                 \n",
       "A     206865.238011  21.732254  44.629328  20148.108162   0.070524   \n",
       "B     175234.442548  18.440281  43.050864  12290.549297   0.070313   \n",
       "C     366430.678339  38.937382  46.840689   9549.454168   0.069565   \n",
       "\n",
       "      Temperature  Fuel_Price    MarkDown1    MarkDown2   MarkDown3  ...  \\\n",
       "Type                                                                 ...   \n",
       "A       60.530719    3.343986  3102.948292  1081.680100  550.360522  ...   \n",
       "B       57.562528    3.382280  2552.850604   826.520020  482.164755  ...   \n",
       "C       67.554064    3.364466   138.971526    53.239898    5.145340  ...   \n",
       "\n",
       "             CPI  Unemployment           Size  Super_Bowl  Labor_Day  \\\n",
       "Type                                                                   \n",
       "A     174.385610      7.791458  182225.385098    0.021176   0.021115   \n",
       "B     167.217590      7.928047  101796.844232    0.021132   0.020911   \n",
       "C     170.464163      8.935687   40536.097070    0.020747   0.020935   \n",
       "\n",
       "      Thanksgiving  Christmas       week     month         year  \n",
       "Type                                                             \n",
       "A         0.014156   0.014077  25.827587  6.449886  2010.966664  \n",
       "B         0.014203   0.014067  25.830963  6.450251  2010.967590  \n",
       "C         0.013918   0.013965  25.822768  6.448286  2010.980831  \n",
       "\n",
       "[3 rows x 22 columns]"
      ]
     },
     "metadata": {},
     "output_type": "display_data"
    }
   ],
   "source": [
    "#Group numeric features by each categorical feature.\n",
    "for column in df.select_dtypes(include='object'):\n",
    "    if df[column].nunique() < 10:\n",
    "        display(df.groupby(column).mean())"
   ]
  },
  {
   "cell_type": "code",
   "execution_count": 73,
   "metadata": {},
   "outputs": [
    {
     "data": {
      "image/png": "[encoded data removed]",
      "text/plain": [
       "<Figure size 720x576 with 2 Axes>"
      ]
     },
     "metadata": {
      "needs_background": "light"
     },
     "output_type": "display_data"
    }
   ],
   "source": [
    "## Artur: Representar correlaciones (mayor y menor) en tablas con variables seleccionadas\n",
    "\n",
    "# Correlation Map <-- Clean unrepresentative variables\n",
    "plt.figure(figsize=(10,8))\n",
    "sns.heatmap(df.corr(), cmap='RdBu_r', annot=True)\n",
    "plt.show()"
   ]
  },
  {
   "cell_type": "code",
   "execution_count": 74,
   "metadata": {},
   "outputs": [
    {
     "data": {
      "text/plain": [
       "Store\n",
       "1     68.229523\n",
       "2     68.112759\n",
       "3     71.291182\n",
       "4     62.175089\n",
       "5     69.197526\n",
       "6     69.661825\n",
       "7     39.614959\n",
       "8     62.446207\n",
       "9     67.648123\n",
       "10    72.134232\n",
       "11    72.460626\n",
       "12    70.151123\n",
       "13    53.589600\n",
       "14    57.784116\n",
       "15    51.744722\n",
       "16    44.990735\n",
       "17    46.353329\n",
       "18    53.267738\n",
       "19    52.207925\n",
       "20    55.341567\n",
       "21    68.778463\n",
       "22    54.850533\n",
       "23    48.777486\n",
       "24    53.977504\n",
       "25    52.113704\n",
       "26    43.624179\n",
       "27    57.304085\n",
       "28    70.164762\n",
       "29    54.866579\n",
       "30    68.791359\n",
       "31    68.812141\n",
       "32    52.692604\n",
       "33    76.806956\n",
       "34    58.413646\n",
       "35    57.297088\n",
       "36    71.194607\n",
       "37    71.245133\n",
       "38    70.368641\n",
       "39    70.584149\n",
       "40    47.589667\n",
       "41    48.393676\n",
       "42    72.267767\n",
       "43    68.872408\n",
       "44    53.899992\n",
       "45    57.772233\n",
       "Name: Temperature, dtype: float64"
      ]
     },
     "execution_count": 74,
     "metadata": {},
     "output_type": "execute_result"
    }
   ],
   "source": [
    "df.groupby('Store')['Temperature'].mean() # temperature by store"
   ]
  },
  {
   "cell_type": "code",
   "execution_count": 75,
   "metadata": {},
   "outputs": [
    {
     "data": {
      "text/html": [
       "<div>\n",
       "<style scoped>\n",
       "    .dataframe tbody tr th:only-of-type {\n",
       "        vertical-align: middle;\n",
       "    }\n",
       "\n",
       "    .dataframe tbody tr th {\n",
       "        vertical-align: top;\n",
       "    }\n",
       "\n",
       "    .dataframe thead th {\n",
       "        text-align: right;\n",
       "    }\n",
       "</style>\n",
       "<table border=\"1\" class=\"dataframe\">\n",
       "  <thead>\n",
       "    <tr style=\"text-align: right;\">\n",
       "      <th></th>\n",
       "      <th>Unnamed: 0</th>\n",
       "      <th>Store</th>\n",
       "      <th>Dept</th>\n",
       "      <th>Date</th>\n",
       "      <th>Weekly_Sales</th>\n",
       "      <th>IsHoliday</th>\n",
       "      <th>Temperature</th>\n",
       "      <th>Fuel_Price</th>\n",
       "      <th>MarkDown1</th>\n",
       "      <th>MarkDown2</th>\n",
       "      <th>...</th>\n",
       "      <th>Unemployment</th>\n",
       "      <th>Type</th>\n",
       "      <th>Size</th>\n",
       "      <th>Super_Bowl</th>\n",
       "      <th>Labor_Day</th>\n",
       "      <th>Thanksgiving</th>\n",
       "      <th>Christmas</th>\n",
       "      <th>week</th>\n",
       "      <th>month</th>\n",
       "      <th>year</th>\n",
       "    </tr>\n",
       "  </thead>\n",
       "  <tbody>\n",
       "    <tr>\n",
       "      <th>0</th>\n",
       "      <td>0</td>\n",
       "      <td>1</td>\n",
       "      <td>1</td>\n",
       "      <td>2010-02-05</td>\n",
       "      <td>24924.50</td>\n",
       "      <td>False</td>\n",
       "      <td>42.31</td>\n",
       "      <td>2.572</td>\n",
       "      <td>0.00</td>\n",
       "      <td>0.00</td>\n",
       "      <td>...</td>\n",
       "      <td>8.106</td>\n",
       "      <td>A</td>\n",
       "      <td>151315</td>\n",
       "      <td>False</td>\n",
       "      <td>False</td>\n",
       "      <td>False</td>\n",
       "      <td>False</td>\n",
       "      <td>5</td>\n",
       "      <td>2</td>\n",
       "      <td>2010</td>\n",
       "    </tr>\n",
       "    <tr>\n",
       "      <th>1</th>\n",
       "      <td>1</td>\n",
       "      <td>1</td>\n",
       "      <td>2</td>\n",
       "      <td>2010-02-05</td>\n",
       "      <td>50605.27</td>\n",
       "      <td>False</td>\n",
       "      <td>42.31</td>\n",
       "      <td>2.572</td>\n",
       "      <td>0.00</td>\n",
       "      <td>0.00</td>\n",
       "      <td>...</td>\n",
       "      <td>8.106</td>\n",
       "      <td>A</td>\n",
       "      <td>151315</td>\n",
       "      <td>False</td>\n",
       "      <td>False</td>\n",
       "      <td>False</td>\n",
       "      <td>False</td>\n",
       "      <td>5</td>\n",
       "      <td>2</td>\n",
       "      <td>2010</td>\n",
       "    </tr>\n",
       "    <tr>\n",
       "      <th>2</th>\n",
       "      <td>2</td>\n",
       "      <td>1</td>\n",
       "      <td>3</td>\n",
       "      <td>2010-02-05</td>\n",
       "      <td>13740.12</td>\n",
       "      <td>False</td>\n",
       "      <td>42.31</td>\n",
       "      <td>2.572</td>\n",
       "      <td>0.00</td>\n",
       "      <td>0.00</td>\n",
       "      <td>...</td>\n",
       "      <td>8.106</td>\n",
       "      <td>A</td>\n",
       "      <td>151315</td>\n",
       "      <td>False</td>\n",
       "      <td>False</td>\n",
       "      <td>False</td>\n",
       "      <td>False</td>\n",
       "      <td>5</td>\n",
       "      <td>2</td>\n",
       "      <td>2010</td>\n",
       "    </tr>\n",
       "    <tr>\n",
       "      <th>3</th>\n",
       "      <td>3</td>\n",
       "      <td>1</td>\n",
       "      <td>4</td>\n",
       "      <td>2010-02-05</td>\n",
       "      <td>39954.04</td>\n",
       "      <td>False</td>\n",
       "      <td>42.31</td>\n",
       "      <td>2.572</td>\n",
       "      <td>0.00</td>\n",
       "      <td>0.00</td>\n",
       "      <td>...</td>\n",
       "      <td>8.106</td>\n",
       "      <td>A</td>\n",
       "      <td>151315</td>\n",
       "      <td>False</td>\n",
       "      <td>False</td>\n",
       "      <td>False</td>\n",
       "      <td>False</td>\n",
       "      <td>5</td>\n",
       "      <td>2</td>\n",
       "      <td>2010</td>\n",
       "    </tr>\n",
       "    <tr>\n",
       "      <th>4</th>\n",
       "      <td>4</td>\n",
       "      <td>1</td>\n",
       "      <td>5</td>\n",
       "      <td>2010-02-05</td>\n",
       "      <td>32229.38</td>\n",
       "      <td>False</td>\n",
       "      <td>42.31</td>\n",
       "      <td>2.572</td>\n",
       "      <td>0.00</td>\n",
       "      <td>0.00</td>\n",
       "      <td>...</td>\n",
       "      <td>8.106</td>\n",
       "      <td>A</td>\n",
       "      <td>151315</td>\n",
       "      <td>False</td>\n",
       "      <td>False</td>\n",
       "      <td>False</td>\n",
       "      <td>False</td>\n",
       "      <td>5</td>\n",
       "      <td>2</td>\n",
       "      <td>2010</td>\n",
       "    </tr>\n",
       "    <tr>\n",
       "      <th>...</th>\n",
       "      <td>...</td>\n",
       "      <td>...</td>\n",
       "      <td>...</td>\n",
       "      <td>...</td>\n",
       "      <td>...</td>\n",
       "      <td>...</td>\n",
       "      <td>...</td>\n",
       "      <td>...</td>\n",
       "      <td>...</td>\n",
       "      <td>...</td>\n",
       "      <td>...</td>\n",
       "      <td>...</td>\n",
       "      <td>...</td>\n",
       "      <td>...</td>\n",
       "      <td>...</td>\n",
       "      <td>...</td>\n",
       "      <td>...</td>\n",
       "      <td>...</td>\n",
       "      <td>...</td>\n",
       "      <td>...</td>\n",
       "      <td>...</td>\n",
       "    </tr>\n",
       "    <tr>\n",
       "      <th>10221</th>\n",
       "      <td>10239</td>\n",
       "      <td>1</td>\n",
       "      <td>94</td>\n",
       "      <td>2012-10-26</td>\n",
       "      <td>60278.73</td>\n",
       "      <td>False</td>\n",
       "      <td>69.16</td>\n",
       "      <td>3.506</td>\n",
       "      <td>2585.85</td>\n",
       "      <td>31.75</td>\n",
       "      <td>...</td>\n",
       "      <td>6.573</td>\n",
       "      <td>A</td>\n",
       "      <td>151315</td>\n",
       "      <td>False</td>\n",
       "      <td>False</td>\n",
       "      <td>False</td>\n",
       "      <td>False</td>\n",
       "      <td>43</td>\n",
       "      <td>10</td>\n",
       "      <td>2012</td>\n",
       "    </tr>\n",
       "    <tr>\n",
       "      <th>10222</th>\n",
       "      <td>10240</td>\n",
       "      <td>1</td>\n",
       "      <td>95</td>\n",
       "      <td>2012-10-26</td>\n",
       "      <td>117375.38</td>\n",
       "      <td>False</td>\n",
       "      <td>69.16</td>\n",
       "      <td>3.506</td>\n",
       "      <td>2585.85</td>\n",
       "      <td>31.75</td>\n",
       "      <td>...</td>\n",
       "      <td>6.573</td>\n",
       "      <td>A</td>\n",
       "      <td>151315</td>\n",
       "      <td>False</td>\n",
       "      <td>False</td>\n",
       "      <td>False</td>\n",
       "      <td>False</td>\n",
       "      <td>43</td>\n",
       "      <td>10</td>\n",
       "      <td>2012</td>\n",
       "    </tr>\n",
       "    <tr>\n",
       "      <th>10223</th>\n",
       "      <td>10241</td>\n",
       "      <td>1</td>\n",
       "      <td>96</td>\n",
       "      <td>2012-10-26</td>\n",
       "      <td>36851.92</td>\n",
       "      <td>False</td>\n",
       "      <td>69.16</td>\n",
       "      <td>3.506</td>\n",
       "      <td>2585.85</td>\n",
       "      <td>31.75</td>\n",
       "      <td>...</td>\n",
       "      <td>6.573</td>\n",
       "      <td>A</td>\n",
       "      <td>151315</td>\n",
       "      <td>False</td>\n",
       "      <td>False</td>\n",
       "      <td>False</td>\n",
       "      <td>False</td>\n",
       "      <td>43</td>\n",
       "      <td>10</td>\n",
       "      <td>2012</td>\n",
       "    </tr>\n",
       "    <tr>\n",
       "      <th>10224</th>\n",
       "      <td>10242</td>\n",
       "      <td>1</td>\n",
       "      <td>97</td>\n",
       "      <td>2012-10-26</td>\n",
       "      <td>32830.52</td>\n",
       "      <td>False</td>\n",
       "      <td>69.16</td>\n",
       "      <td>3.506</td>\n",
       "      <td>2585.85</td>\n",
       "      <td>31.75</td>\n",
       "      <td>...</td>\n",
       "      <td>6.573</td>\n",
       "      <td>A</td>\n",
       "      <td>151315</td>\n",
       "      <td>False</td>\n",
       "      <td>False</td>\n",
       "      <td>False</td>\n",
       "      <td>False</td>\n",
       "      <td>43</td>\n",
       "      <td>10</td>\n",
       "      <td>2012</td>\n",
       "    </tr>\n",
       "    <tr>\n",
       "      <th>10225</th>\n",
       "      <td>10243</td>\n",
       "      <td>1</td>\n",
       "      <td>98</td>\n",
       "      <td>2012-10-26</td>\n",
       "      <td>12702.86</td>\n",
       "      <td>False</td>\n",
       "      <td>69.16</td>\n",
       "      <td>3.506</td>\n",
       "      <td>2585.85</td>\n",
       "      <td>31.75</td>\n",
       "      <td>...</td>\n",
       "      <td>6.573</td>\n",
       "      <td>A</td>\n",
       "      <td>151315</td>\n",
       "      <td>False</td>\n",
       "      <td>False</td>\n",
       "      <td>False</td>\n",
       "      <td>False</td>\n",
       "      <td>43</td>\n",
       "      <td>10</td>\n",
       "      <td>2012</td>\n",
       "    </tr>\n",
       "  </tbody>\n",
       "</table>\n",
       "<p>10226 rows × 24 columns</p>\n",
       "</div>"
      ],
      "text/plain": [
       "       Unnamed: 0  Store  Dept       Date  Weekly_Sales  IsHoliday  \\\n",
       "0               0      1     1 2010-02-05      24924.50      False   \n",
       "1               1      1     2 2010-02-05      50605.27      False   \n",
       "2               2      1     3 2010-02-05      13740.12      False   \n",
       "3               3      1     4 2010-02-05      39954.04      False   \n",
       "4               4      1     5 2010-02-05      32229.38      False   \n",
       "...           ...    ...   ...        ...           ...        ...   \n",
       "10221       10239      1    94 2012-10-26      60278.73      False   \n",
       "10222       10240      1    95 2012-10-26     117375.38      False   \n",
       "10223       10241      1    96 2012-10-26      36851.92      False   \n",
       "10224       10242      1    97 2012-10-26      32830.52      False   \n",
       "10225       10243      1    98 2012-10-26      12702.86      False   \n",
       "\n",
       "       Temperature  Fuel_Price  MarkDown1  MarkDown2  ...  Unemployment  Type  \\\n",
       "0            42.31       2.572       0.00       0.00  ...         8.106     A   \n",
       "1            42.31       2.572       0.00       0.00  ...         8.106     A   \n",
       "2            42.31       2.572       0.00       0.00  ...         8.106     A   \n",
       "3            42.31       2.572       0.00       0.00  ...         8.106     A   \n",
       "4            42.31       2.572       0.00       0.00  ...         8.106     A   \n",
       "...            ...         ...        ...        ...  ...           ...   ...   \n",
       "10221        69.16       3.506    2585.85      31.75  ...         6.573     A   \n",
       "10222        69.16       3.506    2585.85      31.75  ...         6.573     A   \n",
       "10223        69.16       3.506    2585.85      31.75  ...         6.573     A   \n",
       "10224        69.16       3.506    2585.85      31.75  ...         6.573     A   \n",
       "10225        69.16       3.506    2585.85      31.75  ...         6.573     A   \n",
       "\n",
       "         Size  Super_Bowl  Labor_Day Thanksgiving  Christmas  week  month  \\\n",
       "0      151315       False      False        False      False     5      2   \n",
       "1      151315       False      False        False      False     5      2   \n",
       "2      151315       False      False        False      False     5      2   \n",
       "3      151315       False      False        False      False     5      2   \n",
       "4      151315       False      False        False      False     5      2   \n",
       "...       ...         ...        ...          ...        ...   ...    ...   \n",
       "10221  151315       False      False        False      False    43     10   \n",
       "10222  151315       False      False        False      False    43     10   \n",
       "10223  151315       False      False        False      False    43     10   \n",
       "10224  151315       False      False        False      False    43     10   \n",
       "10225  151315       False      False        False      False    43     10   \n",
       "\n",
       "       year  \n",
       "0      2010  \n",
       "1      2010  \n",
       "2      2010  \n",
       "3      2010  \n",
       "4      2010  \n",
       "...     ...  \n",
       "10221  2012  \n",
       "10222  2012  \n",
       "10223  2012  \n",
       "10224  2012  \n",
       "10225  2012  \n",
       "\n",
       "[10226 rows x 24 columns]"
      ]
     },
     "execution_count": 75,
     "metadata": {},
     "output_type": "execute_result"
    }
   ],
   "source": [
    "df.loc[df['Store'] == 1] # size constant through stores"
   ]
  },
  {
   "cell_type": "code",
   "execution_count": 76,
   "metadata": {},
   "outputs": [
    {
     "data": {
      "text/plain": [
       "Store\n",
       "1     151315.0\n",
       "2     202307.0\n",
       "3      37392.0\n",
       "4     205863.0\n",
       "5      34875.0\n",
       "6     202505.0\n",
       "7      70713.0\n",
       "8     155078.0\n",
       "9     125833.0\n",
       "10    126512.0\n",
       "11    207499.0\n",
       "12    112238.0\n",
       "13    219622.0\n",
       "14    200898.0\n",
       "15    123737.0\n",
       "16     57197.0\n",
       "17     93188.0\n",
       "18    120653.0\n",
       "19    203819.0\n",
       "20    203742.0\n",
       "21    140167.0\n",
       "22    119557.0\n",
       "23    114533.0\n",
       "24    203819.0\n",
       "25    128107.0\n",
       "26    152513.0\n",
       "27    204184.0\n",
       "28    206302.0\n",
       "29     93638.0\n",
       "30     42988.0\n",
       "31    203750.0\n",
       "32    203007.0\n",
       "33     39690.0\n",
       "34    158114.0\n",
       "35    103681.0\n",
       "36     39910.0\n",
       "37     39910.0\n",
       "38     39690.0\n",
       "39    184109.0\n",
       "40    155083.0\n",
       "41    196321.0\n",
       "42     39690.0\n",
       "43     41062.0\n",
       "44     39910.0\n",
       "45    118221.0\n",
       "Name: Size, dtype: float64"
      ]
     },
     "execution_count": 76,
     "metadata": {},
     "output_type": "execute_result"
    }
   ],
   "source": [
    "df.groupby('Store')['Size'].mean() # temperature by store"
   ]
  },
  {
   "cell_type": "code",
   "execution_count": 77,
   "metadata": {},
   "outputs": [],
   "source": [
    "#TO DO: Add PowerBI Viz "
   ]
  },
  {
   "cell_type": "code",
   "execution_count": 78,
   "metadata": {},
   "outputs": [],
   "source": [
    "#print('rows =', df.shape[0], ', columns =' ,df.shape[1]) # dataset shape\n",
    "#df.columns #dataset columns\n",
    "#df.sample(10) #df sample size 10\n",
    "#df.info() # datatypes and null count\n",
    "#df['Unnamed: 0'].duplicated().sum() # The Unnamed: 0 is the ID, no duplicates are expected\n",
    "#df[df.duplicated('Unnamed: 0')] # no duplicates in ID confirmed\n",
    "#df.describe() #quick stats summary"
   ]
  },
  {
   "cell_type": "code",
   "execution_count": 79,
   "metadata": {},
   "outputs": [
    {
     "data": {
      "text/plain": [
       "Unnamed: 0      0.0\n",
       "Store           0.0\n",
       "month           0.0\n",
       "week            0.0\n",
       "Christmas       0.0\n",
       "Thanksgiving    0.0\n",
       "Labor_Day       0.0\n",
       "Super_Bowl      0.0\n",
       "Size            0.0\n",
       "Type            0.0\n",
       "Unemployment    0.0\n",
       "CPI             0.0\n",
       "MarkDown5       0.0\n",
       "MarkDown4       0.0\n",
       "MarkDown3       0.0\n",
       "MarkDown2       0.0\n",
       "MarkDown1       0.0\n",
       "Fuel_Price      0.0\n",
       "Temperature     0.0\n",
       "IsHoliday       0.0\n",
       "Weekly_Sales    0.0\n",
       "Date            0.0\n",
       "Dept            0.0\n",
       "year            0.0\n",
       "dtype: float64"
      ]
     },
     "execution_count": 79,
     "metadata": {},
     "output_type": "execute_result"
    }
   ],
   "source": [
    "round(df.isnull().sum().sort_values(ascending=False)*100/len(df), 4) # Porcentaje Descendente de Nulos por Columna\n",
    "#df.isnull().sum().sort_values(ascending=False) # Conteo Descendente de Nulos por Columna"
   ]
  },
  {
   "cell_type": "markdown",
   "metadata": {},
   "source": [
    "# 3. Tables Creation"
   ]
  },
  {
   "cell_type": "markdown",
   "metadata": {},
   "source": [
    "### 3.1 Tabla: Total de Ventas por Tienda"
   ]
  },
  {
   "cell_type": "code",
   "execution_count": 80,
   "metadata": {},
   "outputs": [
    {
     "data": {
      "text/html": [
       "<div>\n",
       "<style scoped>\n",
       "    .dataframe tbody tr th:only-of-type {\n",
       "        vertical-align: middle;\n",
       "    }\n",
       "\n",
       "    .dataframe tbody tr th {\n",
       "        vertical-align: top;\n",
       "    }\n",
       "\n",
       "    .dataframe thead th {\n",
       "        text-align: right;\n",
       "    }\n",
       "</style>\n",
       "<table border=\"1\" class=\"dataframe\">\n",
       "  <thead>\n",
       "    <tr style=\"text-align: right;\">\n",
       "      <th></th>\n",
       "      <th>Store</th>\n",
       "      <th>Total_Sales</th>\n",
       "    </tr>\n",
       "  </thead>\n",
       "  <tbody>\n",
       "    <tr>\n",
       "      <th>0</th>\n",
       "      <td>20</td>\n",
       "      <td>$301,401,381.45</td>\n",
       "    </tr>\n",
       "  </tbody>\n",
       "</table>\n",
       "</div>"
      ],
      "text/plain": [
       "   Store      Total_Sales\n",
       "0     20  $301,401,381.45"
      ]
     },
     "execution_count": 80,
     "metadata": {},
     "output_type": "execute_result"
    }
   ],
   "source": [
    "TOTAL_SALES_BY_STORE = df.groupby('Store', sort=False)[\"Weekly_Sales\"].sum().reset_index(name ='Total_Sales')\n",
    "#TOTAL_SALES_BY_STORE.head(10)\n",
    "\n",
    "# Uncomment to get Table in Currency Format\n",
    "#TOTAL_SALES_BY_STORE_STR = df.groupby('Store', sort=False)[\"Weekly_Sales\"].sum().reset_index(name ='Total_Sales')\n",
    "#TOTAL_SALES_BY_STORE_STR['Total_Sales'] = TOTAL_SALES_BY_STORE['Total_Sales'].map(\"${:,.2f}\".format) # formato moneda\n",
    "#TOTAL_SALES_BY_STORE_STR.head(10)\n",
    "\n",
    "TOP10_SALES_STORES = TOTAL_SALES_BY_STORE.sort_values(by=['Total_Sales'], ascending=False).reset_index(drop=True).head(10)\n",
    "TOP1_SALES_STORE = TOTAL_SALES_BY_STORE.sort_values(by=['Total_Sales'], ascending=False).reset_index(drop=True).head(1) # top n=1 tiendas con más ventas\n",
    "TOP1_SALES_STORE['Total_Sales'] = TOP1_SALES_STORE['Total_Sales'].map(\"${:,.2f}\".format)\n",
    "TOP1_SALES_STORE"
   ]
  },
  {
   "cell_type": "markdown",
   "metadata": {},
   "source": [
    "### 3.2 Tablas: Varianza por Tienda y Desviación Estándar por Tienda"
   ]
  },
  {
   "cell_type": "code",
   "execution_count": 81,
   "metadata": {},
   "outputs": [
    {
     "data": {
      "text/html": [
       "<div>\n",
       "<style scoped>\n",
       "    .dataframe tbody tr th:only-of-type {\n",
       "        vertical-align: middle;\n",
       "    }\n",
       "\n",
       "    .dataframe tbody tr th {\n",
       "        vertical-align: top;\n",
       "    }\n",
       "\n",
       "    .dataframe thead th {\n",
       "        text-align: right;\n",
       "    }\n",
       "</style>\n",
       "<table border=\"1\" class=\"dataframe\">\n",
       "  <thead>\n",
       "    <tr style=\"text-align: right;\">\n",
       "      <th></th>\n",
       "      <th>Store</th>\n",
       "      <th>Sales_STD</th>\n",
       "    </tr>\n",
       "  </thead>\n",
       "  <tbody>\n",
       "    <tr>\n",
       "      <th>0</th>\n",
       "      <td>14</td>\n",
       "      <td>$36,936.12</td>\n",
       "    </tr>\n",
       "  </tbody>\n",
       "</table>\n",
       "</div>"
      ],
      "text/plain": [
       "   Store   Sales_STD\n",
       "0     14  $36,936.12"
      ]
     },
     "execution_count": 81,
     "metadata": {},
     "output_type": "execute_result"
    }
   ],
   "source": [
    "VARIANCE_BY_STORE = df.groupby('Store', sort=False)[\"Weekly_Sales\"].var().reset_index(name ='Sales_Variance')\n",
    "STD_BY_STORE = df.groupby('Store', sort=False)[\"Weekly_Sales\"].std().reset_index(name ='Sales_STD')# efectivo: sacar raiz a varianza\n",
    "\n",
    "#VARIANCE_BY_STORE.head(10)\n",
    "#STD_BY_STORE.head(10)\n",
    "\n",
    "TOP1_STD_BY_STORE = STD_BY_STORE.sort_values(by=['Sales_STD'], ascending=False).reset_index(drop=True).head(1) # top n=1 tiendas con más ventas\n",
    "TOP1_STD_BY_STORE['Sales_STD'] = TOP1_STD_BY_STORE['Sales_STD'].map(\"${:,.2f}\".format)\n",
    "TOP1_STD_BY_STORE"
   ]
  },
  {
   "cell_type": "markdown",
   "metadata": {},
   "source": [
    "### 3.3 Coeficiente de Variación Medio"
   ]
  },
  {
   "cell_type": "code",
   "execution_count": 82,
   "metadata": {},
   "outputs": [
    {
     "data": {
      "text/html": [
       "<div>\n",
       "<style scoped>\n",
       "    .dataframe tbody tr th:only-of-type {\n",
       "        vertical-align: middle;\n",
       "    }\n",
       "\n",
       "    .dataframe tbody tr th {\n",
       "        vertical-align: top;\n",
       "    }\n",
       "\n",
       "    .dataframe thead th {\n",
       "        text-align: right;\n",
       "    }\n",
       "</style>\n",
       "<table border=\"1\" class=\"dataframe\">\n",
       "  <thead>\n",
       "    <tr style=\"text-align: right;\">\n",
       "      <th></th>\n",
       "      <th>Store</th>\n",
       "      <th>Coefficient_of_Variation</th>\n",
       "    </tr>\n",
       "  </thead>\n",
       "  <tbody>\n",
       "    <tr>\n",
       "      <th>0</th>\n",
       "      <td>3</td>\n",
       "      <td>$331.28</td>\n",
       "    </tr>\n",
       "    <tr>\n",
       "      <th>1</th>\n",
       "      <td>44</td>\n",
       "      <td>$265.03</td>\n",
       "    </tr>\n",
       "    <tr>\n",
       "      <th>2</th>\n",
       "      <td>38</td>\n",
       "      <td>$258.57</td>\n",
       "    </tr>\n",
       "    <tr>\n",
       "      <th>3</th>\n",
       "      <td>30</td>\n",
       "      <td>$251.08</td>\n",
       "    </tr>\n",
       "    <tr>\n",
       "      <th>4</th>\n",
       "      <td>5</td>\n",
       "      <td>$246.31</td>\n",
       "    </tr>\n",
       "    <tr>\n",
       "      <th>5</th>\n",
       "      <td>42</td>\n",
       "      <td>$244.80</td>\n",
       "    </tr>\n",
       "    <tr>\n",
       "      <th>6</th>\n",
       "      <td>37</td>\n",
       "      <td>$243.93</td>\n",
       "    </tr>\n",
       "    <tr>\n",
       "      <th>7</th>\n",
       "      <td>33</td>\n",
       "      <td>$241.23</td>\n",
       "    </tr>\n",
       "    <tr>\n",
       "      <th>8</th>\n",
       "      <td>43</td>\n",
       "      <td>$239.68</td>\n",
       "    </tr>\n",
       "    <tr>\n",
       "      <th>9</th>\n",
       "      <td>36</td>\n",
       "      <td>$234.56</td>\n",
       "    </tr>\n",
       "  </tbody>\n",
       "</table>\n",
       "</div>"
      ],
      "text/plain": [
       "   Store Coefficient_of_Variation\n",
       "0      3                  $331.28\n",
       "1     44                  $265.03\n",
       "2     38                  $258.57\n",
       "3     30                  $251.08\n",
       "4      5                  $246.31\n",
       "5     42                  $244.80\n",
       "6     37                  $243.93\n",
       "7     33                  $241.23\n",
       "8     43                  $239.68\n",
       "9     36                  $234.56"
      ]
     },
     "execution_count": 82,
     "metadata": {},
     "output_type": "execute_result"
    }
   ],
   "source": [
    "cv = lambda x: np.std(x.values) / np.mean(x.values) * 100\n",
    "CV_BY_STORE = df[[\"Store\",\"Weekly_Sales\"]].groupby(\"Store\").apply(cv).reset_index(name ='Coefficient_of_Variation')\n",
    "\n",
    "TOP10_CV_BY_STORE = CV_BY_STORE.sort_values(by=['Coefficient_of_Variation'], ascending=False).reset_index(drop=True).head(10) # top n=1 tiendas con más ventas\n",
    "TOP10_CV_BY_STORE['Coefficient_of_Variation'] = TOP10_CV_BY_STORE['Coefficient_of_Variation'].map(\"${:,.2f}\".format)\n",
    "TOP10_CV_BY_STORE\n",
    "\n",
    "#CV_BY_STORE['Coefficient_of_Variation'].mean() # Promedio de Coeficiente de Variación"
   ]
  },
  {
   "cell_type": "markdown",
   "metadata": {},
   "source": [
    "### 3.4 Vista Mensual, Trimestral y Semestral de Ventas Totales y por Tienda "
   ]
  },
  {
   "cell_type": "code",
   "execution_count": 83,
   "metadata": {},
   "outputs": [],
   "source": [
    "TOTAL_SALES_BY_MONTH = pd.DataFrame(df.set_index('Date')['Weekly_Sales'].resample('M').sum().reset_index(name ='Monthly_Sales'))\n",
    "TOTAL_SALES_BY_QUARTER = pd.DataFrame(df.set_index('Date')['Weekly_Sales'].resample('Q').sum().reset_index(name ='Quarterly_Sales'))\n",
    "TOTAL_SALES_BY_SEMESTER = pd.DataFrame(df.set_index('Date')['Weekly_Sales'].resample('2BQ').sum().reset_index(name ='Semester_Sales'))\n",
    "\n",
    "#TOTAL_SALES_BY_MONTH.head(10)\n",
    "#TOTAL_SALES_BY_QUARTER.head(10)\n",
    "#TOTAL_SALES_BY_SEMESTER.head(10)\n",
    "\n",
    "MONTHLY_SALES_BY_STORE = df.set_index(\"Date\").groupby([pd.Grouper(freq=\"M\"), \"Store\"])['Weekly_Sales'].sum().reset_index().rename(columns = {'Weekly_Sales':'Total_Sales'})\n",
    "QUARTERLY_SALES_BY_STORE = df.set_index(\"Date\").groupby([pd.Grouper(freq=\"Q\"), \"Store\"])['Weekly_Sales'].sum().reset_index().rename(columns = {'Weekly_Sales':'Total_Sales'})\n",
    "SEMESTER_SALES_BY_STORE = df.set_index(\"Date\").groupby([pd.Grouper(freq=\"2BQ\"), \"Store\"])['Weekly_Sales'].sum().reset_index().rename(columns = {'Weekly_Sales':'Total_Sales'})\n",
    "\n",
    "#MONTHLY_SALES_BY_STORE\n",
    "#SEMESTER_SALES_BY_STORE.head(20)\n",
    "#MONTHLY_SALES_BY_STORE['Date'].max()\n",
    "#MONTHLY_SALES_BY_STORE['Date'].min()\n",
    "# MONTHLY_SALES_BY_STORE['Date'].sort_values(ascending=True)"
   ]
  },
  {
   "cell_type": "code",
   "execution_count": 84,
   "metadata": {},
   "outputs": [],
   "source": [
    "WEEKLY_SALES_BY_STORE = df.set_index(\"Date\").groupby([pd.Grouper(freq=\"W\"), \"Store\"])['Weekly_Sales'].sum().reset_index().rename(columns = {'Weekly_Sales':'Total_Sales'})"
   ]
  },
  {
   "cell_type": "code",
   "execution_count": 85,
   "metadata": {},
   "outputs": [
    {
     "data": {
      "text/html": [
       "<div>\n",
       "<style scoped>\n",
       "    .dataframe tbody tr th:only-of-type {\n",
       "        vertical-align: middle;\n",
       "    }\n",
       "\n",
       "    .dataframe tbody tr th {\n",
       "        vertical-align: top;\n",
       "    }\n",
       "\n",
       "    .dataframe thead th {\n",
       "        text-align: right;\n",
       "    }\n",
       "</style>\n",
       "<table border=\"1\" class=\"dataframe\">\n",
       "  <thead>\n",
       "    <tr style=\"text-align: right;\">\n",
       "      <th></th>\n",
       "      <th>Date</th>\n",
       "      <th>Store</th>\n",
       "      <th>Total_Sales</th>\n",
       "    </tr>\n",
       "  </thead>\n",
       "  <tbody>\n",
       "    <tr>\n",
       "      <th>0</th>\n",
       "      <td>2010-02-07</td>\n",
       "      <td>1</td>\n",
       "      <td>1643690.90</td>\n",
       "    </tr>\n",
       "    <tr>\n",
       "      <th>1</th>\n",
       "      <td>2010-02-07</td>\n",
       "      <td>2</td>\n",
       "      <td>2136989.46</td>\n",
       "    </tr>\n",
       "    <tr>\n",
       "      <th>2</th>\n",
       "      <td>2010-02-07</td>\n",
       "      <td>3</td>\n",
       "      <td>461622.22</td>\n",
       "    </tr>\n",
       "    <tr>\n",
       "      <th>3</th>\n",
       "      <td>2010-02-07</td>\n",
       "      <td>4</td>\n",
       "      <td>2135143.87</td>\n",
       "    </tr>\n",
       "    <tr>\n",
       "      <th>4</th>\n",
       "      <td>2010-02-07</td>\n",
       "      <td>5</td>\n",
       "      <td>317173.10</td>\n",
       "    </tr>\n",
       "    <tr>\n",
       "      <th>...</th>\n",
       "      <td>...</td>\n",
       "      <td>...</td>\n",
       "      <td>...</td>\n",
       "    </tr>\n",
       "    <tr>\n",
       "      <th>6430</th>\n",
       "      <td>2012-10-28</td>\n",
       "      <td>41</td>\n",
       "      <td>1316542.59</td>\n",
       "    </tr>\n",
       "    <tr>\n",
       "      <th>6431</th>\n",
       "      <td>2012-10-28</td>\n",
       "      <td>42</td>\n",
       "      <td>514758.55</td>\n",
       "    </tr>\n",
       "    <tr>\n",
       "      <th>6432</th>\n",
       "      <td>2012-10-28</td>\n",
       "      <td>43</td>\n",
       "      <td>587603.55</td>\n",
       "    </tr>\n",
       "    <tr>\n",
       "      <th>6433</th>\n",
       "      <td>2012-10-28</td>\n",
       "      <td>44</td>\n",
       "      <td>361067.07</td>\n",
       "    </tr>\n",
       "    <tr>\n",
       "      <th>6434</th>\n",
       "      <td>2012-10-28</td>\n",
       "      <td>45</td>\n",
       "      <td>760281.43</td>\n",
       "    </tr>\n",
       "  </tbody>\n",
       "</table>\n",
       "<p>6435 rows × 3 columns</p>\n",
       "</div>"
      ],
      "text/plain": [
       "           Date  Store  Total_Sales\n",
       "0    2010-02-07      1   1643690.90\n",
       "1    2010-02-07      2   2136989.46\n",
       "2    2010-02-07      3    461622.22\n",
       "3    2010-02-07      4   2135143.87\n",
       "4    2010-02-07      5    317173.10\n",
       "...         ...    ...          ...\n",
       "6430 2012-10-28     41   1316542.59\n",
       "6431 2012-10-28     42    514758.55\n",
       "6432 2012-10-28     43    587603.55\n",
       "6433 2012-10-28     44    361067.07\n",
       "6434 2012-10-28     45    760281.43\n",
       "\n",
       "[6435 rows x 3 columns]"
      ]
     },
     "execution_count": 85,
     "metadata": {},
     "output_type": "execute_result"
    }
   ],
   "source": [
    "WEEKLY_SALES_BY_STORE"
   ]
  },
  {
   "cell_type": "code",
   "execution_count": 86,
   "metadata": {},
   "outputs": [
    {
     "data": {
      "text/html": [
       "<div>\n",
       "<style scoped>\n",
       "    .dataframe tbody tr th:only-of-type {\n",
       "        vertical-align: middle;\n",
       "    }\n",
       "\n",
       "    .dataframe tbody tr th {\n",
       "        vertical-align: top;\n",
       "    }\n",
       "\n",
       "    .dataframe thead th {\n",
       "        text-align: right;\n",
       "    }\n",
       "</style>\n",
       "<table border=\"1\" class=\"dataframe\">\n",
       "  <thead>\n",
       "    <tr style=\"text-align: right;\">\n",
       "      <th></th>\n",
       "      <th>Date</th>\n",
       "      <th>Store</th>\n",
       "      <th>Total_Sales</th>\n",
       "    </tr>\n",
       "  </thead>\n",
       "  <tbody>\n",
       "    <tr>\n",
       "      <th>0</th>\n",
       "      <td>2010-02-28</td>\n",
       "      <td>1</td>\n",
       "      <td>6308207.10</td>\n",
       "    </tr>\n",
       "    <tr>\n",
       "      <th>1</th>\n",
       "      <td>2010-02-28</td>\n",
       "      <td>2</td>\n",
       "      <td>8264347.77</td>\n",
       "    </tr>\n",
       "    <tr>\n",
       "      <th>2</th>\n",
       "      <td>2010-02-28</td>\n",
       "      <td>3</td>\n",
       "      <td>1711198.23</td>\n",
       "    </tr>\n",
       "    <tr>\n",
       "      <th>3</th>\n",
       "      <td>2010-02-28</td>\n",
       "      <td>4</td>\n",
       "      <td>8299040.36</td>\n",
       "    </tr>\n",
       "    <tr>\n",
       "      <th>4</th>\n",
       "      <td>2010-02-28</td>\n",
       "      <td>5</td>\n",
       "      <td>1202728.00</td>\n",
       "    </tr>\n",
       "    <tr>\n",
       "      <th>...</th>\n",
       "      <td>...</td>\n",
       "      <td>...</td>\n",
       "      <td>...</td>\n",
       "    </tr>\n",
       "    <tr>\n",
       "      <th>1480</th>\n",
       "      <td>2012-10-31</td>\n",
       "      <td>41</td>\n",
       "      <td>5452445.75</td>\n",
       "    </tr>\n",
       "    <tr>\n",
       "      <th>1481</th>\n",
       "      <td>2012-10-31</td>\n",
       "      <td>42</td>\n",
       "      <td>2261906.96</td>\n",
       "    </tr>\n",
       "    <tr>\n",
       "      <th>1482</th>\n",
       "      <td>2012-10-31</td>\n",
       "      <td>43</td>\n",
       "      <td>2473507.39</td>\n",
       "    </tr>\n",
       "    <tr>\n",
       "      <th>1483</th>\n",
       "      <td>2012-10-31</td>\n",
       "      <td>44</td>\n",
       "      <td>1360020.41</td>\n",
       "    </tr>\n",
       "    <tr>\n",
       "      <th>1484</th>\n",
       "      <td>2012-10-31</td>\n",
       "      <td>45</td>\n",
       "      <td>2946326.39</td>\n",
       "    </tr>\n",
       "  </tbody>\n",
       "</table>\n",
       "<p>1485 rows × 3 columns</p>\n",
       "</div>"
      ],
      "text/plain": [
       "           Date  Store  Total_Sales\n",
       "0    2010-02-28      1   6308207.10\n",
       "1    2010-02-28      2   8264347.77\n",
       "2    2010-02-28      3   1711198.23\n",
       "3    2010-02-28      4   8299040.36\n",
       "4    2010-02-28      5   1202728.00\n",
       "...         ...    ...          ...\n",
       "1480 2012-10-31     41   5452445.75\n",
       "1481 2012-10-31     42   2261906.96\n",
       "1482 2012-10-31     43   2473507.39\n",
       "1483 2012-10-31     44   1360020.41\n",
       "1484 2012-10-31     45   2946326.39\n",
       "\n",
       "[1485 rows x 3 columns]"
      ]
     },
     "execution_count": 86,
     "metadata": {},
     "output_type": "execute_result"
    }
   ],
   "source": [
    "MONTHLY_SALES_BY_STORE"
   ]
  },
  {
   "cell_type": "markdown",
   "metadata": {},
   "source": [
    "### 3.5 Vista Mensual, Trimestral y Semestral de Ventas Totales y por Tienda con Tasa de Crecimiento"
   ]
  },
  {
   "cell_type": "code",
   "execution_count": 87,
   "metadata": {},
   "outputs": [],
   "source": [
    "MONTHLY_SALES_BY_STORE_W_RATE = MONTHLY_SALES_BY_STORE.assign(Growth_Rate=MONTHLY_SALES_BY_STORE['Total_Sales'].pct_change())\n",
    "QUARTERLY_SALES_BY_STORE_W_RATE = QUARTERLY_SALES_BY_STORE.assign(Growth_Rate=QUARTERLY_SALES_BY_STORE['Total_Sales'].pct_change())\n",
    "SEMESTER_SALES_BY_STORE_W_RATE = SEMESTER_SALES_BY_STORE.assign(Growth_Rate=SEMESTER_SALES_BY_STORE['Total_Sales'].pct_change())\n",
    "\n",
    "#MONTHLY_SALES_BY_STORE_W_RATE"
   ]
  },
  {
   "cell_type": "code",
   "execution_count": 88,
   "metadata": {},
   "outputs": [
    {
     "data": {
      "text/html": [
       "<div>\n",
       "<style scoped>\n",
       "    .dataframe tbody tr th:only-of-type {\n",
       "        vertical-align: middle;\n",
       "    }\n",
       "\n",
       "    .dataframe tbody tr th {\n",
       "        vertical-align: top;\n",
       "    }\n",
       "\n",
       "    .dataframe thead th {\n",
       "        text-align: right;\n",
       "    }\n",
       "</style>\n",
       "<table border=\"1\" class=\"dataframe\">\n",
       "  <thead>\n",
       "    <tr style=\"text-align: right;\">\n",
       "      <th></th>\n",
       "      <th>Date</th>\n",
       "      <th>Store</th>\n",
       "      <th>Total_Sales</th>\n",
       "      <th>Growth_Rate</th>\n",
       "    </tr>\n",
       "  </thead>\n",
       "  <tbody>\n",
       "    <tr>\n",
       "      <th>0</th>\n",
       "      <td>2010-02-28</td>\n",
       "      <td>1</td>\n",
       "      <td>6308207.10</td>\n",
       "      <td>NaN</td>\n",
       "    </tr>\n",
       "    <tr>\n",
       "      <th>1</th>\n",
       "      <td>2010-02-28</td>\n",
       "      <td>2</td>\n",
       "      <td>8264347.77</td>\n",
       "      <td>0.310095</td>\n",
       "    </tr>\n",
       "    <tr>\n",
       "      <th>2</th>\n",
       "      <td>2010-02-28</td>\n",
       "      <td>3</td>\n",
       "      <td>1711198.23</td>\n",
       "      <td>-0.792942</td>\n",
       "    </tr>\n",
       "    <tr>\n",
       "      <th>3</th>\n",
       "      <td>2010-02-28</td>\n",
       "      <td>4</td>\n",
       "      <td>8299040.36</td>\n",
       "      <td>3.849842</td>\n",
       "    </tr>\n",
       "    <tr>\n",
       "      <th>4</th>\n",
       "      <td>2010-02-28</td>\n",
       "      <td>5</td>\n",
       "      <td>1202728.00</td>\n",
       "      <td>-0.855076</td>\n",
       "    </tr>\n",
       "    <tr>\n",
       "      <th>...</th>\n",
       "      <td>...</td>\n",
       "      <td>...</td>\n",
       "      <td>...</td>\n",
       "      <td>...</td>\n",
       "    </tr>\n",
       "    <tr>\n",
       "      <th>1480</th>\n",
       "      <td>2012-10-31</td>\n",
       "      <td>41</td>\n",
       "      <td>5452445.75</td>\n",
       "      <td>0.401271</td>\n",
       "    </tr>\n",
       "    <tr>\n",
       "      <th>1481</th>\n",
       "      <td>2012-10-31</td>\n",
       "      <td>42</td>\n",
       "      <td>2261906.96</td>\n",
       "      <td>-0.585157</td>\n",
       "    </tr>\n",
       "    <tr>\n",
       "      <th>1482</th>\n",
       "      <td>2012-10-31</td>\n",
       "      <td>43</td>\n",
       "      <td>2473507.39</td>\n",
       "      <td>0.093550</td>\n",
       "    </tr>\n",
       "    <tr>\n",
       "      <th>1483</th>\n",
       "      <td>2012-10-31</td>\n",
       "      <td>44</td>\n",
       "      <td>1360020.41</td>\n",
       "      <td>-0.450165</td>\n",
       "    </tr>\n",
       "    <tr>\n",
       "      <th>1484</th>\n",
       "      <td>2012-10-31</td>\n",
       "      <td>45</td>\n",
       "      <td>2946326.39</td>\n",
       "      <td>1.166384</td>\n",
       "    </tr>\n",
       "  </tbody>\n",
       "</table>\n",
       "<p>1485 rows × 4 columns</p>\n",
       "</div>"
      ],
      "text/plain": [
       "           Date  Store  Total_Sales  Growth_Rate\n",
       "0    2010-02-28      1   6308207.10          NaN\n",
       "1    2010-02-28      2   8264347.77     0.310095\n",
       "2    2010-02-28      3   1711198.23    -0.792942\n",
       "3    2010-02-28      4   8299040.36     3.849842\n",
       "4    2010-02-28      5   1202728.00    -0.855076\n",
       "...         ...    ...          ...          ...\n",
       "1480 2012-10-31     41   5452445.75     0.401271\n",
       "1481 2012-10-31     42   2261906.96    -0.585157\n",
       "1482 2012-10-31     43   2473507.39     0.093550\n",
       "1483 2012-10-31     44   1360020.41    -0.450165\n",
       "1484 2012-10-31     45   2946326.39     1.166384\n",
       "\n",
       "[1485 rows x 4 columns]"
      ]
     },
     "execution_count": 88,
     "metadata": {},
     "output_type": "execute_result"
    }
   ],
   "source": [
    "MONTHLY_SALES_BY_STORE_W_RATE"
   ]
  },
  {
   "cell_type": "code",
   "execution_count": 89,
   "metadata": {},
   "outputs": [
    {
     "data": {
      "text/html": [
       "<div>\n",
       "<style scoped>\n",
       "    .dataframe tbody tr th:only-of-type {\n",
       "        vertical-align: middle;\n",
       "    }\n",
       "\n",
       "    .dataframe tbody tr th {\n",
       "        vertical-align: top;\n",
       "    }\n",
       "\n",
       "    .dataframe thead th {\n",
       "        text-align: right;\n",
       "    }\n",
       "</style>\n",
       "<table border=\"1\" class=\"dataframe\">\n",
       "  <thead>\n",
       "    <tr style=\"text-align: right;\">\n",
       "      <th></th>\n",
       "      <th>Date</th>\n",
       "      <th>Store</th>\n",
       "      <th>Total_Sales</th>\n",
       "      <th>Growth_Rate</th>\n",
       "    </tr>\n",
       "  </thead>\n",
       "  <tbody>\n",
       "    <tr>\n",
       "      <th>453</th>\n",
       "      <td>2012-09-30</td>\n",
       "      <td>4</td>\n",
       "      <td>27796792.46</td>\n",
       "      <td>4.246649</td>\n",
       "    </tr>\n",
       "  </tbody>\n",
       "</table>\n",
       "</div>"
      ],
      "text/plain": [
       "          Date  Store  Total_Sales  Growth_Rate\n",
       "453 2012-09-30      4  27796792.46     4.246649"
      ]
     },
     "execution_count": 89,
     "metadata": {},
     "output_type": "execute_result"
    }
   ],
   "source": [
    "QUARTERLY_SALES_BY_STORE_W_RATE.loc[(QUARTERLY_SALES_BY_STORE_W_RATE['Date'] == '2012-09-30')].sort_values(by=['Growth_Rate'], ascending=False).head(1)#.map(\"${:,.2f}\".format)"
   ]
  },
  {
   "cell_type": "markdown",
   "metadata": {},
   "source": [
    "# 4. Modeling"
   ]
  },
  {
   "cell_type": "markdown",
   "metadata": {},
   "source": [
    "### 4.1 Forecast Regresión Lineal"
   ]
  },
  {
   "cell_type": "code",
   "execution_count": 90,
   "metadata": {},
   "outputs": [
    {
     "name": "stdout",
     "output_type": "stream",
     "text": [
      "The training dataset has 120 records, ranging from 2010-02-07 00:00:00 to 2012-05-20 00:00:00\n",
      "The testing dataset has 23 records, ranging from 2012-05-27 00:00:00 to 2012-10-28 00:00:00\n",
      "Coefficients: \n",
      " [1242.64754226]\n",
      "Mean squared error: 12501688526.01\n",
      "Coefficient of determination: -0.87\n"
     ]
    },
    {
     "data": {
      "image/png": "[encoded data removed]",
      "text/plain": [
       "<Figure size 432x288 with 1 Axes>"
      ]
     },
     "metadata": {},
     "output_type": "display_data"
    }
   ],
   "source": [
    "# Prepare data of Store 1\n",
    "_STORE_1_SERIES = WEEKLY_SALES_BY_STORE[WEEKLY_SALES_BY_STORE['Store']==1] #filter Store1\n",
    "STORE_1_SERIES = _STORE_1_SERIES[['Date', 'Total_Sales']].rename(columns={'Date':'Date', 'Total_Sales':'Total_Sales'})\\\n",
    "                                                         .reset_index()\\\n",
    "                                                         .drop(['index'], axis=1)#.set_index('Date') # create Store1 table\n",
    "STORE_1_SERIES['Time'] = np.arange(len(STORE_1_SERIES.index)) # add time step column\n",
    "\n",
    "#https://medium.com/@Hong_Tang/timeseries-split-with-sklearn-tips-8162c83612b9\n",
    "\n",
    "# Time Series Split\n",
    "tscv = TimeSeriesSplit() # instantiate object from class. default parameter sets object to perform k=5 splits\n",
    "\n",
    "# Set date as index\n",
    "STORE_1_SERIES.set_index('Date', inplace=True)\n",
    "STORE_1_SERIES.sort_index(inplace=True)\n",
    "\n",
    "#prepare features dataframe (X) and target (y) as data series\n",
    "X = STORE_1_SERIES.drop(labels=['Total_Sales'], axis=1)\n",
    "y = STORE_1_SERIES['Total_Sales']\n",
    "\n",
    "# Split train test sets for both features and targets time-series class (tscv) class returns two arrays to mark train and test sets\n",
    "for train_index, test_index in tscv.split(X):\n",
    "    X_train, X_test = X.iloc[train_index, :], X.iloc[test_index, :]\n",
    "    y_train, y_test = y.iloc[train_index], y.iloc[test_index]\n",
    "\n",
    "# Uncomment to show a plot with the results of the split train test\n",
    "#y_train.groupby('Date').mean().plot()\n",
    "#y_test.groupby('Date').mean().plot()\n",
    "\n",
    "# Summary of Train Test Split: number of records and date range for training and testing dataset.\n",
    "print('The training dataset has', len(X_train), 'records, ranging from', pd.DataFrame(y_train).index.min(), 'to', pd.DataFrame(y_train).index.max())\n",
    "print('The testing dataset has', len(X_test), 'records, ranging from', pd.DataFrame(y_test).index.min(), 'to', pd.DataFrame(y_test).index.max())\n",
    "\n",
    "#https://scikit-learn.org/stable/auto_examples/linear_model/plot_ols.html#sphx-glr-auto-examples-linear-model-plot-ols-py\n",
    "\n",
    "# Create linear regression object\n",
    "regr = LinearRegression()\n",
    "\n",
    "# Train the model using the training sets\n",
    "regr.fit(X_train.values, y_train.values)\n",
    "\n",
    "# Make predictions using the testing set\n",
    "y_pred = regr.predict(X_test.values)\n",
    "\n",
    "# The coefficients\n",
    "print(\"Coefficients: \\n\", regr.coef_)\n",
    "# The mean squared error\n",
    "print(\"Mean squared error: %.2f\" % metrics.mean_squared_error(y_test.values, y_pred))\n",
    "# The coefficient of determination: 1 is perfect prediction\n",
    "print(\"Coefficient of determination: %.2f\" % metrics.r2_score(y_test.values, y_pred))\n",
    "\n",
    "# Plot outputs\n",
    "plt.scatter(X_test.values, y_test.values, color=\"black\")\n",
    "plt.plot(X_test.values, y_pred, color=\"blue\", linewidth=3)\n",
    "\n",
    "plt.xticks(())\n",
    "plt.yticks(())\n",
    "\n",
    "plt.show()"
   ]
  },
  {
   "cell_type": "code",
   "execution_count": 91,
   "metadata": {},
   "outputs": [
    {
     "data": {
      "text/plain": [
       "{'MAE': 93594.25616272884,\n",
       " 'MSE': 12501688526.009594,\n",
       " 'RMSE': 111810.94993787323,\n",
       " 'R2': -0.8738924620234421}"
      ]
     },
     "execution_count": 91,
     "metadata": {},
     "output_type": "execute_result"
    }
   ],
   "source": [
    "# function to evaluate metrics\n",
    "def evaluate(y_true, y_pred):\n",
    "    dict = {\n",
    "        'MAE': metrics.mean_absolute_error(y_true, y_pred),\n",
    "        'MSE': metrics.mean_squared_error(y_true, y_pred),\n",
    "        'RMSE': math.sqrt(metrics.mean_squared_error(y_true, y_pred)),\n",
    "        'R2': metrics.r2_score(y_true, y_pred)\n",
    "        }\n",
    "    return dict\n",
    "\n",
    "# model performance\n",
    "evaluate(y_test.values, y_pred)"
   ]
  },
  {
   "cell_type": "code",
   "execution_count": 92,
   "metadata": {},
   "outputs": [
    {
     "data": {
      "text/plain": [
       "<AxesSubplot:xlabel='Date'>"
      ]
     },
     "execution_count": 92,
     "metadata": {},
     "output_type": "execute_result"
    },
    {
     "data": {
      "image/png": "[encoded data removed]",
      "text/plain": [
       "<Figure size 432x288 with 1 Axes>"
      ]
     },
     "metadata": {
      "needs_background": "light"
     },
     "output_type": "display_data"
    }
   ],
   "source": [
    "# Uncomment to show a plot with the results of the split train test\n",
    "y_train.groupby('Date').mean().plot()\n",
    "y_test.groupby('Date').mean().plot()"
   ]
  },
  {
   "cell_type": "code",
   "execution_count": 93,
   "metadata": {},
   "outputs": [],
   "source": [
    "# Bring data of Store 1 for visualizations\n",
    "_STORE_1_SERIES = WEEKLY_SALES_BY_STORE[WEEKLY_SALES_BY_STORE['Store']==1] #filter Store1\n",
    "STORE_1_SERIES = _STORE_1_SERIES[['Date', 'Total_Sales']].rename(columns={'Date':'Date', 'Total_Sales':'Total_Sales'})\\\n",
    "                                                         .reset_index()\\\n",
    "                                                         .drop(['index'], axis=1)#.set_index('Date') # create Store1 table"
   ]
  },
  {
   "cell_type": "code",
   "execution_count": 94,
   "metadata": {},
   "outputs": [
    {
     "data": {
      "image/png": "[encoded data removed]",
      "text/plain": [
       "<Figure size 432x288 with 1 Axes>"
      ]
     },
     "metadata": {
      "needs_background": "light"
     },
     "output_type": "display_data"
    }
   ],
   "source": [
    "#matplotlib scatterplot\n",
    "STORE_1_SERIES.plot(x='Date', y='Total_Sales', style='o')\n",
    "plt.title('Store 1 Weekly Sales')\n",
    "plt.xlabel('Date')\n",
    "plt.ylabel('Total Sales')\n",
    "plt.show()"
   ]
  },
  {
   "cell_type": "code",
   "execution_count": 95,
   "metadata": {},
   "outputs": [
    {
     "data": {
      "application/vnd.plotly.v1+json": {
       "config": {
        "plotlyServerURL": "https://plot.ly"
       },
       "data": [
        {
         "hovertemplate": "Date=%{x}<br>Total_Sales=%{y}<extra></extra>",
         "legendgroup": "",
         "marker": {
          "color": "#636efa",
          "symbol": "circle"
         },
         "mode": "markers",
         "name": "",
         "orientation": "v",
         "showlegend": false,
         "type": "scatter",
         "x": [
          "2010-02-07T00:00:00",
          "2010-02-14T00:00:00",
          "2010-02-21T00:00:00",
          "2010-02-28T00:00:00",
          "2010-03-07T00:00:00",
          "2010-03-14T00:00:00",
          "2010-03-21T00:00:00",
          "2010-03-28T00:00:00",
          "2010-04-04T00:00:00",
          "2010-04-11T00:00:00",
          "2010-04-18T00:00:00",
          "2010-04-25T00:00:00",
          "2010-05-02T00:00:00",
          "2010-05-09T00:00:00",
          "2010-05-16T00:00:00",
          "2010-05-23T00:00:00",
          "2010-05-30T00:00:00",
          "2010-06-06T00:00:00",
          "2010-06-13T00:00:00",
          "2010-06-20T00:00:00",
          "2010-06-27T00:00:00",
          "2010-07-04T00:00:00",
          "2010-07-11T00:00:00",
          "2010-07-18T00:00:00",
          "2010-07-25T00:00:00",
          "2010-08-01T00:00:00",
          "2010-08-08T00:00:00",
          "2010-08-15T00:00:00",
          "2010-08-22T00:00:00",
          "2010-08-29T00:00:00",
          "2010-09-05T00:00:00",
          "2010-09-12T00:00:00",
          "2010-09-19T00:00:00",
          "2010-09-26T00:00:00",
          "2010-10-03T00:00:00",
          "2010-10-10T00:00:00",
          "2010-10-17T00:00:00",
          "2010-10-24T00:00:00",
          "2010-10-31T00:00:00",
          "2010-11-07T00:00:00",
          "2010-11-14T00:00:00",
          "2010-11-21T00:00:00",
          "2010-11-28T00:00:00",
          "2010-12-05T00:00:00",
          "2010-12-12T00:00:00",
          "2010-12-19T00:00:00",
          "2010-12-26T00:00:00",
          "2011-01-02T00:00:00",
          "2011-01-09T00:00:00",
          "2011-01-16T00:00:00",
          "2011-01-23T00:00:00",
          "2011-01-30T00:00:00",
          "2011-02-06T00:00:00",
          "2011-02-13T00:00:00",
          "2011-02-20T00:00:00",
          "2011-02-27T00:00:00",
          "2011-03-06T00:00:00",
          "2011-03-13T00:00:00",
          "2011-03-20T00:00:00",
          "2011-03-27T00:00:00",
          "2011-04-03T00:00:00",
          "2011-04-10T00:00:00",
          "2011-04-17T00:00:00",
          "2011-04-24T00:00:00",
          "2011-05-01T00:00:00",
          "2011-05-08T00:00:00",
          "2011-05-15T00:00:00",
          "2011-05-22T00:00:00",
          "2011-05-29T00:00:00",
          "2011-06-05T00:00:00",
          "2011-06-12T00:00:00",
          "2011-06-19T00:00:00",
          "2011-06-26T00:00:00",
          "2011-07-03T00:00:00",
          "2011-07-10T00:00:00",
          "2011-07-17T00:00:00",
          "2011-07-24T00:00:00",
          "2011-07-31T00:00:00",
          "2011-08-07T00:00:00",
          "2011-08-14T00:00:00",
          "2011-08-21T00:00:00",
          "2011-08-28T00:00:00",
          "2011-09-04T00:00:00",
          "2011-09-11T00:00:00",
          "2011-09-18T00:00:00",
          "2011-09-25T00:00:00",
          "2011-10-02T00:00:00",
          "2011-10-09T00:00:00",
          "2011-10-16T00:00:00",
          "2011-10-23T00:00:00",
          "2011-10-30T00:00:00",
          "2011-11-06T00:00:00",
          "2011-11-13T00:00:00",
          "2011-11-20T00:00:00",
          "2011-11-27T00:00:00",
          "2011-12-04T00:00:00",
          "2011-12-11T00:00:00",
          "2011-12-18T00:00:00",
          "2011-12-25T00:00:00",
          "2012-01-01T00:00:00",
          "2012-01-08T00:00:00",
          "2012-01-15T00:00:00",
          "2012-01-22T00:00:00",
          "2012-01-29T00:00:00",
          "2012-02-05T00:00:00",
          "2012-02-12T00:00:00",
          "2012-02-19T00:00:00",
          "2012-02-26T00:00:00",
          "2012-03-04T00:00:00",
          "2012-03-11T00:00:00",
          "2012-03-18T00:00:00",
          "2012-03-25T00:00:00",
          "2012-04-01T00:00:00",
          "2012-04-08T00:00:00",
          "2012-04-15T00:00:00",
          "2012-04-22T00:00:00",
          "2012-04-29T00:00:00",
          "2012-05-06T00:00:00",
          "2012-05-13T00:00:00",
          "2012-05-20T00:00:00",
          "2012-05-27T00:00:00",
          "2012-06-03T00:00:00",
          "2012-06-10T00:00:00",
          "2012-06-17T00:00:00",
          "2012-06-24T00:00:00",
          "2012-07-01T00:00:00",
          "2012-07-08T00:00:00",
          "2012-07-15T00:00:00",
          "2012-07-22T00:00:00",
          "2012-07-29T00:00:00",
          "2012-08-05T00:00:00",
          "2012-08-12T00:00:00",
          "2012-08-19T00:00:00",
          "2012-08-26T00:00:00",
          "2012-09-02T00:00:00",
          "2012-09-09T00:00:00",
          "2012-09-16T00:00:00",
          "2012-09-23T00:00:00",
          "2012-09-30T00:00:00",
          "2012-10-07T00:00:00",
          "2012-10-14T00:00:00",
          "2012-10-21T00:00:00",
          "2012-10-28T00:00:00"
         ],
         "xaxis": "x",
         "y": [
          1643690.9,
          1641957.44,
          1612831.17,
          1409727.59,
          1554806.68,
          1440239.59,
          1472515.79,
          1404429.92,
          1594968.28,
          1545418.53,
          1466058.28,
          1391256.12,
          1425100.71,
          1603955.1199999999,
          1494251.5,
          1399662.07,
          1432069.95,
          1615524.71,
          1542561.09,
          1503284.06,
          1422711.6,
          1492418.1400000001,
          1546074.18,
          1448938.92,
          1385065.2,
          1371986.6,
          1605491.78,
          1508237.76,
          1513080.49,
          1449142.92,
          1540163.53,
          1507460.69,
          1430378.67,
          1351791.03,
          1453329.5,
          1508297.93,
          1459409.1,
          1345454,
          1384209.22,
          1551659.28,
          1494479.49,
          1483784.18,
          1955624.11,
          1548033.78,
          1682614.26,
          1891034.93,
          2387950.2,
          1367320.01,
          1444732.28,
          1391013.96,
          1327455.42,
          1316899.31,
          1606629.58,
          1649614.93,
          1686842.78,
          1456800.28,
          1636263.41,
          1553191.63,
          1576818.06,
          1541102.3800000001,
          1495064.75,
          1614557.35,
          1559889,
          1564819.81,
          1455090.69,
          1629391.28,
          1604775.58,
          1428233.27,
          1466046.67,
          1635078.41,
          1588948.32,
          1532114.86,
          1438830.15,
          1488538.09,
          1535047.64,
          1455119.97,
          1396926.82,
          1352219.79,
          1624383.75,
          1525147.09,
          1530761.43,
          1464693.46,
          1550229.22,
          1540471.24,
          1514259.78,
          1380020.27,
          1394561.83,
          1630989.95,
          1494023.93,
          1502562.78,
          1445249.09,
          1697229.58,
          1594938.8900000001,
          1539483.7,
          2033320.66,
          1584083.95,
          1799682.38,
          1881176.67,
          2270686.99,
          1497462.72,
          1550369.92,
          1459601.17,
          1394393.84,
          1319325.59,
          1636339.65,
          1802477.43,
          1820068,
          1539387.83,
          1688420.76,
          1675452.16,
          1677671.78,
          1511291.07,
          1649604.63,
          1899676.8800000001,
          1621031.7,
          1521577.8699999999,
          1468928.3699999999,
          1684521.26,
          1611096.05,
          1595901.87,
          1555444.55,
          1624477.58,
          1697230.96,
          1630607,
          1527845.81,
          1540421.49,
          1769854.16,
          1527014.04,
          1497954.76,
          1439123.71,
          1631135.79,
          1592549.62,
          1597868.05,
          1494122.38,
          1582083.4,
          1661767.33,
          1517428.87,
          1506126.06,
          1437059.26,
          1670785.97,
          1573072.81,
          1508068.77,
          1493659.74
         ],
         "yaxis": "y"
        }
       ],
       "layout": {
        "legend": {
         "tracegroupgap": 0
        },
        "margin": {
         "t": 60
        },
        "template": {
         "data": {
          "bar": [
           {
            "error_x": {
             "color": "#2a3f5f"
            },
            "error_y": {
             "color": "#2a3f5f"
            },
            "marker": {
             "line": {
              "color": "#E5ECF6",
              "width": 0.5
             },
             "pattern": {
              "fillmode": "overlay",
              "size": 10,
              "solidity": 0.2
             }
            },
            "type": "bar"
           }
          ],
          "barpolar": [
           {
            "marker": {
             "line": {
              "color": "#E5ECF6",
              "width": 0.5
             },
             "pattern": {
              "fillmode": "overlay",
              "size": 10,
              "solidity": 0.2
             }
            },
            "type": "barpolar"
           }
          ],
          "carpet": [
           {
            "aaxis": {
             "endlinecolor": "#2a3f5f",
             "gridcolor": "white",
             "linecolor": "white",
             "minorgridcolor": "white",
             "startlinecolor": "#2a3f5f"
            },
            "baxis": {
             "endlinecolor": "#2a3f5f",
             "gridcolor": "white",
             "linecolor": "white",
             "minorgridcolor": "white",
             "startlinecolor": "#2a3f5f"
            },
            "type": "carpet"
           }
          ],
          "choropleth": [
           {
            "colorbar": {
             "outlinewidth": 0,
             "ticks": ""
            },
            "type": "choropleth"
           }
          ],
          "contour": [
           {
            "colorbar": {
             "outlinewidth": 0,
             "ticks": ""
            },
            "colorscale": [
             [
              0,
              "#0d0887"
             ],
             [
              0.1111111111111111,
              "#46039f"
             ],
             [
              0.2222222222222222,
              "#7201a8"
             ],
             [
              0.3333333333333333,
              "#9c179e"
             ],
             [
              0.4444444444444444,
              "#bd3786"
             ],
             [
              0.5555555555555556,
              "#d8576b"
             ],
             [
              0.6666666666666666,
              "#ed7953"
             ],
             [
              0.7777777777777778,
              "#fb9f3a"
             ],
             [
              0.8888888888888888,
              "#fdca26"
             ],
             [
              1,
              "#f0f921"
             ]
            ],
            "type": "contour"
           }
          ],
          "contourcarpet": [
           {
            "colorbar": {
             "outlinewidth": 0,
             "ticks": ""
            },
            "type": "contourcarpet"
           }
          ],
          "heatmap": [
           {
            "colorbar": {
             "outlinewidth": 0,
             "ticks": ""
            },
            "colorscale": [
             [
              0,
              "#0d0887"
             ],
             [
              0.1111111111111111,
              "#46039f"
             ],
             [
              0.2222222222222222,
              "#7201a8"
             ],
             [
              0.3333333333333333,
              "#9c179e"
             ],
             [
              0.4444444444444444,
              "#bd3786"
             ],
             [
              0.5555555555555556,
              "#d8576b"
             ],
             [
              0.6666666666666666,
              "#ed7953"
             ],
             [
              0.7777777777777778,
              "#fb9f3a"
             ],
             [
              0.8888888888888888,
              "#fdca26"
             ],
             [
              1,
              "#f0f921"
             ]
            ],
            "type": "heatmap"
           }
          ],
          "heatmapgl": [
           {
            "colorbar": {
             "outlinewidth": 0,
             "ticks": ""
            },
            "colorscale": [
             [
              0,
              "#0d0887"
             ],
             [
              0.1111111111111111,
              "#46039f"
             ],
             [
              0.2222222222222222,
              "#7201a8"
             ],
             [
              0.3333333333333333,
              "#9c179e"
             ],
             [
              0.4444444444444444,
              "#bd3786"
             ],
             [
              0.5555555555555556,
              "#d8576b"
             ],
             [
              0.6666666666666666,
              "#ed7953"
             ],
             [
              0.7777777777777778,
              "#fb9f3a"
             ],
             [
              0.8888888888888888,
              "#fdca26"
             ],
             [
              1,
              "#f0f921"
             ]
            ],
            "type": "heatmapgl"
           }
          ],
          "histogram": [
           {
            "marker": {
             "pattern": {
              "fillmode": "overlay",
              "size": 10,
              "solidity": 0.2
             }
            },
            "type": "histogram"
           }
          ],
          "histogram2d": [
           {
            "colorbar": {
             "outlinewidth": 0,
             "ticks": ""
            },
            "colorscale": [
             [
              0,
              "#0d0887"
             ],
             [
              0.1111111111111111,
              "#46039f"
             ],
             [
              0.2222222222222222,
              "#7201a8"
             ],
             [
              0.3333333333333333,
              "#9c179e"
             ],
             [
              0.4444444444444444,
              "#bd3786"
             ],
             [
              0.5555555555555556,
              "#d8576b"
             ],
             [
              0.6666666666666666,
              "#ed7953"
             ],
             [
              0.7777777777777778,
              "#fb9f3a"
             ],
             [
              0.8888888888888888,
              "#fdca26"
             ],
             [
              1,
              "#f0f921"
             ]
            ],
            "type": "histogram2d"
           }
          ],
          "histogram2dcontour": [
           {
            "colorbar": {
             "outlinewidth": 0,
             "ticks": ""
            },
            "colorscale": [
             [
              0,
              "#0d0887"
             ],
             [
              0.1111111111111111,
              "#46039f"
             ],
             [
              0.2222222222222222,
              "#7201a8"
             ],
             [
              0.3333333333333333,
              "#9c179e"
             ],
             [
              0.4444444444444444,
              "#bd3786"
             ],
             [
              0.5555555555555556,
              "#d8576b"
             ],
             [
              0.6666666666666666,
              "#ed7953"
             ],
             [
              0.7777777777777778,
              "#fb9f3a"
             ],
             [
              0.8888888888888888,
              "#fdca26"
             ],
             [
              1,
              "#f0f921"
             ]
            ],
            "type": "histogram2dcontour"
           }
          ],
          "mesh3d": [
           {
            "colorbar": {
             "outlinewidth": 0,
             "ticks": ""
            },
            "type": "mesh3d"
           }
          ],
          "parcoords": [
           {
            "line": {
             "colorbar": {
              "outlinewidth": 0,
              "ticks": ""
             }
            },
            "type": "parcoords"
           }
          ],
          "pie": [
           {
            "automargin": true,
            "type": "pie"
           }
          ],
          "scatter": [
           {
            "marker": {
             "colorbar": {
              "outlinewidth": 0,
              "ticks": ""
             }
            },
            "type": "scatter"
           }
          ],
          "scatter3d": [
           {
            "line": {
             "colorbar": {
              "outlinewidth": 0,
              "ticks": ""
             }
            },
            "marker": {
             "colorbar": {
              "outlinewidth": 0,
              "ticks": ""
             }
            },
            "type": "scatter3d"
           }
          ],
          "scattercarpet": [
           {
            "marker": {
             "colorbar": {
              "outlinewidth": 0,
              "ticks": ""
             }
            },
            "type": "scattercarpet"
           }
          ],
          "scattergeo": [
           {
            "marker": {
             "colorbar": {
              "outlinewidth": 0,
              "ticks": ""
             }
            },
            "type": "scattergeo"
           }
          ],
          "scattergl": [
           {
            "marker": {
             "colorbar": {
              "outlinewidth": 0,
              "ticks": ""
             }
            },
            "type": "scattergl"
           }
          ],
          "scattermapbox": [
           {
            "marker": {
             "colorbar": {
              "outlinewidth": 0,
              "ticks": ""
             }
            },
            "type": "scattermapbox"
           }
          ],
          "scatterpolar": [
           {
            "marker": {
             "colorbar": {
              "outlinewidth": 0,
              "ticks": ""
             }
            },
            "type": "scatterpolar"
           }
          ],
          "scatterpolargl": [
           {
            "marker": {
             "colorbar": {
              "outlinewidth": 0,
              "ticks": ""
             }
            },
            "type": "scatterpolargl"
           }
          ],
          "scatterternary": [
           {
            "marker": {
             "colorbar": {
              "outlinewidth": 0,
              "ticks": ""
             }
            },
            "type": "scatterternary"
           }
          ],
          "surface": [
           {
            "colorbar": {
             "outlinewidth": 0,
             "ticks": ""
            },
            "colorscale": [
             [
              0,
              "#0d0887"
             ],
             [
              0.1111111111111111,
              "#46039f"
             ],
             [
              0.2222222222222222,
              "#7201a8"
             ],
             [
              0.3333333333333333,
              "#9c179e"
             ],
             [
              0.4444444444444444,
              "#bd3786"
             ],
             [
              0.5555555555555556,
              "#d8576b"
             ],
             [
              0.6666666666666666,
              "#ed7953"
             ],
             [
              0.7777777777777778,
              "#fb9f3a"
             ],
             [
              0.8888888888888888,
              "#fdca26"
             ],
             [
              1,
              "#f0f921"
             ]
            ],
            "type": "surface"
           }
          ],
          "table": [
           {
            "cells": {
             "fill": {
              "color": "#EBF0F8"
             },
             "line": {
              "color": "white"
             }
            },
            "header": {
             "fill": {
              "color": "#C8D4E3"
             },
             "line": {
              "color": "white"
             }
            },
            "type": "table"
           }
          ]
         },
         "layout": {
          "annotationdefaults": {
           "arrowcolor": "#2a3f5f",
           "arrowhead": 0,
           "arrowwidth": 1
          },
          "autotypenumbers": "strict",
          "coloraxis": {
           "colorbar": {
            "outlinewidth": 0,
            "ticks": ""
           }
          },
          "colorscale": {
           "diverging": [
            [
             0,
             "#8e0152"
            ],
            [
             0.1,
             "#c51b7d"
            ],
            [
             0.2,
             "#de77ae"
            ],
            [
             0.3,
             "#f1b6da"
            ],
            [
             0.4,
             "#fde0ef"
            ],
            [
             0.5,
             "#f7f7f7"
            ],
            [
             0.6,
             "#e6f5d0"
            ],
            [
             0.7,
             "#b8e186"
            ],
            [
             0.8,
             "#7fbc41"
            ],
            [
             0.9,
             "#4d9221"
            ],
            [
             1,
             "#276419"
            ]
           ],
           "sequential": [
            [
             0,
             "#0d0887"
            ],
            [
             0.1111111111111111,
             "#46039f"
            ],
            [
             0.2222222222222222,
             "#7201a8"
            ],
            [
             0.3333333333333333,
             "#9c179e"
            ],
            [
             0.4444444444444444,
             "#bd3786"
            ],
            [
             0.5555555555555556,
             "#d8576b"
            ],
            [
             0.6666666666666666,
             "#ed7953"
            ],
            [
             0.7777777777777778,
             "#fb9f3a"
            ],
            [
             0.8888888888888888,
             "#fdca26"
            ],
            [
             1,
             "#f0f921"
            ]
           ],
           "sequentialminus": [
            [
             0,
             "#0d0887"
            ],
            [
             0.1111111111111111,
             "#46039f"
            ],
            [
             0.2222222222222222,
             "#7201a8"
            ],
            [
             0.3333333333333333,
             "#9c179e"
            ],
            [
             0.4444444444444444,
             "#bd3786"
            ],
            [
             0.5555555555555556,
             "#d8576b"
            ],
            [
             0.6666666666666666,
             "#ed7953"
            ],
            [
             0.7777777777777778,
             "#fb9f3a"
            ],
            [
             0.8888888888888888,
             "#fdca26"
            ],
            [
             1,
             "#f0f921"
            ]
           ]
          },
          "colorway": [
           "#636efa",
           "#EF553B",
           "#00cc96",
           "#ab63fa",
           "#FFA15A",
           "#19d3f3",
           "#FF6692",
           "#B6E880",
           "#FF97FF",
           "#FECB52"
          ],
          "font": {
           "color": "#2a3f5f"
          },
          "geo": {
           "bgcolor": "white",
           "lakecolor": "white",
           "landcolor": "#E5ECF6",
           "showlakes": true,
           "showland": true,
           "subunitcolor": "white"
          },
          "hoverlabel": {
           "align": "left"
          },
          "hovermode": "closest",
          "mapbox": {
           "style": "light"
          },
          "paper_bgcolor": "white",
          "plot_bgcolor": "#E5ECF6",
          "polar": {
           "angularaxis": {
            "gridcolor": "white",
            "linecolor": "white",
            "ticks": ""
           },
           "bgcolor": "#E5ECF6",
           "radialaxis": {
            "gridcolor": "white",
            "linecolor": "white",
            "ticks": ""
           }
          },
          "scene": {
           "xaxis": {
            "backgroundcolor": "#E5ECF6",
            "gridcolor": "white",
            "gridwidth": 2,
            "linecolor": "white",
            "showbackground": true,
            "ticks": "",
            "zerolinecolor": "white"
           },
           "yaxis": {
            "backgroundcolor": "#E5ECF6",
            "gridcolor": "white",
            "gridwidth": 2,
            "linecolor": "white",
            "showbackground": true,
            "ticks": "",
            "zerolinecolor": "white"
           },
           "zaxis": {
            "backgroundcolor": "#E5ECF6",
            "gridcolor": "white",
            "gridwidth": 2,
            "linecolor": "white",
            "showbackground": true,
            "ticks": "",
            "zerolinecolor": "white"
           }
          },
          "shapedefaults": {
           "line": {
            "color": "#2a3f5f"
           }
          },
          "ternary": {
           "aaxis": {
            "gridcolor": "white",
            "linecolor": "white",
            "ticks": ""
           },
           "baxis": {
            "gridcolor": "white",
            "linecolor": "white",
            "ticks": ""
           },
           "bgcolor": "#E5ECF6",
           "caxis": {
            "gridcolor": "white",
            "linecolor": "white",
            "ticks": ""
           }
          },
          "title": {
           "x": 0.05
          },
          "xaxis": {
           "automargin": true,
           "gridcolor": "white",
           "linecolor": "white",
           "ticks": "",
           "title": {
            "standoff": 15
           },
           "zerolinecolor": "white",
           "zerolinewidth": 2
          },
          "yaxis": {
           "automargin": true,
           "gridcolor": "white",
           "linecolor": "white",
           "ticks": "",
           "title": {
            "standoff": 15
           },
           "zerolinecolor": "white",
           "zerolinewidth": 2
          }
         }
        },
        "xaxis": {
         "anchor": "y",
         "domain": [
          0,
          1
         ],
         "title": {
          "text": "Date"
         }
        },
        "yaxis": {
         "anchor": "x",
         "domain": [
          0,
          1
         ],
         "title": {
          "text": "Total_Sales"
         }
        }
       }
      }
     },
     "metadata": {},
     "output_type": "display_data"
    }
   ],
   "source": [
    "#plotly scatterplot\n",
    "fig = px.scatter(STORE_1_SERIES, x=\"Date\", y=\"Total_Sales\")#, trendline=\"ols\")\n",
    "fig.show()"
   ]
  },
  {
   "cell_type": "code",
   "execution_count": 96,
   "metadata": {},
   "outputs": [
    {
     "data": {
      "application/vnd.plotly.v1+json": {
       "config": {
        "plotlyServerURL": "https://plot.ly"
       },
       "data": [
        {
         "hovertemplate": "Date=%{x}<br>Total_Sales=%{y}<extra></extra>",
         "legendgroup": "",
         "line": {
          "color": "#636efa",
          "dash": "solid"
         },
         "marker": {
          "symbol": "circle"
         },
         "mode": "lines",
         "name": "",
         "orientation": "v",
         "showlegend": false,
         "type": "scatter",
         "x": [
          "2010-02-07T00:00:00",
          "2010-02-14T00:00:00",
          "2010-02-21T00:00:00",
          "2010-02-28T00:00:00",
          "2010-03-07T00:00:00",
          "2010-03-14T00:00:00",
          "2010-03-21T00:00:00",
          "2010-03-28T00:00:00",
          "2010-04-04T00:00:00",
          "2010-04-11T00:00:00",
          "2010-04-18T00:00:00",
          "2010-04-25T00:00:00",
          "2010-05-02T00:00:00",
          "2010-05-09T00:00:00",
          "2010-05-16T00:00:00",
          "2010-05-23T00:00:00",
          "2010-05-30T00:00:00",
          "2010-06-06T00:00:00",
          "2010-06-13T00:00:00",
          "2010-06-20T00:00:00",
          "2010-06-27T00:00:00",
          "2010-07-04T00:00:00",
          "2010-07-11T00:00:00",
          "2010-07-18T00:00:00",
          "2010-07-25T00:00:00",
          "2010-08-01T00:00:00",
          "2010-08-08T00:00:00",
          "2010-08-15T00:00:00",
          "2010-08-22T00:00:00",
          "2010-08-29T00:00:00",
          "2010-09-05T00:00:00",
          "2010-09-12T00:00:00",
          "2010-09-19T00:00:00",
          "2010-09-26T00:00:00",
          "2010-10-03T00:00:00",
          "2010-10-10T00:00:00",
          "2010-10-17T00:00:00",
          "2010-10-24T00:00:00",
          "2010-10-31T00:00:00",
          "2010-11-07T00:00:00",
          "2010-11-14T00:00:00",
          "2010-11-21T00:00:00",
          "2010-11-28T00:00:00",
          "2010-12-05T00:00:00",
          "2010-12-12T00:00:00",
          "2010-12-19T00:00:00",
          "2010-12-26T00:00:00",
          "2011-01-02T00:00:00",
          "2011-01-09T00:00:00",
          "2011-01-16T00:00:00",
          "2011-01-23T00:00:00",
          "2011-01-30T00:00:00",
          "2011-02-06T00:00:00",
          "2011-02-13T00:00:00",
          "2011-02-20T00:00:00",
          "2011-02-27T00:00:00",
          "2011-03-06T00:00:00",
          "2011-03-13T00:00:00",
          "2011-03-20T00:00:00",
          "2011-03-27T00:00:00",
          "2011-04-03T00:00:00",
          "2011-04-10T00:00:00",
          "2011-04-17T00:00:00",
          "2011-04-24T00:00:00",
          "2011-05-01T00:00:00",
          "2011-05-08T00:00:00",
          "2011-05-15T00:00:00",
          "2011-05-22T00:00:00",
          "2011-05-29T00:00:00",
          "2011-06-05T00:00:00",
          "2011-06-12T00:00:00",
          "2011-06-19T00:00:00",
          "2011-06-26T00:00:00",
          "2011-07-03T00:00:00",
          "2011-07-10T00:00:00",
          "2011-07-17T00:00:00",
          "2011-07-24T00:00:00",
          "2011-07-31T00:00:00",
          "2011-08-07T00:00:00",
          "2011-08-14T00:00:00",
          "2011-08-21T00:00:00",
          "2011-08-28T00:00:00",
          "2011-09-04T00:00:00",
          "2011-09-11T00:00:00",
          "2011-09-18T00:00:00",
          "2011-09-25T00:00:00",
          "2011-10-02T00:00:00",
          "2011-10-09T00:00:00",
          "2011-10-16T00:00:00",
          "2011-10-23T00:00:00",
          "2011-10-30T00:00:00",
          "2011-11-06T00:00:00",
          "2011-11-13T00:00:00",
          "2011-11-20T00:00:00",
          "2011-11-27T00:00:00",
          "2011-12-04T00:00:00",
          "2011-12-11T00:00:00",
          "2011-12-18T00:00:00",
          "2011-12-25T00:00:00",
          "2012-01-01T00:00:00",
          "2012-01-08T00:00:00",
          "2012-01-15T00:00:00",
          "2012-01-22T00:00:00",
          "2012-01-29T00:00:00",
          "2012-02-05T00:00:00",
          "2012-02-12T00:00:00",
          "2012-02-19T00:00:00",
          "2012-02-26T00:00:00",
          "2012-03-04T00:00:00",
          "2012-03-11T00:00:00",
          "2012-03-18T00:00:00",
          "2012-03-25T00:00:00",
          "2012-04-01T00:00:00",
          "2012-04-08T00:00:00",
          "2012-04-15T00:00:00",
          "2012-04-22T00:00:00",
          "2012-04-29T00:00:00",
          "2012-05-06T00:00:00",
          "2012-05-13T00:00:00",
          "2012-05-20T00:00:00",
          "2012-05-27T00:00:00",
          "2012-06-03T00:00:00",
          "2012-06-10T00:00:00",
          "2012-06-17T00:00:00",
          "2012-06-24T00:00:00",
          "2012-07-01T00:00:00",
          "2012-07-08T00:00:00",
          "2012-07-15T00:00:00",
          "2012-07-22T00:00:00",
          "2012-07-29T00:00:00",
          "2012-08-05T00:00:00",
          "2012-08-12T00:00:00",
          "2012-08-19T00:00:00",
          "2012-08-26T00:00:00",
          "2012-09-02T00:00:00",
          "2012-09-09T00:00:00",
          "2012-09-16T00:00:00",
          "2012-09-23T00:00:00",
          "2012-09-30T00:00:00",
          "2012-10-07T00:00:00",
          "2012-10-14T00:00:00",
          "2012-10-21T00:00:00",
          "2012-10-28T00:00:00"
         ],
         "xaxis": "x",
         "y": [
          1643690.9,
          1641957.44,
          1612831.17,
          1409727.59,
          1554806.68,
          1440239.59,
          1472515.79,
          1404429.92,
          1594968.28,
          1545418.53,
          1466058.28,
          1391256.12,
          1425100.71,
          1603955.1199999999,
          1494251.5,
          1399662.07,
          1432069.95,
          1615524.71,
          1542561.09,
          1503284.06,
          1422711.6,
          1492418.1400000001,
          1546074.18,
          1448938.92,
          1385065.2,
          1371986.6,
          1605491.78,
          1508237.76,
          1513080.49,
          1449142.92,
          1540163.53,
          1507460.69,
          1430378.67,
          1351791.03,
          1453329.5,
          1508297.93,
          1459409.1,
          1345454,
          1384209.22,
          1551659.28,
          1494479.49,
          1483784.18,
          1955624.11,
          1548033.78,
          1682614.26,
          1891034.93,
          2387950.2,
          1367320.01,
          1444732.28,
          1391013.96,
          1327455.42,
          1316899.31,
          1606629.58,
          1649614.93,
          1686842.78,
          1456800.28,
          1636263.41,
          1553191.63,
          1576818.06,
          1541102.3800000001,
          1495064.75,
          1614557.35,
          1559889,
          1564819.81,
          1455090.69,
          1629391.28,
          1604775.58,
          1428233.27,
          1466046.67,
          1635078.41,
          1588948.32,
          1532114.86,
          1438830.15,
          1488538.09,
          1535047.64,
          1455119.97,
          1396926.82,
          1352219.79,
          1624383.75,
          1525147.09,
          1530761.43,
          1464693.46,
          1550229.22,
          1540471.24,
          1514259.78,
          1380020.27,
          1394561.83,
          1630989.95,
          1494023.93,
          1502562.78,
          1445249.09,
          1697229.58,
          1594938.8900000001,
          1539483.7,
          2033320.66,
          1584083.95,
          1799682.38,
          1881176.67,
          2270686.99,
          1497462.72,
          1550369.92,
          1459601.17,
          1394393.84,
          1319325.59,
          1636339.65,
          1802477.43,
          1820068,
          1539387.83,
          1688420.76,
          1675452.16,
          1677671.78,
          1511291.07,
          1649604.63,
          1899676.8800000001,
          1621031.7,
          1521577.8699999999,
          1468928.3699999999,
          1684521.26,
          1611096.05,
          1595901.87,
          1555444.55,
          1624477.58,
          1697230.96,
          1630607,
          1527845.81,
          1540421.49,
          1769854.16,
          1527014.04,
          1497954.76,
          1439123.71,
          1631135.79,
          1592549.62,
          1597868.05,
          1494122.38,
          1582083.4,
          1661767.33,
          1517428.87,
          1506126.06,
          1437059.26,
          1670785.97,
          1573072.81,
          1508068.77,
          1493659.74
         ],
         "yaxis": "y"
        }
       ],
       "layout": {
        "legend": {
         "tracegroupgap": 0
        },
        "margin": {
         "t": 60
        },
        "template": {
         "data": {
          "bar": [
           {
            "error_x": {
             "color": "#2a3f5f"
            },
            "error_y": {
             "color": "#2a3f5f"
            },
            "marker": {
             "line": {
              "color": "#E5ECF6",
              "width": 0.5
             },
             "pattern": {
              "fillmode": "overlay",
              "size": 10,
              "solidity": 0.2
             }
            },
            "type": "bar"
           }
          ],
          "barpolar": [
           {
            "marker": {
             "line": {
              "color": "#E5ECF6",
              "width": 0.5
             },
             "pattern": {
              "fillmode": "overlay",
              "size": 10,
              "solidity": 0.2
             }
            },
            "type": "barpolar"
           }
          ],
          "carpet": [
           {
            "aaxis": {
             "endlinecolor": "#2a3f5f",
             "gridcolor": "white",
             "linecolor": "white",
             "minorgridcolor": "white",
             "startlinecolor": "#2a3f5f"
            },
            "baxis": {
             "endlinecolor": "#2a3f5f",
             "gridcolor": "white",
             "linecolor": "white",
             "minorgridcolor": "white",
             "startlinecolor": "#2a3f5f"
            },
            "type": "carpet"
           }
          ],
          "choropleth": [
           {
            "colorbar": {
             "outlinewidth": 0,
             "ticks": ""
            },
            "type": "choropleth"
           }
          ],
          "contour": [
           {
            "colorbar": {
             "outlinewidth": 0,
             "ticks": ""
            },
            "colorscale": [
             [
              0,
              "#0d0887"
             ],
             [
              0.1111111111111111,
              "#46039f"
             ],
             [
              0.2222222222222222,
              "#7201a8"
             ],
             [
              0.3333333333333333,
              "#9c179e"
             ],
             [
              0.4444444444444444,
              "#bd3786"
             ],
             [
              0.5555555555555556,
              "#d8576b"
             ],
             [
              0.6666666666666666,
              "#ed7953"
             ],
             [
              0.7777777777777778,
              "#fb9f3a"
             ],
             [
              0.8888888888888888,
              "#fdca26"
             ],
             [
              1,
              "#f0f921"
             ]
            ],
            "type": "contour"
           }
          ],
          "contourcarpet": [
           {
            "colorbar": {
             "outlinewidth": 0,
             "ticks": ""
            },
            "type": "contourcarpet"
           }
          ],
          "heatmap": [
           {
            "colorbar": {
             "outlinewidth": 0,
             "ticks": ""
            },
            "colorscale": [
             [
              0,
              "#0d0887"
             ],
             [
              0.1111111111111111,
              "#46039f"
             ],
             [
              0.2222222222222222,
              "#7201a8"
             ],
             [
              0.3333333333333333,
              "#9c179e"
             ],
             [
              0.4444444444444444,
              "#bd3786"
             ],
             [
              0.5555555555555556,
              "#d8576b"
             ],
             [
              0.6666666666666666,
              "#ed7953"
             ],
             [
              0.7777777777777778,
              "#fb9f3a"
             ],
             [
              0.8888888888888888,
              "#fdca26"
             ],
             [
              1,
              "#f0f921"
             ]
            ],
            "type": "heatmap"
           }
          ],
          "heatmapgl": [
           {
            "colorbar": {
             "outlinewidth": 0,
             "ticks": ""
            },
            "colorscale": [
             [
              0,
              "#0d0887"
             ],
             [
              0.1111111111111111,
              "#46039f"
             ],
             [
              0.2222222222222222,
              "#7201a8"
             ],
             [
              0.3333333333333333,
              "#9c179e"
             ],
             [
              0.4444444444444444,
              "#bd3786"
             ],
             [
              0.5555555555555556,
              "#d8576b"
             ],
             [
              0.6666666666666666,
              "#ed7953"
             ],
             [
              0.7777777777777778,
              "#fb9f3a"
             ],
             [
              0.8888888888888888,
              "#fdca26"
             ],
             [
              1,
              "#f0f921"
             ]
            ],
            "type": "heatmapgl"
           }
          ],
          "histogram": [
           {
            "marker": {
             "pattern": {
              "fillmode": "overlay",
              "size": 10,
              "solidity": 0.2
             }
            },
            "type": "histogram"
           }
          ],
          "histogram2d": [
           {
            "colorbar": {
             "outlinewidth": 0,
             "ticks": ""
            },
            "colorscale": [
             [
              0,
              "#0d0887"
             ],
             [
              0.1111111111111111,
              "#46039f"
             ],
             [
              0.2222222222222222,
              "#7201a8"
             ],
             [
              0.3333333333333333,
              "#9c179e"
             ],
             [
              0.4444444444444444,
              "#bd3786"
             ],
             [
              0.5555555555555556,
              "#d8576b"
             ],
             [
              0.6666666666666666,
              "#ed7953"
             ],
             [
              0.7777777777777778,
              "#fb9f3a"
             ],
             [
              0.8888888888888888,
              "#fdca26"
             ],
             [
              1,
              "#f0f921"
             ]
            ],
            "type": "histogram2d"
           }
          ],
          "histogram2dcontour": [
           {
            "colorbar": {
             "outlinewidth": 0,
             "ticks": ""
            },
            "colorscale": [
             [
              0,
              "#0d0887"
             ],
             [
              0.1111111111111111,
              "#46039f"
             ],
             [
              0.2222222222222222,
              "#7201a8"
             ],
             [
              0.3333333333333333,
              "#9c179e"
             ],
             [
              0.4444444444444444,
              "#bd3786"
             ],
             [
              0.5555555555555556,
              "#d8576b"
             ],
             [
              0.6666666666666666,
              "#ed7953"
             ],
             [
              0.7777777777777778,
              "#fb9f3a"
             ],
             [
              0.8888888888888888,
              "#fdca26"
             ],
             [
              1,
              "#f0f921"
             ]
            ],
            "type": "histogram2dcontour"
           }
          ],
          "mesh3d": [
           {
            "colorbar": {
             "outlinewidth": 0,
             "ticks": ""
            },
            "type": "mesh3d"
           }
          ],
          "parcoords": [
           {
            "line": {
             "colorbar": {
              "outlinewidth": 0,
              "ticks": ""
             }
            },
            "type": "parcoords"
           }
          ],
          "pie": [
           {
            "automargin": true,
            "type": "pie"
           }
          ],
          "scatter": [
           {
            "marker": {
             "colorbar": {
              "outlinewidth": 0,
              "ticks": ""
             }
            },
            "type": "scatter"
           }
          ],
          "scatter3d": [
           {
            "line": {
             "colorbar": {
              "outlinewidth": 0,
              "ticks": ""
             }
            },
            "marker": {
             "colorbar": {
              "outlinewidth": 0,
              "ticks": ""
             }
            },
            "type": "scatter3d"
           }
          ],
          "scattercarpet": [
           {
            "marker": {
             "colorbar": {
              "outlinewidth": 0,
              "ticks": ""
             }
            },
            "type": "scattercarpet"
           }
          ],
          "scattergeo": [
           {
            "marker": {
             "colorbar": {
              "outlinewidth": 0,
              "ticks": ""
             }
            },
            "type": "scattergeo"
           }
          ],
          "scattergl": [
           {
            "marker": {
             "colorbar": {
              "outlinewidth": 0,
              "ticks": ""
             }
            },
            "type": "scattergl"
           }
          ],
          "scattermapbox": [
           {
            "marker": {
             "colorbar": {
              "outlinewidth": 0,
              "ticks": ""
             }
            },
            "type": "scattermapbox"
           }
          ],
          "scatterpolar": [
           {
            "marker": {
             "colorbar": {
              "outlinewidth": 0,
              "ticks": ""
             }
            },
            "type": "scatterpolar"
           }
          ],
          "scatterpolargl": [
           {
            "marker": {
             "colorbar": {
              "outlinewidth": 0,
              "ticks": ""
             }
            },
            "type": "scatterpolargl"
           }
          ],
          "scatterternary": [
           {
            "marker": {
             "colorbar": {
              "outlinewidth": 0,
              "ticks": ""
             }
            },
            "type": "scatterternary"
           }
          ],
          "surface": [
           {
            "colorbar": {
             "outlinewidth": 0,
             "ticks": ""
            },
            "colorscale": [
             [
              0,
              "#0d0887"
             ],
             [
              0.1111111111111111,
              "#46039f"
             ],
             [
              0.2222222222222222,
              "#7201a8"
             ],
             [
              0.3333333333333333,
              "#9c179e"
             ],
             [
              0.4444444444444444,
              "#bd3786"
             ],
             [
              0.5555555555555556,
              "#d8576b"
             ],
             [
              0.6666666666666666,
              "#ed7953"
             ],
             [
              0.7777777777777778,
              "#fb9f3a"
             ],
             [
              0.8888888888888888,
              "#fdca26"
             ],
             [
              1,
              "#f0f921"
             ]
            ],
            "type": "surface"
           }
          ],
          "table": [
           {
            "cells": {
             "fill": {
              "color": "#EBF0F8"
             },
             "line": {
              "color": "white"
             }
            },
            "header": {
             "fill": {
              "color": "#C8D4E3"
             },
             "line": {
              "color": "white"
             }
            },
            "type": "table"
           }
          ]
         },
         "layout": {
          "annotationdefaults": {
           "arrowcolor": "#2a3f5f",
           "arrowhead": 0,
           "arrowwidth": 1
          },
          "autotypenumbers": "strict",
          "coloraxis": {
           "colorbar": {
            "outlinewidth": 0,
            "ticks": ""
           }
          },
          "colorscale": {
           "diverging": [
            [
             0,
             "#8e0152"
            ],
            [
             0.1,
             "#c51b7d"
            ],
            [
             0.2,
             "#de77ae"
            ],
            [
             0.3,
             "#f1b6da"
            ],
            [
             0.4,
             "#fde0ef"
            ],
            [
             0.5,
             "#f7f7f7"
            ],
            [
             0.6,
             "#e6f5d0"
            ],
            [
             0.7,
             "#b8e186"
            ],
            [
             0.8,
             "#7fbc41"
            ],
            [
             0.9,
             "#4d9221"
            ],
            [
             1,
             "#276419"
            ]
           ],
           "sequential": [
            [
             0,
             "#0d0887"
            ],
            [
             0.1111111111111111,
             "#46039f"
            ],
            [
             0.2222222222222222,
             "#7201a8"
            ],
            [
             0.3333333333333333,
             "#9c179e"
            ],
            [
             0.4444444444444444,
             "#bd3786"
            ],
            [
             0.5555555555555556,
             "#d8576b"
            ],
            [
             0.6666666666666666,
             "#ed7953"
            ],
            [
             0.7777777777777778,
             "#fb9f3a"
            ],
            [
             0.8888888888888888,
             "#fdca26"
            ],
            [
             1,
             "#f0f921"
            ]
           ],
           "sequentialminus": [
            [
             0,
             "#0d0887"
            ],
            [
             0.1111111111111111,
             "#46039f"
            ],
            [
             0.2222222222222222,
             "#7201a8"
            ],
            [
             0.3333333333333333,
             "#9c179e"
            ],
            [
             0.4444444444444444,
             "#bd3786"
            ],
            [
             0.5555555555555556,
             "#d8576b"
            ],
            [
             0.6666666666666666,
             "#ed7953"
            ],
            [
             0.7777777777777778,
             "#fb9f3a"
            ],
            [
             0.8888888888888888,
             "#fdca26"
            ],
            [
             1,
             "#f0f921"
            ]
           ]
          },
          "colorway": [
           "#636efa",
           "#EF553B",
           "#00cc96",
           "#ab63fa",
           "#FFA15A",
           "#19d3f3",
           "#FF6692",
           "#B6E880",
           "#FF97FF",
           "#FECB52"
          ],
          "font": {
           "color": "#2a3f5f"
          },
          "geo": {
           "bgcolor": "white",
           "lakecolor": "white",
           "landcolor": "#E5ECF6",
           "showlakes": true,
           "showland": true,
           "subunitcolor": "white"
          },
          "hoverlabel": {
           "align": "left"
          },
          "hovermode": "closest",
          "mapbox": {
           "style": "light"
          },
          "paper_bgcolor": "white",
          "plot_bgcolor": "#E5ECF6",
          "polar": {
           "angularaxis": {
            "gridcolor": "white",
            "linecolor": "white",
            "ticks": ""
           },
           "bgcolor": "#E5ECF6",
           "radialaxis": {
            "gridcolor": "white",
            "linecolor": "white",
            "ticks": ""
           }
          },
          "scene": {
           "xaxis": {
            "backgroundcolor": "#E5ECF6",
            "gridcolor": "white",
            "gridwidth": 2,
            "linecolor": "white",
            "showbackground": true,
            "ticks": "",
            "zerolinecolor": "white"
           },
           "yaxis": {
            "backgroundcolor": "#E5ECF6",
            "gridcolor": "white",
            "gridwidth": 2,
            "linecolor": "white",
            "showbackground": true,
            "ticks": "",
            "zerolinecolor": "white"
           },
           "zaxis": {
            "backgroundcolor": "#E5ECF6",
            "gridcolor": "white",
            "gridwidth": 2,
            "linecolor": "white",
            "showbackground": true,
            "ticks": "",
            "zerolinecolor": "white"
           }
          },
          "shapedefaults": {
           "line": {
            "color": "#2a3f5f"
           }
          },
          "ternary": {
           "aaxis": {
            "gridcolor": "white",
            "linecolor": "white",
            "ticks": ""
           },
           "baxis": {
            "gridcolor": "white",
            "linecolor": "white",
            "ticks": ""
           },
           "bgcolor": "#E5ECF6",
           "caxis": {
            "gridcolor": "white",
            "linecolor": "white",
            "ticks": ""
           }
          },
          "title": {
           "x": 0.05
          },
          "xaxis": {
           "automargin": true,
           "gridcolor": "white",
           "linecolor": "white",
           "ticks": "",
           "title": {
            "standoff": 15
           },
           "zerolinecolor": "white",
           "zerolinewidth": 2
          },
          "yaxis": {
           "automargin": true,
           "gridcolor": "white",
           "linecolor": "white",
           "ticks": "",
           "title": {
            "standoff": 15
           },
           "zerolinecolor": "white",
           "zerolinewidth": 2
          }
         }
        },
        "xaxis": {
         "anchor": "y",
         "domain": [
          0,
          1
         ],
         "title": {
          "text": "Date"
         }
        },
        "yaxis": {
         "anchor": "x",
         "domain": [
          0,
          1
         ],
         "title": {
          "text": "Total_Sales"
         }
        }
       }
      }
     },
     "metadata": {},
     "output_type": "display_data"
    }
   ],
   "source": [
    "#plotly line\n",
    "fig = px.line(STORE_1_SERIES, x=\"Date\", y=\"Total_Sales\")#, trendline=\"ols\")\n",
    "fig.show()"
   ]
  },
  {
   "cell_type": "code",
   "execution_count": 97,
   "metadata": {},
   "outputs": [
    {
     "data": {
      "application/vnd.plotly.v1+json": {
       "config": {
        "plotlyServerURL": "https://plot.ly"
       },
       "data": [
        {
         "hovertemplate": "Date=%{x}<br>LogReturns=%{y}<extra></extra>",
         "legendgroup": "",
         "line": {
          "color": "#636efa",
          "dash": "solid"
         },
         "marker": {
          "symbol": "circle"
         },
         "mode": "lines",
         "name": "",
         "orientation": "v",
         "showlegend": false,
         "type": "scatter",
         "x": [
          "2010-02-07T00:00:00",
          "2010-02-14T00:00:00",
          "2010-02-21T00:00:00",
          "2010-02-28T00:00:00",
          "2010-03-07T00:00:00",
          "2010-03-14T00:00:00",
          "2010-03-21T00:00:00",
          "2010-03-28T00:00:00",
          "2010-04-04T00:00:00",
          "2010-04-11T00:00:00",
          "2010-04-18T00:00:00",
          "2010-04-25T00:00:00",
          "2010-05-02T00:00:00",
          "2010-05-09T00:00:00",
          "2010-05-16T00:00:00",
          "2010-05-23T00:00:00",
          "2010-05-30T00:00:00",
          "2010-06-06T00:00:00",
          "2010-06-13T00:00:00",
          "2010-06-20T00:00:00",
          "2010-06-27T00:00:00",
          "2010-07-04T00:00:00",
          "2010-07-11T00:00:00",
          "2010-07-18T00:00:00",
          "2010-07-25T00:00:00",
          "2010-08-01T00:00:00",
          "2010-08-08T00:00:00",
          "2010-08-15T00:00:00",
          "2010-08-22T00:00:00",
          "2010-08-29T00:00:00",
          "2010-09-05T00:00:00",
          "2010-09-12T00:00:00",
          "2010-09-19T00:00:00",
          "2010-09-26T00:00:00",
          "2010-10-03T00:00:00",
          "2010-10-10T00:00:00",
          "2010-10-17T00:00:00",
          "2010-10-24T00:00:00",
          "2010-10-31T00:00:00",
          "2010-11-07T00:00:00",
          "2010-11-14T00:00:00",
          "2010-11-21T00:00:00",
          "2010-11-28T00:00:00",
          "2010-12-05T00:00:00",
          "2010-12-12T00:00:00",
          "2010-12-19T00:00:00",
          "2010-12-26T00:00:00",
          "2011-01-02T00:00:00",
          "2011-01-09T00:00:00",
          "2011-01-16T00:00:00",
          "2011-01-23T00:00:00",
          "2011-01-30T00:00:00",
          "2011-02-06T00:00:00",
          "2011-02-13T00:00:00",
          "2011-02-20T00:00:00",
          "2011-02-27T00:00:00",
          "2011-03-06T00:00:00",
          "2011-03-13T00:00:00",
          "2011-03-20T00:00:00",
          "2011-03-27T00:00:00",
          "2011-04-03T00:00:00",
          "2011-04-10T00:00:00",
          "2011-04-17T00:00:00",
          "2011-04-24T00:00:00",
          "2011-05-01T00:00:00",
          "2011-05-08T00:00:00",
          "2011-05-15T00:00:00",
          "2011-05-22T00:00:00",
          "2011-05-29T00:00:00",
          "2011-06-05T00:00:00",
          "2011-06-12T00:00:00",
          "2011-06-19T00:00:00",
          "2011-06-26T00:00:00",
          "2011-07-03T00:00:00",
          "2011-07-10T00:00:00",
          "2011-07-17T00:00:00",
          "2011-07-24T00:00:00",
          "2011-07-31T00:00:00",
          "2011-08-07T00:00:00",
          "2011-08-14T00:00:00",
          "2011-08-21T00:00:00",
          "2011-08-28T00:00:00",
          "2011-09-04T00:00:00",
          "2011-09-11T00:00:00",
          "2011-09-18T00:00:00",
          "2011-09-25T00:00:00",
          "2011-10-02T00:00:00",
          "2011-10-09T00:00:00",
          "2011-10-16T00:00:00",
          "2011-10-23T00:00:00",
          "2011-10-30T00:00:00",
          "2011-11-06T00:00:00",
          "2011-11-13T00:00:00",
          "2011-11-20T00:00:00",
          "2011-11-27T00:00:00",
          "2011-12-04T00:00:00",
          "2011-12-11T00:00:00",
          "2011-12-18T00:00:00",
          "2011-12-25T00:00:00",
          "2012-01-01T00:00:00",
          "2012-01-08T00:00:00",
          "2012-01-15T00:00:00",
          "2012-01-22T00:00:00",
          "2012-01-29T00:00:00",
          "2012-02-05T00:00:00",
          "2012-02-12T00:00:00",
          "2012-02-19T00:00:00",
          "2012-02-26T00:00:00",
          "2012-03-04T00:00:00",
          "2012-03-11T00:00:00",
          "2012-03-18T00:00:00",
          "2012-03-25T00:00:00",
          "2012-04-01T00:00:00",
          "2012-04-08T00:00:00",
          "2012-04-15T00:00:00",
          "2012-04-22T00:00:00",
          "2012-04-29T00:00:00",
          "2012-05-06T00:00:00",
          "2012-05-13T00:00:00",
          "2012-05-20T00:00:00",
          "2012-05-27T00:00:00",
          "2012-06-03T00:00:00",
          "2012-06-10T00:00:00",
          "2012-06-17T00:00:00",
          "2012-06-24T00:00:00",
          "2012-07-01T00:00:00",
          "2012-07-08T00:00:00",
          "2012-07-15T00:00:00",
          "2012-07-22T00:00:00",
          "2012-07-29T00:00:00",
          "2012-08-05T00:00:00",
          "2012-08-12T00:00:00",
          "2012-08-19T00:00:00",
          "2012-08-26T00:00:00",
          "2012-09-02T00:00:00",
          "2012-09-09T00:00:00",
          "2012-09-16T00:00:00",
          "2012-09-23T00:00:00",
          "2012-09-30T00:00:00",
          "2012-10-07T00:00:00",
          "2012-10-14T00:00:00",
          "2012-10-21T00:00:00",
          "2012-10-28T00:00:00"
         ],
         "xaxis": "x",
         "y": [
          null,
          -0.0010546143438525668,
          -0.01773874845379675,
          -0.12592984546547414,
          0.1029128542486708,
          -0.07368574593466493,
          0.022410299108636567,
          -0.04623778601382611,
          0.13566953913941115,
          -0.03106629180111342,
          -0.05135194671180754,
          -0.051022637381100466,
          0.024326642315147362,
          0.12550299690749567,
          -0.0683956917697297,
          -0.06330221518934387,
          0.02315407461173824,
          0.12810460829793957,
          -0.0451640383761136,
          -0.025462220105655575,
          -0.05359762811560709,
          0.04899555187432236,
          0.0359524174639152,
          -0.06282703718653393,
          -0.044083100480177606,
          -0.009442587973475858,
          0.17019494213719,
          -0.06057584424381168,
          0.0032108531747674363,
          -0.04225655569717912,
          0.0628099608008299,
          -0.021233355655421948,
          -0.051133684952010316,
          -0.05494184277789871,
          0.07511402853442517,
          0.03782241398113784,
          -0.03241324477585128,
          -0.0780830405949916,
          0.028804567082932664,
          0.12097164039985242,
          -0.036850738262590776,
          -0.0071565451861772544,
          0.31799768211573753,
          -0.2084195668870129,
          0.08693639747318693,
          0.12386717202788944,
          0.26277424182746345,
          -0.4274084903445642,
          0.05661605873814435,
          -0.03718219682888246,
          -0.04569223733743122,
          -0.007952138987838753,
          0.22000943261182204,
          0.02675498480489802,
          0.022567600064095084,
          -0.13637459443612165,
          0.12318993376360399,
          -0.05076919736291119,
          0.015211535745914384,
          -0.022650476238203376,
          -0.029873180781149755,
          0.07992469891354204,
          -0.03385965199687713,
          0.003161000558373095,
          -0.07012252739821856,
          0.11978675363526659,
          -0.015107298229802724,
          -0.11001059101360455,
          0.026475647076895203,
          0.11529765283665894,
          -0.02821276931911776,
          -0.03576797261725917,
          -0.060886237993932224,
          0.034547468997643715,
          0.03124511916251982,
          -0.052068527332480685,
          -0.03999199461196312,
          -0.032003845412603704,
          0.2012719840463213,
          -0.06109188176747027,
          0.0036811793674274007,
          -0.04316020034552348,
          0.05839840371786731,
          -0.006294540106784985,
          -0.017015221913523004,
          -0.08865025127986959,
          0.010537207544060179,
          0.16953577454504098,
          -0.08397723112886135,
          0.005715336835334428,
          -0.038143956953332725,
          0.17435090721973734,
          -0.06026921237137517,
          -0.034769476340250405,
          0.3207808955690794,
          -0.2209374639413736,
          0.13610290666728875,
          0.04528259592117578,
          0.20705674603119562,
          -0.34052437584098727,
          0.035331230149088455,
          -0.05854651127390298,
          -0.0446747586534203,
          -0.05383575848269673,
          0.2402849322432985,
          0.10153013159584567,
          0.00975910694204929,
          -0.15421411178043898,
          0.09681311434039341,
          -0.0076809053212542056,
          0.0013247886469047732,
          -0.09917357613299072,
          0.09152013317990404,
          0.15159526437556137,
          -0.1466803028102338,
          -0.06135218083643901,
          -0.0346019096610547,
          0.14676882440496408,
          -0.04358817650066349,
          -0.00943095850802933,
          -0.025350756685309284,
          0.04438154352721857,
          0.04478570889233202,
          -0.0392545042897402,
          -0.06302020658564567,
          0.008230987654441302,
          0.14894148873500845,
          -0.13720911332038788,
          -0.019030132820520795,
          -0.03927425017828978,
          0.13342291469855638,
          -0.023656013335345838,
          0.003339569413228105,
          -0.06492755769163805,
          0.05887136233110968,
          0.05036645350049196,
          -0.0868584051414707,
          -0.007448658862013069,
          -0.045857250488050116,
          0.16264236034358115,
          -0.05848334960581447,
          -0.041322969659618014,
          -0.00955462395789819
         ],
         "yaxis": "y"
        }
       ],
       "layout": {
        "legend": {
         "tracegroupgap": 0
        },
        "margin": {
         "t": 60
        },
        "template": {
         "data": {
          "bar": [
           {
            "error_x": {
             "color": "#2a3f5f"
            },
            "error_y": {
             "color": "#2a3f5f"
            },
            "marker": {
             "line": {
              "color": "#E5ECF6",
              "width": 0.5
             },
             "pattern": {
              "fillmode": "overlay",
              "size": 10,
              "solidity": 0.2
             }
            },
            "type": "bar"
           }
          ],
          "barpolar": [
           {
            "marker": {
             "line": {
              "color": "#E5ECF6",
              "width": 0.5
             },
             "pattern": {
              "fillmode": "overlay",
              "size": 10,
              "solidity": 0.2
             }
            },
            "type": "barpolar"
           }
          ],
          "carpet": [
           {
            "aaxis": {
             "endlinecolor": "#2a3f5f",
             "gridcolor": "white",
             "linecolor": "white",
             "minorgridcolor": "white",
             "startlinecolor": "#2a3f5f"
            },
            "baxis": {
             "endlinecolor": "#2a3f5f",
             "gridcolor": "white",
             "linecolor": "white",
             "minorgridcolor": "white",
             "startlinecolor": "#2a3f5f"
            },
            "type": "carpet"
           }
          ],
          "choropleth": [
           {
            "colorbar": {
             "outlinewidth": 0,
             "ticks": ""
            },
            "type": "choropleth"
           }
          ],
          "contour": [
           {
            "colorbar": {
             "outlinewidth": 0,
             "ticks": ""
            },
            "colorscale": [
             [
              0,
              "#0d0887"
             ],
             [
              0.1111111111111111,
              "#46039f"
             ],
             [
              0.2222222222222222,
              "#7201a8"
             ],
             [
              0.3333333333333333,
              "#9c179e"
             ],
             [
              0.4444444444444444,
              "#bd3786"
             ],
             [
              0.5555555555555556,
              "#d8576b"
             ],
             [
              0.6666666666666666,
              "#ed7953"
             ],
             [
              0.7777777777777778,
              "#fb9f3a"
             ],
             [
              0.8888888888888888,
              "#fdca26"
             ],
             [
              1,
              "#f0f921"
             ]
            ],
            "type": "contour"
           }
          ],
          "contourcarpet": [
           {
            "colorbar": {
             "outlinewidth": 0,
             "ticks": ""
            },
            "type": "contourcarpet"
           }
          ],
          "heatmap": [
           {
            "colorbar": {
             "outlinewidth": 0,
             "ticks": ""
            },
            "colorscale": [
             [
              0,
              "#0d0887"
             ],
             [
              0.1111111111111111,
              "#46039f"
             ],
             [
              0.2222222222222222,
              "#7201a8"
             ],
             [
              0.3333333333333333,
              "#9c179e"
             ],
             [
              0.4444444444444444,
              "#bd3786"
             ],
             [
              0.5555555555555556,
              "#d8576b"
             ],
             [
              0.6666666666666666,
              "#ed7953"
             ],
             [
              0.7777777777777778,
              "#fb9f3a"
             ],
             [
              0.8888888888888888,
              "#fdca26"
             ],
             [
              1,
              "#f0f921"
             ]
            ],
            "type": "heatmap"
           }
          ],
          "heatmapgl": [
           {
            "colorbar": {
             "outlinewidth": 0,
             "ticks": ""
            },
            "colorscale": [
             [
              0,
              "#0d0887"
             ],
             [
              0.1111111111111111,
              "#46039f"
             ],
             [
              0.2222222222222222,
              "#7201a8"
             ],
             [
              0.3333333333333333,
              "#9c179e"
             ],
             [
              0.4444444444444444,
              "#bd3786"
             ],
             [
              0.5555555555555556,
              "#d8576b"
             ],
             [
              0.6666666666666666,
              "#ed7953"
             ],
             [
              0.7777777777777778,
              "#fb9f3a"
             ],
             [
              0.8888888888888888,
              "#fdca26"
             ],
             [
              1,
              "#f0f921"
             ]
            ],
            "type": "heatmapgl"
           }
          ],
          "histogram": [
           {
            "marker": {
             "pattern": {
              "fillmode": "overlay",
              "size": 10,
              "solidity": 0.2
             }
            },
            "type": "histogram"
           }
          ],
          "histogram2d": [
           {
            "colorbar": {
             "outlinewidth": 0,
             "ticks": ""
            },
            "colorscale": [
             [
              0,
              "#0d0887"
             ],
             [
              0.1111111111111111,
              "#46039f"
             ],
             [
              0.2222222222222222,
              "#7201a8"
             ],
             [
              0.3333333333333333,
              "#9c179e"
             ],
             [
              0.4444444444444444,
              "#bd3786"
             ],
             [
              0.5555555555555556,
              "#d8576b"
             ],
             [
              0.6666666666666666,
              "#ed7953"
             ],
             [
              0.7777777777777778,
              "#fb9f3a"
             ],
             [
              0.8888888888888888,
              "#fdca26"
             ],
             [
              1,
              "#f0f921"
             ]
            ],
            "type": "histogram2d"
           }
          ],
          "histogram2dcontour": [
           {
            "colorbar": {
             "outlinewidth": 0,
             "ticks": ""
            },
            "colorscale": [
             [
              0,
              "#0d0887"
             ],
             [
              0.1111111111111111,
              "#46039f"
             ],
             [
              0.2222222222222222,
              "#7201a8"
             ],
             [
              0.3333333333333333,
              "#9c179e"
             ],
             [
              0.4444444444444444,
              "#bd3786"
             ],
             [
              0.5555555555555556,
              "#d8576b"
             ],
             [
              0.6666666666666666,
              "#ed7953"
             ],
             [
              0.7777777777777778,
              "#fb9f3a"
             ],
             [
              0.8888888888888888,
              "#fdca26"
             ],
             [
              1,
              "#f0f921"
             ]
            ],
            "type": "histogram2dcontour"
           }
          ],
          "mesh3d": [
           {
            "colorbar": {
             "outlinewidth": 0,
             "ticks": ""
            },
            "type": "mesh3d"
           }
          ],
          "parcoords": [
           {
            "line": {
             "colorbar": {
              "outlinewidth": 0,
              "ticks": ""
             }
            },
            "type": "parcoords"
           }
          ],
          "pie": [
           {
            "automargin": true,
            "type": "pie"
           }
          ],
          "scatter": [
           {
            "marker": {
             "colorbar": {
              "outlinewidth": 0,
              "ticks": ""
             }
            },
            "type": "scatter"
           }
          ],
          "scatter3d": [
           {
            "line": {
             "colorbar": {
              "outlinewidth": 0,
              "ticks": ""
             }
            },
            "marker": {
             "colorbar": {
              "outlinewidth": 0,
              "ticks": ""
             }
            },
            "type": "scatter3d"
           }
          ],
          "scattercarpet": [
           {
            "marker": {
             "colorbar": {
              "outlinewidth": 0,
              "ticks": ""
             }
            },
            "type": "scattercarpet"
           }
          ],
          "scattergeo": [
           {
            "marker": {
             "colorbar": {
              "outlinewidth": 0,
              "ticks": ""
             }
            },
            "type": "scattergeo"
           }
          ],
          "scattergl": [
           {
            "marker": {
             "colorbar": {
              "outlinewidth": 0,
              "ticks": ""
             }
            },
            "type": "scattergl"
           }
          ],
          "scattermapbox": [
           {
            "marker": {
             "colorbar": {
              "outlinewidth": 0,
              "ticks": ""
             }
            },
            "type": "scattermapbox"
           }
          ],
          "scatterpolar": [
           {
            "marker": {
             "colorbar": {
              "outlinewidth": 0,
              "ticks": ""
             }
            },
            "type": "scatterpolar"
           }
          ],
          "scatterpolargl": [
           {
            "marker": {
             "colorbar": {
              "outlinewidth": 0,
              "ticks": ""
             }
            },
            "type": "scatterpolargl"
           }
          ],
          "scatterternary": [
           {
            "marker": {
             "colorbar": {
              "outlinewidth": 0,
              "ticks": ""
             }
            },
            "type": "scatterternary"
           }
          ],
          "surface": [
           {
            "colorbar": {
             "outlinewidth": 0,
             "ticks": ""
            },
            "colorscale": [
             [
              0,
              "#0d0887"
             ],
             [
              0.1111111111111111,
              "#46039f"
             ],
             [
              0.2222222222222222,
              "#7201a8"
             ],
             [
              0.3333333333333333,
              "#9c179e"
             ],
             [
              0.4444444444444444,
              "#bd3786"
             ],
             [
              0.5555555555555556,
              "#d8576b"
             ],
             [
              0.6666666666666666,
              "#ed7953"
             ],
             [
              0.7777777777777778,
              "#fb9f3a"
             ],
             [
              0.8888888888888888,
              "#fdca26"
             ],
             [
              1,
              "#f0f921"
             ]
            ],
            "type": "surface"
           }
          ],
          "table": [
           {
            "cells": {
             "fill": {
              "color": "#EBF0F8"
             },
             "line": {
              "color": "white"
             }
            },
            "header": {
             "fill": {
              "color": "#C8D4E3"
             },
             "line": {
              "color": "white"
             }
            },
            "type": "table"
           }
          ]
         },
         "layout": {
          "annotationdefaults": {
           "arrowcolor": "#2a3f5f",
           "arrowhead": 0,
           "arrowwidth": 1
          },
          "autotypenumbers": "strict",
          "coloraxis": {
           "colorbar": {
            "outlinewidth": 0,
            "ticks": ""
           }
          },
          "colorscale": {
           "diverging": [
            [
             0,
             "#8e0152"
            ],
            [
             0.1,
             "#c51b7d"
            ],
            [
             0.2,
             "#de77ae"
            ],
            [
             0.3,
             "#f1b6da"
            ],
            [
             0.4,
             "#fde0ef"
            ],
            [
             0.5,
             "#f7f7f7"
            ],
            [
             0.6,
             "#e6f5d0"
            ],
            [
             0.7,
             "#b8e186"
            ],
            [
             0.8,
             "#7fbc41"
            ],
            [
             0.9,
             "#4d9221"
            ],
            [
             1,
             "#276419"
            ]
           ],
           "sequential": [
            [
             0,
             "#0d0887"
            ],
            [
             0.1111111111111111,
             "#46039f"
            ],
            [
             0.2222222222222222,
             "#7201a8"
            ],
            [
             0.3333333333333333,
             "#9c179e"
            ],
            [
             0.4444444444444444,
             "#bd3786"
            ],
            [
             0.5555555555555556,
             "#d8576b"
            ],
            [
             0.6666666666666666,
             "#ed7953"
            ],
            [
             0.7777777777777778,
             "#fb9f3a"
            ],
            [
             0.8888888888888888,
             "#fdca26"
            ],
            [
             1,
             "#f0f921"
            ]
           ],
           "sequentialminus": [
            [
             0,
             "#0d0887"
            ],
            [
             0.1111111111111111,
             "#46039f"
            ],
            [
             0.2222222222222222,
             "#7201a8"
            ],
            [
             0.3333333333333333,
             "#9c179e"
            ],
            [
             0.4444444444444444,
             "#bd3786"
            ],
            [
             0.5555555555555556,
             "#d8576b"
            ],
            [
             0.6666666666666666,
             "#ed7953"
            ],
            [
             0.7777777777777778,
             "#fb9f3a"
            ],
            [
             0.8888888888888888,
             "#fdca26"
            ],
            [
             1,
             "#f0f921"
            ]
           ]
          },
          "colorway": [
           "#636efa",
           "#EF553B",
           "#00cc96",
           "#ab63fa",
           "#FFA15A",
           "#19d3f3",
           "#FF6692",
           "#B6E880",
           "#FF97FF",
           "#FECB52"
          ],
          "font": {
           "color": "#2a3f5f"
          },
          "geo": {
           "bgcolor": "white",
           "lakecolor": "white",
           "landcolor": "#E5ECF6",
           "showlakes": true,
           "showland": true,
           "subunitcolor": "white"
          },
          "hoverlabel": {
           "align": "left"
          },
          "hovermode": "closest",
          "mapbox": {
           "style": "light"
          },
          "paper_bgcolor": "white",
          "plot_bgcolor": "#E5ECF6",
          "polar": {
           "angularaxis": {
            "gridcolor": "white",
            "linecolor": "white",
            "ticks": ""
           },
           "bgcolor": "#E5ECF6",
           "radialaxis": {
            "gridcolor": "white",
            "linecolor": "white",
            "ticks": ""
           }
          },
          "scene": {
           "xaxis": {
            "backgroundcolor": "#E5ECF6",
            "gridcolor": "white",
            "gridwidth": 2,
            "linecolor": "white",
            "showbackground": true,
            "ticks": "",
            "zerolinecolor": "white"
           },
           "yaxis": {
            "backgroundcolor": "#E5ECF6",
            "gridcolor": "white",
            "gridwidth": 2,
            "linecolor": "white",
            "showbackground": true,
            "ticks": "",
            "zerolinecolor": "white"
           },
           "zaxis": {
            "backgroundcolor": "#E5ECF6",
            "gridcolor": "white",
            "gridwidth": 2,
            "linecolor": "white",
            "showbackground": true,
            "ticks": "",
            "zerolinecolor": "white"
           }
          },
          "shapedefaults": {
           "line": {
            "color": "#2a3f5f"
           }
          },
          "ternary": {
           "aaxis": {
            "gridcolor": "white",
            "linecolor": "white",
            "ticks": ""
           },
           "baxis": {
            "gridcolor": "white",
            "linecolor": "white",
            "ticks": ""
           },
           "bgcolor": "#E5ECF6",
           "caxis": {
            "gridcolor": "white",
            "linecolor": "white",
            "ticks": ""
           }
          },
          "title": {
           "x": 0.05
          },
          "xaxis": {
           "automargin": true,
           "gridcolor": "white",
           "linecolor": "white",
           "ticks": "",
           "title": {
            "standoff": 15
           },
           "zerolinecolor": "white",
           "zerolinewidth": 2
          },
          "yaxis": {
           "automargin": true,
           "gridcolor": "white",
           "linecolor": "white",
           "ticks": "",
           "title": {
            "standoff": 15
           },
           "zerolinecolor": "white",
           "zerolinewidth": 2
          }
         }
        },
        "xaxis": {
         "anchor": "y",
         "domain": [
          0,
          1
         ],
         "title": {
          "text": "Date"
         }
        },
        "yaxis": {
         "anchor": "x",
         "domain": [
          0,
          1
         ],
         "title": {
          "text": "LogReturns"
         }
        }
       }
      }
     },
     "metadata": {},
     "output_type": "display_data"
    }
   ],
   "source": [
    "#  analyze the so-called log-returns, i.e. the day-to-day changes after a log-transformation of the series:\n",
    "STORE_1_SERIES_logreturns = STORE_1_SERIES.assign(LogReturns = lambda x : STORE_1_SERIES['Total_Sales'].pct_change())\n",
    "fig = px.line(STORE_1_SERIES_logreturns, x=\"Date\", y=\"LogReturns\")#, trendline=\"ols\")\n",
    "fig.show()"
   ]
  },
  {
   "cell_type": "code",
   "execution_count": 98,
   "metadata": {},
   "outputs": [
    {
     "name": "stdout",
     "output_type": "stream",
     "text": [
      "mean1=1528358.680694, mean2=1582604.813521\n",
      "variance1=23356554589.061077, variance2=23503197166.342869\n"
     ]
    }
   ],
   "source": [
    "#Running this example shows that the mean and variance values are different, but in the same ball-park.\n",
    "\n",
    "X = STORE_1_SERIES['Total_Sales'].values\n",
    "split = round(len(X) / 2)\n",
    "X1, X2 = X[0:split], X[split:]\n",
    "mean1, mean2 = X1.mean(), X2.mean()\n",
    "var1, var2 = X1.var(), X2.var()\n",
    "print('mean1=%f, mean2=%f' % (mean1, mean2))\n",
    "print('variance1=%f, variance2=%f' % (var1, var2))"
   ]
  },
  {
   "cell_type": "code",
   "execution_count": 99,
   "metadata": {},
   "outputs": [
    {
     "data": {
      "image/png": "[encoded data removed]",
      "text/plain": [
       "<Figure size 432x288 with 2 Axes>"
      ]
     },
     "metadata": {
      "needs_background": "light"
     },
     "output_type": "display_data"
    }
   ],
   "source": [
    "STORE_1_SERIES.hist()\n",
    "plt.show()"
   ]
  },
  {
   "cell_type": "code",
   "execution_count": 100,
   "metadata": {},
   "outputs": [
    {
     "data": {
      "application/vnd.plotly.v1+json": {
       "config": {
        "plotlyServerURL": "https://plot.ly"
       },
       "data": [
        {
         "alignmentgroup": "True",
         "bingroup": "x",
         "hovertemplate": "Total_Sales=%{x}<br>count=%{y}<extra></extra>",
         "legendgroup": "",
         "marker": {
          "color": "#636efa",
          "pattern": {
           "shape": ""
          }
         },
         "name": "",
         "offsetgroup": "",
         "orientation": "v",
         "showlegend": false,
         "type": "histogram",
         "x": [
          1643690.9,
          1641957.44,
          1612831.17,
          1409727.59,
          1554806.68,
          1440239.59,
          1472515.79,
          1404429.92,
          1594968.28,
          1545418.53,
          1466058.28,
          1391256.12,
          1425100.71,
          1603955.1199999999,
          1494251.5,
          1399662.07,
          1432069.95,
          1615524.71,
          1542561.09,
          1503284.06,
          1422711.6,
          1492418.1400000001,
          1546074.18,
          1448938.92,
          1385065.2,
          1371986.6,
          1605491.78,
          1508237.76,
          1513080.49,
          1449142.92,
          1540163.53,
          1507460.69,
          1430378.67,
          1351791.03,
          1453329.5,
          1508297.93,
          1459409.1,
          1345454,
          1384209.22,
          1551659.28,
          1494479.49,
          1483784.18,
          1955624.11,
          1548033.78,
          1682614.26,
          1891034.93,
          2387950.2,
          1367320.01,
          1444732.28,
          1391013.96,
          1327455.42,
          1316899.31,
          1606629.58,
          1649614.93,
          1686842.78,
          1456800.28,
          1636263.41,
          1553191.63,
          1576818.06,
          1541102.3800000001,
          1495064.75,
          1614557.35,
          1559889,
          1564819.81,
          1455090.69,
          1629391.28,
          1604775.58,
          1428233.27,
          1466046.67,
          1635078.41,
          1588948.32,
          1532114.86,
          1438830.15,
          1488538.09,
          1535047.64,
          1455119.97,
          1396926.82,
          1352219.79,
          1624383.75,
          1525147.09,
          1530761.43,
          1464693.46,
          1550229.22,
          1540471.24,
          1514259.78,
          1380020.27,
          1394561.83,
          1630989.95,
          1494023.93,
          1502562.78,
          1445249.09,
          1697229.58,
          1594938.8900000001,
          1539483.7,
          2033320.66,
          1584083.95,
          1799682.38,
          1881176.67,
          2270686.99,
          1497462.72,
          1550369.92,
          1459601.17,
          1394393.84,
          1319325.59,
          1636339.65,
          1802477.43,
          1820068,
          1539387.83,
          1688420.76,
          1675452.16,
          1677671.78,
          1511291.07,
          1649604.63,
          1899676.8800000001,
          1621031.7,
          1521577.8699999999,
          1468928.3699999999,
          1684521.26,
          1611096.05,
          1595901.87,
          1555444.55,
          1624477.58,
          1697230.96,
          1630607,
          1527845.81,
          1540421.49,
          1769854.16,
          1527014.04,
          1497954.76,
          1439123.71,
          1631135.79,
          1592549.62,
          1597868.05,
          1494122.38,
          1582083.4,
          1661767.33,
          1517428.87,
          1506126.06,
          1437059.26,
          1670785.97,
          1573072.81,
          1508068.77,
          1493659.74
         ],
         "xaxis": "x",
         "yaxis": "y"
        }
       ],
       "layout": {
        "barmode": "relative",
        "legend": {
         "tracegroupgap": 0
        },
        "margin": {
         "t": 60
        },
        "template": {
         "data": {
          "bar": [
           {
            "error_x": {
             "color": "#2a3f5f"
            },
            "error_y": {
             "color": "#2a3f5f"
            },
            "marker": {
             "line": {
              "color": "#E5ECF6",
              "width": 0.5
             },
             "pattern": {
              "fillmode": "overlay",
              "size": 10,
              "solidity": 0.2
             }
            },
            "type": "bar"
           }
          ],
          "barpolar": [
           {
            "marker": {
             "line": {
              "color": "#E5ECF6",
              "width": 0.5
             },
             "pattern": {
              "fillmode": "overlay",
              "size": 10,
              "solidity": 0.2
             }
            },
            "type": "barpolar"
           }
          ],
          "carpet": [
           {
            "aaxis": {
             "endlinecolor": "#2a3f5f",
             "gridcolor": "white",
             "linecolor": "white",
             "minorgridcolor": "white",
             "startlinecolor": "#2a3f5f"
            },
            "baxis": {
             "endlinecolor": "#2a3f5f",
             "gridcolor": "white",
             "linecolor": "white",
             "minorgridcolor": "white",
             "startlinecolor": "#2a3f5f"
            },
            "type": "carpet"
           }
          ],
          "choropleth": [
           {
            "colorbar": {
             "outlinewidth": 0,
             "ticks": ""
            },
            "type": "choropleth"
           }
          ],
          "contour": [
           {
            "colorbar": {
             "outlinewidth": 0,
             "ticks": ""
            },
            "colorscale": [
             [
              0,
              "#0d0887"
             ],
             [
              0.1111111111111111,
              "#46039f"
             ],
             [
              0.2222222222222222,
              "#7201a8"
             ],
             [
              0.3333333333333333,
              "#9c179e"
             ],
             [
              0.4444444444444444,
              "#bd3786"
             ],
             [
              0.5555555555555556,
              "#d8576b"
             ],
             [
              0.6666666666666666,
              "#ed7953"
             ],
             [
              0.7777777777777778,
              "#fb9f3a"
             ],
             [
              0.8888888888888888,
              "#fdca26"
             ],
             [
              1,
              "#f0f921"
             ]
            ],
            "type": "contour"
           }
          ],
          "contourcarpet": [
           {
            "colorbar": {
             "outlinewidth": 0,
             "ticks": ""
            },
            "type": "contourcarpet"
           }
          ],
          "heatmap": [
           {
            "colorbar": {
             "outlinewidth": 0,
             "ticks": ""
            },
            "colorscale": [
             [
              0,
              "#0d0887"
             ],
             [
              0.1111111111111111,
              "#46039f"
             ],
             [
              0.2222222222222222,
              "#7201a8"
             ],
             [
              0.3333333333333333,
              "#9c179e"
             ],
             [
              0.4444444444444444,
              "#bd3786"
             ],
             [
              0.5555555555555556,
              "#d8576b"
             ],
             [
              0.6666666666666666,
              "#ed7953"
             ],
             [
              0.7777777777777778,
              "#fb9f3a"
             ],
             [
              0.8888888888888888,
              "#fdca26"
             ],
             [
              1,
              "#f0f921"
             ]
            ],
            "type": "heatmap"
           }
          ],
          "heatmapgl": [
           {
            "colorbar": {
             "outlinewidth": 0,
             "ticks": ""
            },
            "colorscale": [
             [
              0,
              "#0d0887"
             ],
             [
              0.1111111111111111,
              "#46039f"
             ],
             [
              0.2222222222222222,
              "#7201a8"
             ],
             [
              0.3333333333333333,
              "#9c179e"
             ],
             [
              0.4444444444444444,
              "#bd3786"
             ],
             [
              0.5555555555555556,
              "#d8576b"
             ],
             [
              0.6666666666666666,
              "#ed7953"
             ],
             [
              0.7777777777777778,
              "#fb9f3a"
             ],
             [
              0.8888888888888888,
              "#fdca26"
             ],
             [
              1,
              "#f0f921"
             ]
            ],
            "type": "heatmapgl"
           }
          ],
          "histogram": [
           {
            "marker": {
             "pattern": {
              "fillmode": "overlay",
              "size": 10,
              "solidity": 0.2
             }
            },
            "type": "histogram"
           }
          ],
          "histogram2d": [
           {
            "colorbar": {
             "outlinewidth": 0,
             "ticks": ""
            },
            "colorscale": [
             [
              0,
              "#0d0887"
             ],
             [
              0.1111111111111111,
              "#46039f"
             ],
             [
              0.2222222222222222,
              "#7201a8"
             ],
             [
              0.3333333333333333,
              "#9c179e"
             ],
             [
              0.4444444444444444,
              "#bd3786"
             ],
             [
              0.5555555555555556,
              "#d8576b"
             ],
             [
              0.6666666666666666,
              "#ed7953"
             ],
             [
              0.7777777777777778,
              "#fb9f3a"
             ],
             [
              0.8888888888888888,
              "#fdca26"
             ],
             [
              1,
              "#f0f921"
             ]
            ],
            "type": "histogram2d"
           }
          ],
          "histogram2dcontour": [
           {
            "colorbar": {
             "outlinewidth": 0,
             "ticks": ""
            },
            "colorscale": [
             [
              0,
              "#0d0887"
             ],
             [
              0.1111111111111111,
              "#46039f"
             ],
             [
              0.2222222222222222,
              "#7201a8"
             ],
             [
              0.3333333333333333,
              "#9c179e"
             ],
             [
              0.4444444444444444,
              "#bd3786"
             ],
             [
              0.5555555555555556,
              "#d8576b"
             ],
             [
              0.6666666666666666,
              "#ed7953"
             ],
             [
              0.7777777777777778,
              "#fb9f3a"
             ],
             [
              0.8888888888888888,
              "#fdca26"
             ],
             [
              1,
              "#f0f921"
             ]
            ],
            "type": "histogram2dcontour"
           }
          ],
          "mesh3d": [
           {
            "colorbar": {
             "outlinewidth": 0,
             "ticks": ""
            },
            "type": "mesh3d"
           }
          ],
          "parcoords": [
           {
            "line": {
             "colorbar": {
              "outlinewidth": 0,
              "ticks": ""
             }
            },
            "type": "parcoords"
           }
          ],
          "pie": [
           {
            "automargin": true,
            "type": "pie"
           }
          ],
          "scatter": [
           {
            "marker": {
             "colorbar": {
              "outlinewidth": 0,
              "ticks": ""
             }
            },
            "type": "scatter"
           }
          ],
          "scatter3d": [
           {
            "line": {
             "colorbar": {
              "outlinewidth": 0,
              "ticks": ""
             }
            },
            "marker": {
             "colorbar": {
              "outlinewidth": 0,
              "ticks": ""
             }
            },
            "type": "scatter3d"
           }
          ],
          "scattercarpet": [
           {
            "marker": {
             "colorbar": {
              "outlinewidth": 0,
              "ticks": ""
             }
            },
            "type": "scattercarpet"
           }
          ],
          "scattergeo": [
           {
            "marker": {
             "colorbar": {
              "outlinewidth": 0,
              "ticks": ""
             }
            },
            "type": "scattergeo"
           }
          ],
          "scattergl": [
           {
            "marker": {
             "colorbar": {
              "outlinewidth": 0,
              "ticks": ""
             }
            },
            "type": "scattergl"
           }
          ],
          "scattermapbox": [
           {
            "marker": {
             "colorbar": {
              "outlinewidth": 0,
              "ticks": ""
             }
            },
            "type": "scattermapbox"
           }
          ],
          "scatterpolar": [
           {
            "marker": {
             "colorbar": {
              "outlinewidth": 0,
              "ticks": ""
             }
            },
            "type": "scatterpolar"
           }
          ],
          "scatterpolargl": [
           {
            "marker": {
             "colorbar": {
              "outlinewidth": 0,
              "ticks": ""
             }
            },
            "type": "scatterpolargl"
           }
          ],
          "scatterternary": [
           {
            "marker": {
             "colorbar": {
              "outlinewidth": 0,
              "ticks": ""
             }
            },
            "type": "scatterternary"
           }
          ],
          "surface": [
           {
            "colorbar": {
             "outlinewidth": 0,
             "ticks": ""
            },
            "colorscale": [
             [
              0,
              "#0d0887"
             ],
             [
              0.1111111111111111,
              "#46039f"
             ],
             [
              0.2222222222222222,
              "#7201a8"
             ],
             [
              0.3333333333333333,
              "#9c179e"
             ],
             [
              0.4444444444444444,
              "#bd3786"
             ],
             [
              0.5555555555555556,
              "#d8576b"
             ],
             [
              0.6666666666666666,
              "#ed7953"
             ],
             [
              0.7777777777777778,
              "#fb9f3a"
             ],
             [
              0.8888888888888888,
              "#fdca26"
             ],
             [
              1,
              "#f0f921"
             ]
            ],
            "type": "surface"
           }
          ],
          "table": [
           {
            "cells": {
             "fill": {
              "color": "#EBF0F8"
             },
             "line": {
              "color": "white"
             }
            },
            "header": {
             "fill": {
              "color": "#C8D4E3"
             },
             "line": {
              "color": "white"
             }
            },
            "type": "table"
           }
          ]
         },
         "layout": {
          "annotationdefaults": {
           "arrowcolor": "#2a3f5f",
           "arrowhead": 0,
           "arrowwidth": 1
          },
          "autotypenumbers": "strict",
          "coloraxis": {
           "colorbar": {
            "outlinewidth": 0,
            "ticks": ""
           }
          },
          "colorscale": {
           "diverging": [
            [
             0,
             "#8e0152"
            ],
            [
             0.1,
             "#c51b7d"
            ],
            [
             0.2,
             "#de77ae"
            ],
            [
             0.3,
             "#f1b6da"
            ],
            [
             0.4,
             "#fde0ef"
            ],
            [
             0.5,
             "#f7f7f7"
            ],
            [
             0.6,
             "#e6f5d0"
            ],
            [
             0.7,
             "#b8e186"
            ],
            [
             0.8,
             "#7fbc41"
            ],
            [
             0.9,
             "#4d9221"
            ],
            [
             1,
             "#276419"
            ]
           ],
           "sequential": [
            [
             0,
             "#0d0887"
            ],
            [
             0.1111111111111111,
             "#46039f"
            ],
            [
             0.2222222222222222,
             "#7201a8"
            ],
            [
             0.3333333333333333,
             "#9c179e"
            ],
            [
             0.4444444444444444,
             "#bd3786"
            ],
            [
             0.5555555555555556,
             "#d8576b"
            ],
            [
             0.6666666666666666,
             "#ed7953"
            ],
            [
             0.7777777777777778,
             "#fb9f3a"
            ],
            [
             0.8888888888888888,
             "#fdca26"
            ],
            [
             1,
             "#f0f921"
            ]
           ],
           "sequentialminus": [
            [
             0,
             "#0d0887"
            ],
            [
             0.1111111111111111,
             "#46039f"
            ],
            [
             0.2222222222222222,
             "#7201a8"
            ],
            [
             0.3333333333333333,
             "#9c179e"
            ],
            [
             0.4444444444444444,
             "#bd3786"
            ],
            [
             0.5555555555555556,
             "#d8576b"
            ],
            [
             0.6666666666666666,
             "#ed7953"
            ],
            [
             0.7777777777777778,
             "#fb9f3a"
            ],
            [
             0.8888888888888888,
             "#fdca26"
            ],
            [
             1,
             "#f0f921"
            ]
           ]
          },
          "colorway": [
           "#636efa",
           "#EF553B",
           "#00cc96",
           "#ab63fa",
           "#FFA15A",
           "#19d3f3",
           "#FF6692",
           "#B6E880",
           "#FF97FF",
           "#FECB52"
          ],
          "font": {
           "color": "#2a3f5f"
          },
          "geo": {
           "bgcolor": "white",
           "lakecolor": "white",
           "landcolor": "#E5ECF6",
           "showlakes": true,
           "showland": true,
           "subunitcolor": "white"
          },
          "hoverlabel": {
           "align": "left"
          },
          "hovermode": "closest",
          "mapbox": {
           "style": "light"
          },
          "paper_bgcolor": "white",
          "plot_bgcolor": "#E5ECF6",
          "polar": {
           "angularaxis": {
            "gridcolor": "white",
            "linecolor": "white",
            "ticks": ""
           },
           "bgcolor": "#E5ECF6",
           "radialaxis": {
            "gridcolor": "white",
            "linecolor": "white",
            "ticks": ""
           }
          },
          "scene": {
           "xaxis": {
            "backgroundcolor": "#E5ECF6",
            "gridcolor": "white",
            "gridwidth": 2,
            "linecolor": "white",
            "showbackground": true,
            "ticks": "",
            "zerolinecolor": "white"
           },
           "yaxis": {
            "backgroundcolor": "#E5ECF6",
            "gridcolor": "white",
            "gridwidth": 2,
            "linecolor": "white",
            "showbackground": true,
            "ticks": "",
            "zerolinecolor": "white"
           },
           "zaxis": {
            "backgroundcolor": "#E5ECF6",
            "gridcolor": "white",
            "gridwidth": 2,
            "linecolor": "white",
            "showbackground": true,
            "ticks": "",
            "zerolinecolor": "white"
           }
          },
          "shapedefaults": {
           "line": {
            "color": "#2a3f5f"
           }
          },
          "ternary": {
           "aaxis": {
            "gridcolor": "white",
            "linecolor": "white",
            "ticks": ""
           },
           "baxis": {
            "gridcolor": "white",
            "linecolor": "white",
            "ticks": ""
           },
           "bgcolor": "#E5ECF6",
           "caxis": {
            "gridcolor": "white",
            "linecolor": "white",
            "ticks": ""
           }
          },
          "title": {
           "x": 0.05
          },
          "xaxis": {
           "automargin": true,
           "gridcolor": "white",
           "linecolor": "white",
           "ticks": "",
           "title": {
            "standoff": 15
           },
           "zerolinecolor": "white",
           "zerolinewidth": 2
          },
          "yaxis": {
           "automargin": true,
           "gridcolor": "white",
           "linecolor": "white",
           "ticks": "",
           "title": {
            "standoff": 15
           },
           "zerolinecolor": "white",
           "zerolinewidth": 2
          }
         }
        },
        "xaxis": {
         "anchor": "y",
         "domain": [
          0,
          1
         ],
         "title": {
          "text": "Total_Sales"
         }
        },
        "yaxis": {
         "anchor": "x",
         "domain": [
          0,
          1
         ],
         "title": {
          "text": "count"
         }
        }
       }
      }
     },
     "metadata": {},
     "output_type": "display_data"
    }
   ],
   "source": [
    "fig = px.histogram(STORE_1_SERIES, x=\"Total_Sales\")\n",
    "fig.show()"
   ]
  },
  {
   "cell_type": "code",
   "execution_count": 101,
   "metadata": {},
   "outputs": [
    {
     "data": {
      "application/vnd.plotly.v1+json": {
       "config": {
        "plotlyServerURL": "https://plot.ly"
       },
       "data": [
        {
         "alignmentgroup": "True",
         "bingroup": "x",
         "histnorm": "probability density",
         "hovertemplate": "Total_Sales=%{x}<br>probability density=%{y}<extra></extra>",
         "legendgroup": "",
         "marker": {
          "color": "#636efa",
          "pattern": {
           "shape": ""
          }
         },
         "name": "",
         "offsetgroup": "",
         "orientation": "v",
         "showlegend": false,
         "type": "histogram",
         "x": [
          1643690.9,
          1641957.44,
          1612831.17,
          1409727.59,
          1554806.68,
          1440239.59,
          1472515.79,
          1404429.92,
          1594968.28,
          1545418.53,
          1466058.28,
          1391256.12,
          1425100.71,
          1603955.1199999999,
          1494251.5,
          1399662.07,
          1432069.95,
          1615524.71,
          1542561.09,
          1503284.06,
          1422711.6,
          1492418.1400000001,
          1546074.18,
          1448938.92,
          1385065.2,
          1371986.6,
          1605491.78,
          1508237.76,
          1513080.49,
          1449142.92,
          1540163.53,
          1507460.69,
          1430378.67,
          1351791.03,
          1453329.5,
          1508297.93,
          1459409.1,
          1345454,
          1384209.22,
          1551659.28,
          1494479.49,
          1483784.18,
          1955624.11,
          1548033.78,
          1682614.26,
          1891034.93,
          2387950.2,
          1367320.01,
          1444732.28,
          1391013.96,
          1327455.42,
          1316899.31,
          1606629.58,
          1649614.93,
          1686842.78,
          1456800.28,
          1636263.41,
          1553191.63,
          1576818.06,
          1541102.3800000001,
          1495064.75,
          1614557.35,
          1559889,
          1564819.81,
          1455090.69,
          1629391.28,
          1604775.58,
          1428233.27,
          1466046.67,
          1635078.41,
          1588948.32,
          1532114.86,
          1438830.15,
          1488538.09,
          1535047.64,
          1455119.97,
          1396926.82,
          1352219.79,
          1624383.75,
          1525147.09,
          1530761.43,
          1464693.46,
          1550229.22,
          1540471.24,
          1514259.78,
          1380020.27,
          1394561.83,
          1630989.95,
          1494023.93,
          1502562.78,
          1445249.09,
          1697229.58,
          1594938.8900000001,
          1539483.7,
          2033320.66,
          1584083.95,
          1799682.38,
          1881176.67,
          2270686.99,
          1497462.72,
          1550369.92,
          1459601.17,
          1394393.84,
          1319325.59,
          1636339.65,
          1802477.43,
          1820068,
          1539387.83,
          1688420.76,
          1675452.16,
          1677671.78,
          1511291.07,
          1649604.63,
          1899676.8800000001,
          1621031.7,
          1521577.8699999999,
          1468928.3699999999,
          1684521.26,
          1611096.05,
          1595901.87,
          1555444.55,
          1624477.58,
          1697230.96,
          1630607,
          1527845.81,
          1540421.49,
          1769854.16,
          1527014.04,
          1497954.76,
          1439123.71,
          1631135.79,
          1592549.62,
          1597868.05,
          1494122.38,
          1582083.4,
          1661767.33,
          1517428.87,
          1506126.06,
          1437059.26,
          1670785.97,
          1573072.81,
          1508068.77,
          1493659.74
         ],
         "xaxis": "x",
         "yaxis": "y"
        }
       ],
       "layout": {
        "barmode": "relative",
        "legend": {
         "tracegroupgap": 0
        },
        "margin": {
         "t": 60
        },
        "template": {
         "data": {
          "bar": [
           {
            "error_x": {
             "color": "#2a3f5f"
            },
            "error_y": {
             "color": "#2a3f5f"
            },
            "marker": {
             "line": {
              "color": "#E5ECF6",
              "width": 0.5
             },
             "pattern": {
              "fillmode": "overlay",
              "size": 10,
              "solidity": 0.2
             }
            },
            "type": "bar"
           }
          ],
          "barpolar": [
           {
            "marker": {
             "line": {
              "color": "#E5ECF6",
              "width": 0.5
             },
             "pattern": {
              "fillmode": "overlay",
              "size": 10,
              "solidity": 0.2
             }
            },
            "type": "barpolar"
           }
          ],
          "carpet": [
           {
            "aaxis": {
             "endlinecolor": "#2a3f5f",
             "gridcolor": "white",
             "linecolor": "white",
             "minorgridcolor": "white",
             "startlinecolor": "#2a3f5f"
            },
            "baxis": {
             "endlinecolor": "#2a3f5f",
             "gridcolor": "white",
             "linecolor": "white",
             "minorgridcolor": "white",
             "startlinecolor": "#2a3f5f"
            },
            "type": "carpet"
           }
          ],
          "choropleth": [
           {
            "colorbar": {
             "outlinewidth": 0,
             "ticks": ""
            },
            "type": "choropleth"
           }
          ],
          "contour": [
           {
            "colorbar": {
             "outlinewidth": 0,
             "ticks": ""
            },
            "colorscale": [
             [
              0,
              "#0d0887"
             ],
             [
              0.1111111111111111,
              "#46039f"
             ],
             [
              0.2222222222222222,
              "#7201a8"
             ],
             [
              0.3333333333333333,
              "#9c179e"
             ],
             [
              0.4444444444444444,
              "#bd3786"
             ],
             [
              0.5555555555555556,
              "#d8576b"
             ],
             [
              0.6666666666666666,
              "#ed7953"
             ],
             [
              0.7777777777777778,
              "#fb9f3a"
             ],
             [
              0.8888888888888888,
              "#fdca26"
             ],
             [
              1,
              "#f0f921"
             ]
            ],
            "type": "contour"
           }
          ],
          "contourcarpet": [
           {
            "colorbar": {
             "outlinewidth": 0,
             "ticks": ""
            },
            "type": "contourcarpet"
           }
          ],
          "heatmap": [
           {
            "colorbar": {
             "outlinewidth": 0,
             "ticks": ""
            },
            "colorscale": [
             [
              0,
              "#0d0887"
             ],
             [
              0.1111111111111111,
              "#46039f"
             ],
             [
              0.2222222222222222,
              "#7201a8"
             ],
             [
              0.3333333333333333,
              "#9c179e"
             ],
             [
              0.4444444444444444,
              "#bd3786"
             ],
             [
              0.5555555555555556,
              "#d8576b"
             ],
             [
              0.6666666666666666,
              "#ed7953"
             ],
             [
              0.7777777777777778,
              "#fb9f3a"
             ],
             [
              0.8888888888888888,
              "#fdca26"
             ],
             [
              1,
              "#f0f921"
             ]
            ],
            "type": "heatmap"
           }
          ],
          "heatmapgl": [
           {
            "colorbar": {
             "outlinewidth": 0,
             "ticks": ""
            },
            "colorscale": [
             [
              0,
              "#0d0887"
             ],
             [
              0.1111111111111111,
              "#46039f"
             ],
             [
              0.2222222222222222,
              "#7201a8"
             ],
             [
              0.3333333333333333,
              "#9c179e"
             ],
             [
              0.4444444444444444,
              "#bd3786"
             ],
             [
              0.5555555555555556,
              "#d8576b"
             ],
             [
              0.6666666666666666,
              "#ed7953"
             ],
             [
              0.7777777777777778,
              "#fb9f3a"
             ],
             [
              0.8888888888888888,
              "#fdca26"
             ],
             [
              1,
              "#f0f921"
             ]
            ],
            "type": "heatmapgl"
           }
          ],
          "histogram": [
           {
            "marker": {
             "pattern": {
              "fillmode": "overlay",
              "size": 10,
              "solidity": 0.2
             }
            },
            "type": "histogram"
           }
          ],
          "histogram2d": [
           {
            "colorbar": {
             "outlinewidth": 0,
             "ticks": ""
            },
            "colorscale": [
             [
              0,
              "#0d0887"
             ],
             [
              0.1111111111111111,
              "#46039f"
             ],
             [
              0.2222222222222222,
              "#7201a8"
             ],
             [
              0.3333333333333333,
              "#9c179e"
             ],
             [
              0.4444444444444444,
              "#bd3786"
             ],
             [
              0.5555555555555556,
              "#d8576b"
             ],
             [
              0.6666666666666666,
              "#ed7953"
             ],
             [
              0.7777777777777778,
              "#fb9f3a"
             ],
             [
              0.8888888888888888,
              "#fdca26"
             ],
             [
              1,
              "#f0f921"
             ]
            ],
            "type": "histogram2d"
           }
          ],
          "histogram2dcontour": [
           {
            "colorbar": {
             "outlinewidth": 0,
             "ticks": ""
            },
            "colorscale": [
             [
              0,
              "#0d0887"
             ],
             [
              0.1111111111111111,
              "#46039f"
             ],
             [
              0.2222222222222222,
              "#7201a8"
             ],
             [
              0.3333333333333333,
              "#9c179e"
             ],
             [
              0.4444444444444444,
              "#bd3786"
             ],
             [
              0.5555555555555556,
              "#d8576b"
             ],
             [
              0.6666666666666666,
              "#ed7953"
             ],
             [
              0.7777777777777778,
              "#fb9f3a"
             ],
             [
              0.8888888888888888,
              "#fdca26"
             ],
             [
              1,
              "#f0f921"
             ]
            ],
            "type": "histogram2dcontour"
           }
          ],
          "mesh3d": [
           {
            "colorbar": {
             "outlinewidth": 0,
             "ticks": ""
            },
            "type": "mesh3d"
           }
          ],
          "parcoords": [
           {
            "line": {
             "colorbar": {
              "outlinewidth": 0,
              "ticks": ""
             }
            },
            "type": "parcoords"
           }
          ],
          "pie": [
           {
            "automargin": true,
            "type": "pie"
           }
          ],
          "scatter": [
           {
            "marker": {
             "colorbar": {
              "outlinewidth": 0,
              "ticks": ""
             }
            },
            "type": "scatter"
           }
          ],
          "scatter3d": [
           {
            "line": {
             "colorbar": {
              "outlinewidth": 0,
              "ticks": ""
             }
            },
            "marker": {
             "colorbar": {
              "outlinewidth": 0,
              "ticks": ""
             }
            },
            "type": "scatter3d"
           }
          ],
          "scattercarpet": [
           {
            "marker": {
             "colorbar": {
              "outlinewidth": 0,
              "ticks": ""
             }
            },
            "type": "scattercarpet"
           }
          ],
          "scattergeo": [
           {
            "marker": {
             "colorbar": {
              "outlinewidth": 0,
              "ticks": ""
             }
            },
            "type": "scattergeo"
           }
          ],
          "scattergl": [
           {
            "marker": {
             "colorbar": {
              "outlinewidth": 0,
              "ticks": ""
             }
            },
            "type": "scattergl"
           }
          ],
          "scattermapbox": [
           {
            "marker": {
             "colorbar": {
              "outlinewidth": 0,
              "ticks": ""
             }
            },
            "type": "scattermapbox"
           }
          ],
          "scatterpolar": [
           {
            "marker": {
             "colorbar": {
              "outlinewidth": 0,
              "ticks": ""
             }
            },
            "type": "scatterpolar"
           }
          ],
          "scatterpolargl": [
           {
            "marker": {
             "colorbar": {
              "outlinewidth": 0,
              "ticks": ""
             }
            },
            "type": "scatterpolargl"
           }
          ],
          "scatterternary": [
           {
            "marker": {
             "colorbar": {
              "outlinewidth": 0,
              "ticks": ""
             }
            },
            "type": "scatterternary"
           }
          ],
          "surface": [
           {
            "colorbar": {
             "outlinewidth": 0,
             "ticks": ""
            },
            "colorscale": [
             [
              0,
              "#0d0887"
             ],
             [
              0.1111111111111111,
              "#46039f"
             ],
             [
              0.2222222222222222,
              "#7201a8"
             ],
             [
              0.3333333333333333,
              "#9c179e"
             ],
             [
              0.4444444444444444,
              "#bd3786"
             ],
             [
              0.5555555555555556,
              "#d8576b"
             ],
             [
              0.6666666666666666,
              "#ed7953"
             ],
             [
              0.7777777777777778,
              "#fb9f3a"
             ],
             [
              0.8888888888888888,
              "#fdca26"
             ],
             [
              1,
              "#f0f921"
             ]
            ],
            "type": "surface"
           }
          ],
          "table": [
           {
            "cells": {
             "fill": {
              "color": "#EBF0F8"
             },
             "line": {
              "color": "white"
             }
            },
            "header": {
             "fill": {
              "color": "#C8D4E3"
             },
             "line": {
              "color": "white"
             }
            },
            "type": "table"
           }
          ]
         },
         "layout": {
          "annotationdefaults": {
           "arrowcolor": "#2a3f5f",
           "arrowhead": 0,
           "arrowwidth": 1
          },
          "autotypenumbers": "strict",
          "coloraxis": {
           "colorbar": {
            "outlinewidth": 0,
            "ticks": ""
           }
          },
          "colorscale": {
           "diverging": [
            [
             0,
             "#8e0152"
            ],
            [
             0.1,
             "#c51b7d"
            ],
            [
             0.2,
             "#de77ae"
            ],
            [
             0.3,
             "#f1b6da"
            ],
            [
             0.4,
             "#fde0ef"
            ],
            [
             0.5,
             "#f7f7f7"
            ],
            [
             0.6,
             "#e6f5d0"
            ],
            [
             0.7,
             "#b8e186"
            ],
            [
             0.8,
             "#7fbc41"
            ],
            [
             0.9,
             "#4d9221"
            ],
            [
             1,
             "#276419"
            ]
           ],
           "sequential": [
            [
             0,
             "#0d0887"
            ],
            [
             0.1111111111111111,
             "#46039f"
            ],
            [
             0.2222222222222222,
             "#7201a8"
            ],
            [
             0.3333333333333333,
             "#9c179e"
            ],
            [
             0.4444444444444444,
             "#bd3786"
            ],
            [
             0.5555555555555556,
             "#d8576b"
            ],
            [
             0.6666666666666666,
             "#ed7953"
            ],
            [
             0.7777777777777778,
             "#fb9f3a"
            ],
            [
             0.8888888888888888,
             "#fdca26"
            ],
            [
             1,
             "#f0f921"
            ]
           ],
           "sequentialminus": [
            [
             0,
             "#0d0887"
            ],
            [
             0.1111111111111111,
             "#46039f"
            ],
            [
             0.2222222222222222,
             "#7201a8"
            ],
            [
             0.3333333333333333,
             "#9c179e"
            ],
            [
             0.4444444444444444,
             "#bd3786"
            ],
            [
             0.5555555555555556,
             "#d8576b"
            ],
            [
             0.6666666666666666,
             "#ed7953"
            ],
            [
             0.7777777777777778,
             "#fb9f3a"
            ],
            [
             0.8888888888888888,
             "#fdca26"
            ],
            [
             1,
             "#f0f921"
            ]
           ]
          },
          "colorway": [
           "#636efa",
           "#EF553B",
           "#00cc96",
           "#ab63fa",
           "#FFA15A",
           "#19d3f3",
           "#FF6692",
           "#B6E880",
           "#FF97FF",
           "#FECB52"
          ],
          "font": {
           "color": "#2a3f5f"
          },
          "geo": {
           "bgcolor": "white",
           "lakecolor": "white",
           "landcolor": "#E5ECF6",
           "showlakes": true,
           "showland": true,
           "subunitcolor": "white"
          },
          "hoverlabel": {
           "align": "left"
          },
          "hovermode": "closest",
          "mapbox": {
           "style": "light"
          },
          "paper_bgcolor": "white",
          "plot_bgcolor": "#E5ECF6",
          "polar": {
           "angularaxis": {
            "gridcolor": "white",
            "linecolor": "white",
            "ticks": ""
           },
           "bgcolor": "#E5ECF6",
           "radialaxis": {
            "gridcolor": "white",
            "linecolor": "white",
            "ticks": ""
           }
          },
          "scene": {
           "xaxis": {
            "backgroundcolor": "#E5ECF6",
            "gridcolor": "white",
            "gridwidth": 2,
            "linecolor": "white",
            "showbackground": true,
            "ticks": "",
            "zerolinecolor": "white"
           },
           "yaxis": {
            "backgroundcolor": "#E5ECF6",
            "gridcolor": "white",
            "gridwidth": 2,
            "linecolor": "white",
            "showbackground": true,
            "ticks": "",
            "zerolinecolor": "white"
           },
           "zaxis": {
            "backgroundcolor": "#E5ECF6",
            "gridcolor": "white",
            "gridwidth": 2,
            "linecolor": "white",
            "showbackground": true,
            "ticks": "",
            "zerolinecolor": "white"
           }
          },
          "shapedefaults": {
           "line": {
            "color": "#2a3f5f"
           }
          },
          "ternary": {
           "aaxis": {
            "gridcolor": "white",
            "linecolor": "white",
            "ticks": ""
           },
           "baxis": {
            "gridcolor": "white",
            "linecolor": "white",
            "ticks": ""
           },
           "bgcolor": "#E5ECF6",
           "caxis": {
            "gridcolor": "white",
            "linecolor": "white",
            "ticks": ""
           }
          },
          "title": {
           "x": 0.05
          },
          "xaxis": {
           "automargin": true,
           "gridcolor": "white",
           "linecolor": "white",
           "ticks": "",
           "title": {
            "standoff": 15
           },
           "zerolinecolor": "white",
           "zerolinewidth": 2
          },
          "yaxis": {
           "automargin": true,
           "gridcolor": "white",
           "linecolor": "white",
           "ticks": "",
           "title": {
            "standoff": 15
           },
           "zerolinecolor": "white",
           "zerolinewidth": 2
          }
         }
        },
        "xaxis": {
         "anchor": "y",
         "domain": [
          0,
          1
         ],
         "title": {
          "text": "Total_Sales"
         }
        },
        "yaxis": {
         "anchor": "x",
         "domain": [
          0,
          1
         ],
         "title": {
          "text": "probability density"
         }
        }
       }
      }
     },
     "metadata": {},
     "output_type": "display_data"
    }
   ],
   "source": [
    "fig = px.histogram(STORE_1_SERIES, x=\"Total_Sales\", histnorm='probability density')\n",
    "fig.show()"
   ]
  },
  {
   "cell_type": "markdown",
   "metadata": {},
   "source": [
    "Reviewing the plot of the time series again, we can see that there is an obvious seasonality component, and it looks like the seasonality component is growing.\n",
    "\n",
    "This may suggest an exponential growth from season to season. A log transform can be used to flatten out exponential change back to a linear relationship.\n",
    "\n",
    "Below is the same histogram with a log transform of the time series."
   ]
  },
  {
   "cell_type": "code",
   "execution_count": 102,
   "metadata": {},
   "outputs": [
    {
     "data": {
      "image/png": "[encoded data removed]",
      "text/plain": [
       "<Figure size 432x288 with 1 Axes>"
      ]
     },
     "metadata": {
      "needs_background": "light"
     },
     "output_type": "display_data"
    },
    {
     "data": {
      "image/png": "[encoded data removed]",
      "text/plain": [
       "<Figure size 432x288 with 1 Axes>"
      ]
     },
     "metadata": {
      "needs_background": "light"
     },
     "output_type": "display_data"
    }
   ],
   "source": [
    "X = STORE_1_SERIES['Total_Sales'].values\n",
    "X = np.log(X)\n",
    "plt.hist(X)\n",
    "plt.show()\n",
    "plt.plot(X)\n",
    "plt.show()"
   ]
  },
  {
   "cell_type": "markdown",
   "metadata": {},
   "source": [
    "Augmented Dickey-Fuller test\n",
    "Statistical tests make strong assumptions about your data. They can only be used to inform the degree to which a null hypothesis can be rejected or fail to be reject. The result must be interpreted for a given problem to be meaningful.\n",
    "\n",
    "Nevertheless, they can provide a quick check and confirmatory evidence that your time series is stationary or non-stationary.\n",
    "\n",
    "The Augmented Dickey-Fuller test is a type of statistical test called a unit root test.\n",
    "\n",
    "The intuition behind a unit root test is that it determines how strongly a time series is defined by a trend.\n",
    "\n",
    "There are a number of unit root tests and the Augmented Dickey-Fuller may be one of the more widely used. It uses an autoregressive model and optimizes an information criterion across multiple different lag values.\n",
    "\n",
    "The null hypothesis of the test is that the time series can be represented by a unit root, that it is not stationary (has some time-dependent structure). The alternate hypothesis (rejecting the null hypothesis) is that the time series is stationary.\n",
    "\n",
    "Null Hypothesis (H0): If failed to be rejected, it suggests the time series has a unit root, meaning it is non-stationary. It has some time dependent structure.\n",
    "Alternate Hypothesis (H1): The null hypothesis is rejected; it suggests the time series does not have a unit root, meaning it is stationary. It does not have time-dependent structure.\n",
    "We interpret this result using the p-value from the test. A p-value below a threshold (such as 5% or 1%) suggests we reject the null hypothesis (stationary), otherwise a p-value above the threshold suggests we fail to reject the null hypothesis (non-stationary).\n",
    "\n",
    "p-value > 0.05: Fail to reject the null hypothesis (H0), the data has a unit root and is non-stationary.\n",
    "p-value <= 0.05: Reject the null hypothesis (H0), the data does not have a unit root and is stationary.\n",
    "Below is an example of calculating the Augmented Dickey-Fuller test on the Daily Female Births dataset. The statsmodels library provides the adfuller() function that implements the test."
   ]
  },
  {
   "cell_type": "code",
   "execution_count": 103,
   "metadata": {},
   "outputs": [
    {
     "name": "stdout",
     "output_type": "stream",
     "text": [
      "ADF Statistic: -5.102288\n",
      "p-value: 0.000014\n",
      "Critical Values:\n",
      "\t1%: -3.479\n",
      "\t5%: -2.883\n",
      "\t10%: -2.578\n"
     ]
    }
   ],
   "source": [
    "X = STORE_1_SERIES['Total_Sales'].values\n",
    "result = adfuller(X)\n",
    "print('ADF Statistic: %f' % result[0])\n",
    "print('p-value: %f' % result[1])\n",
    "print('Critical Values:')\n",
    "for key, value in result[4].items():\n",
    "\tprint('\\t%s: %.3f' % (key, value))"
   ]
  },
  {
   "cell_type": "markdown",
   "metadata": {},
   "source": [
    "Running the example prints the test statistic value of -4. The more negative this statistic, the more likely we are to reject the null hypothesis (we have a stationary dataset).\n",
    "\n",
    "As part of the output, we get a look-up table to help determine the ADF statistic. We can see that our statistic value of -4 is less than the value of -3.479 at 1%.\n",
    "\n",
    "This suggests that we can reject the null hypothesis with a significance level of less than 1% (i.e. a low probability that the result is a statistical fluke).\n",
    "\n",
    "Rejecting the null hypothesis means that the process has no unit root, and in turn that the time series is stationary or does not have time-dependent structure."
   ]
  },
  {
   "cell_type": "markdown",
   "metadata": {},
   "source": [
    "### 4.2 Forecast RNN"
   ]
  },
  {
   "cell_type": "markdown",
   "metadata": {},
   "source": [
    "### 4.3 Prophet"
   ]
  },
  {
   "cell_type": "code",
   "execution_count": 125,
   "metadata": {},
   "outputs": [
    {
     "name": "stderr",
     "output_type": "stream",
     "text": [
      "INFO:prophet:Disabling weekly seasonality. Run prophet with weekly_seasonality=True to override this.\n",
      "INFO:prophet:Disabling daily seasonality. Run prophet with daily_seasonality=True to override this.\n"
     ]
    },
    {
     "name": "stdout",
     "output_type": "stream",
     "text": [
      "The training dataset has 120 records, ranging from 2010-02-07 00:00:00 to 2012-05-20 00:00:00\n",
      "The testing dataset has 23 records, ranging from 2012-05-27 00:00:00 to 2012-10-28 00:00:00\n"
     ]
    },
    {
     "name": "stderr",
     "output_type": "stream",
     "text": [
      "c:\\Users\\mike_\\anaconda3\\lib\\site-packages\\prophet\\forecaster.py:896: FutureWarning:\n",
      "\n",
      "The frame.append method is deprecated and will be removed from pandas in a future version. Use pandas.concat instead.\n",
      "\n",
      "c:\\Users\\mike_\\anaconda3\\lib\\site-packages\\prophet\\forecaster.py:896: FutureWarning:\n",
      "\n",
      "The frame.append method is deprecated and will be removed from pandas in a future version. Use pandas.concat instead.\n",
      "\n",
      "c:\\Users\\mike_\\anaconda3\\lib\\site-packages\\prophet\\forecaster.py:896: FutureWarning:\n",
      "\n",
      "The frame.append method is deprecated and will be removed from pandas in a future version. Use pandas.concat instead.\n",
      "\n"
     ]
    },
    {
     "data": {
      "text/plain": [
       "{'MAE': 71445.68561986364,\n",
       " 'MSE': 7534905752.09492,\n",
       " 'RMSE': 86803.834892791,\n",
       " 'R2': -0.9618638145840908}"
      ]
     },
     "execution_count": 125,
     "metadata": {},
     "output_type": "execute_result"
    }
   ],
   "source": [
    "# Prepare data of Store 14\n",
    "_STORE_1_SERIES = WEEKLY_SALES_BY_STORE[WEEKLY_SALES_BY_STORE['Store']==4] #filter Store1\n",
    "STORE_1_SERIES = _STORE_1_SERIES[['Date', 'Total_Sales']].rename(columns={'Date':'ds', 'Total_Sales':'y'})\\\n",
    "                                                         .reset_index()\\\n",
    "                                                         .drop(['index'], axis=1)#.set_index('Date') # create Store1 table\n",
    "STORE_1_SERIES['Time'] = np.arange(len(STORE_1_SERIES.index)) # add time step column\n",
    "\n",
    "#https://medium.com/@Hong_Tang/timeseries-split-with-sklearn-tips-8162c83612b9\n",
    "\n",
    "# Time Series Split\n",
    "tscv = TimeSeriesSplit() # instantiate object from class. default parameter sets object to perform k=5 splits\n",
    "\n",
    "STORE_1_SERIES.set_index('ds', inplace=True) # set date as index\n",
    "STORE_1_SERIES.sort_index(inplace=True) # sort ascending\n",
    "\n",
    "#prepare features dataframe (X) and target (y) as data series\n",
    "X = STORE_1_SERIES.drop(labels=['y'], axis=1)\n",
    "y = STORE_1_SERIES['y']\n",
    "\n",
    "# Split train test sets for both features and targets time-series class (tscv) class returns two arrays to mark train and test sets\n",
    "for train_index, test_index in tscv.split(X):\n",
    "    X_train, X_test = X.iloc[train_index, :], X.iloc[test_index, :]\n",
    "    y_train, y_test = y.iloc[train_index], y.iloc[test_index]\n",
    "\n",
    "# Summary of Train Test Split: number of records and date range for training and testing dataset.\n",
    "print('The training dataset has', len(X_train), 'records, ranging from', pd.DataFrame(y_train).index.min(), 'to', pd.DataFrame(y_train).index.max())\n",
    "print('The testing dataset has', len(X_test), 'records, ranging from', pd.DataFrame(y_test).index.min(), 'to', pd.DataFrame(y_test).index.max())\n",
    "\n",
    "#fit the model by instantiating a new Prophet object. Call fit method and pass in the train dataset\n",
    "m = Prophet()\n",
    "m.fit(pd.DataFrame(y_train).reset_index())\n",
    "\n",
    "\"\"\" \n",
    "predictions are then made on a dataframe with a column ds containing the dates for which a prediction is to be made\n",
    "You can get a suitable dataframe that extends into the future a specified number of days using the helper\n",
    "method Prophet.make_future_dataframe. By default it will also include the dates from the history, so we will see the model fit as well.\n",
    "\"\"\"\n",
    "future = m.make_future_dataframe(periods=23, freq='W') # predict next 23 weeeks\n",
    "#future.tail(40) uncomment no verify added periods\n",
    "\n",
    "\"\"\"\n",
    "The predict method will assign each row in future a predicted value which it names yhat. If you pass in historical\n",
    " dates, it will provide an in-sample fit. The forecast object here is a new dataframe that includes a column yhat with the forecast,\n",
    "  as well as columns for components and uncertainty intervals.\n",
    "\"\"\"\n",
    "forecast = m.predict(future)\n",
    "#forecast[['ds', 'yhat', 'yhat_lower', 'yhat_upper']].tail()\n",
    "\n",
    "\"\"\"\n",
    "Model Performance\n",
    "\"\"\"\n",
    "actual_sales = y_test.values\n",
    "predicted_sales = forecast.tail(23)['yhat'].values\n",
    "evaluate(actual_sales, predicted_sales)"
   ]
  },
  {
   "cell_type": "code",
   "execution_count": 105,
   "metadata": {},
   "outputs": [
    {
     "data": {
      "text/plain": [
       "<AxesSubplot:xlabel='ds'>"
      ]
     },
     "execution_count": 105,
     "metadata": {},
     "output_type": "execute_result"
    },
    {
     "data": {
      "image/png": "[encoded data removed]",
      "text/plain": [
       "<Figure size 432x288 with 1 Axes>"
      ]
     },
     "metadata": {
      "needs_background": "light"
     },
     "output_type": "display_data"
    }
   ],
   "source": [
    "# Show a plot with the results of the split train test\n",
    "y_train.groupby('ds').mean().plot()\n",
    "y_test.groupby('ds').mean().plot()"
   ]
  },
  {
   "cell_type": "code",
   "execution_count": 106,
   "metadata": {},
   "outputs": [
    {
     "data": {
      "image/png": "[encoded data removed]",
      "text/plain": [
       "<Figure size 720x432 with 1 Axes>"
      ]
     },
     "metadata": {},
     "output_type": "display_data"
    }
   ],
   "source": [
    "fig1 = m.plot(forecast)"
   ]
  },
  {
   "cell_type": "code",
   "execution_count": 107,
   "metadata": {},
   "outputs": [
    {
     "name": "stderr",
     "output_type": "stream",
     "text": [
      "c:\\Users\\mike_\\anaconda3\\lib\\site-packages\\prophet\\forecaster.py:896: FutureWarning:\n",
      "\n",
      "The frame.append method is deprecated and will be removed from pandas in a future version. Use pandas.concat instead.\n",
      "\n"
     ]
    },
    {
     "data": {
      "image/png": "[encoded data removed]",
      "text/plain": [
       "<Figure size 648x432 with 2 Axes>"
      ]
     },
     "metadata": {},
     "output_type": "display_data"
    }
   ],
   "source": [
    "fig2 = m.plot_components(forecast)"
   ]
  },
  {
   "cell_type": "code",
   "execution_count": 108,
   "metadata": {},
   "outputs": [
    {
     "data": {
      "application/vnd.plotly.v1+json": {
       "config": {
        "plotlyServerURL": "https://plot.ly"
       },
       "data": [
        {
         "marker": {
          "color": "black",
          "size": 4
         },
         "mode": "markers",
         "name": "Actual",
         "type": "scatter",
         "x": [
          "2010-02-07T00:00:00",
          "2010-02-14T00:00:00",
          "2010-02-21T00:00:00",
          "2010-02-28T00:00:00",
          "2010-03-07T00:00:00",
          "2010-03-14T00:00:00",
          "2010-03-21T00:00:00",
          "2010-03-28T00:00:00",
          "2010-04-04T00:00:00",
          "2010-04-11T00:00:00",
          "2010-04-18T00:00:00",
          "2010-04-25T00:00:00",
          "2010-05-02T00:00:00",
          "2010-05-09T00:00:00",
          "2010-05-16T00:00:00",
          "2010-05-23T00:00:00",
          "2010-05-30T00:00:00",
          "2010-06-06T00:00:00",
          "2010-06-13T00:00:00",
          "2010-06-20T00:00:00",
          "2010-06-27T00:00:00",
          "2010-07-04T00:00:00",
          "2010-07-11T00:00:00",
          "2010-07-18T00:00:00",
          "2010-07-25T00:00:00",
          "2010-08-01T00:00:00",
          "2010-08-08T00:00:00",
          "2010-08-15T00:00:00",
          "2010-08-22T00:00:00",
          "2010-08-29T00:00:00",
          "2010-09-05T00:00:00",
          "2010-09-12T00:00:00",
          "2010-09-19T00:00:00",
          "2010-09-26T00:00:00",
          "2010-10-03T00:00:00",
          "2010-10-10T00:00:00",
          "2010-10-17T00:00:00",
          "2010-10-24T00:00:00",
          "2010-10-31T00:00:00",
          "2010-11-07T00:00:00",
          "2010-11-14T00:00:00",
          "2010-11-21T00:00:00",
          "2010-11-28T00:00:00",
          "2010-12-05T00:00:00",
          "2010-12-12T00:00:00",
          "2010-12-19T00:00:00",
          "2010-12-26T00:00:00",
          "2011-01-02T00:00:00",
          "2011-01-09T00:00:00",
          "2011-01-16T00:00:00",
          "2011-01-23T00:00:00",
          "2011-01-30T00:00:00",
          "2011-02-06T00:00:00",
          "2011-02-13T00:00:00",
          "2011-02-20T00:00:00",
          "2011-02-27T00:00:00",
          "2011-03-06T00:00:00",
          "2011-03-13T00:00:00",
          "2011-03-20T00:00:00",
          "2011-03-27T00:00:00",
          "2011-04-03T00:00:00",
          "2011-04-10T00:00:00",
          "2011-04-17T00:00:00",
          "2011-04-24T00:00:00",
          "2011-05-01T00:00:00",
          "2011-05-08T00:00:00",
          "2011-05-15T00:00:00",
          "2011-05-22T00:00:00",
          "2011-05-29T00:00:00",
          "2011-06-05T00:00:00",
          "2011-06-12T00:00:00",
          "2011-06-19T00:00:00",
          "2011-06-26T00:00:00",
          "2011-07-03T00:00:00",
          "2011-07-10T00:00:00",
          "2011-07-17T00:00:00",
          "2011-07-24T00:00:00",
          "2011-07-31T00:00:00",
          "2011-08-07T00:00:00",
          "2011-08-14T00:00:00",
          "2011-08-21T00:00:00",
          "2011-08-28T00:00:00",
          "2011-09-04T00:00:00",
          "2011-09-11T00:00:00",
          "2011-09-18T00:00:00",
          "2011-09-25T00:00:00",
          "2011-10-02T00:00:00",
          "2011-10-09T00:00:00",
          "2011-10-16T00:00:00",
          "2011-10-23T00:00:00",
          "2011-10-30T00:00:00",
          "2011-11-06T00:00:00",
          "2011-11-13T00:00:00",
          "2011-11-20T00:00:00",
          "2011-11-27T00:00:00",
          "2011-12-04T00:00:00",
          "2011-12-11T00:00:00",
          "2011-12-18T00:00:00",
          "2011-12-25T00:00:00",
          "2012-01-01T00:00:00",
          "2012-01-08T00:00:00",
          "2012-01-15T00:00:00",
          "2012-01-22T00:00:00",
          "2012-01-29T00:00:00",
          "2012-02-05T00:00:00",
          "2012-02-12T00:00:00",
          "2012-02-19T00:00:00",
          "2012-02-26T00:00:00",
          "2012-03-04T00:00:00",
          "2012-03-11T00:00:00",
          "2012-03-18T00:00:00",
          "2012-03-25T00:00:00",
          "2012-04-01T00:00:00",
          "2012-04-08T00:00:00",
          "2012-04-15T00:00:00",
          "2012-04-22T00:00:00",
          "2012-04-29T00:00:00",
          "2012-05-06T00:00:00",
          "2012-05-13T00:00:00",
          "2012-05-20T00:00:00"
         ],
         "y": [
          1643690.9,
          1641957.44,
          1612831.17,
          1409727.59,
          1554806.68,
          1440239.59,
          1472515.79,
          1404429.92,
          1594968.28,
          1545418.53,
          1466058.28,
          1391256.12,
          1425100.71,
          1603955.1199999999,
          1494251.5,
          1399662.07,
          1432069.95,
          1615524.71,
          1542561.09,
          1503284.06,
          1422711.6,
          1492418.1400000001,
          1546074.18,
          1448938.92,
          1385065.2,
          1371986.6,
          1605491.78,
          1508237.76,
          1513080.49,
          1449142.92,
          1540163.53,
          1507460.69,
          1430378.67,
          1351791.03,
          1453329.5,
          1508297.93,
          1459409.1,
          1345454,
          1384209.22,
          1551659.28,
          1494479.49,
          1483784.18,
          1955624.11,
          1548033.78,
          1682614.26,
          1891034.93,
          2387950.2,
          1367320.01,
          1444732.28,
          1391013.96,
          1327455.42,
          1316899.31,
          1606629.58,
          1649614.93,
          1686842.78,
          1456800.28,
          1636263.41,
          1553191.63,
          1576818.06,
          1541102.3800000001,
          1495064.75,
          1614557.35,
          1559889,
          1564819.81,
          1455090.69,
          1629391.28,
          1604775.58,
          1428233.27,
          1466046.67,
          1635078.41,
          1588948.32,
          1532114.86,
          1438830.15,
          1488538.09,
          1535047.64,
          1455119.97,
          1396926.82,
          1352219.79,
          1624383.75,
          1525147.09,
          1530761.43,
          1464693.46,
          1550229.22,
          1540471.24,
          1514259.78,
          1380020.27,
          1394561.83,
          1630989.95,
          1494023.93,
          1502562.78,
          1445249.09,
          1697229.58,
          1594938.8900000001,
          1539483.7,
          2033320.66,
          1584083.95,
          1799682.38,
          1881176.67,
          2270686.99,
          1497462.72,
          1550369.92,
          1459601.17,
          1394393.84,
          1319325.59,
          1636339.65,
          1802477.43,
          1820068,
          1539387.83,
          1688420.76,
          1675452.16,
          1677671.78,
          1511291.07,
          1649604.63,
          1899676.8800000001,
          1621031.7,
          1521577.8699999999,
          1468928.3699999999,
          1684521.26,
          1611096.05,
          1595901.87
         ]
        },
        {
         "hoverinfo": "skip",
         "line": {
          "width": 0
         },
         "mode": "lines",
         "type": "scatter",
         "x": [
          "2010-02-07T00:00:00",
          "2010-02-14T00:00:00",
          "2010-02-21T00:00:00",
          "2010-02-28T00:00:00",
          "2010-03-07T00:00:00",
          "2010-03-14T00:00:00",
          "2010-03-21T00:00:00",
          "2010-03-28T00:00:00",
          "2010-04-04T00:00:00",
          "2010-04-11T00:00:00",
          "2010-04-18T00:00:00",
          "2010-04-25T00:00:00",
          "2010-05-02T00:00:00",
          "2010-05-09T00:00:00",
          "2010-05-16T00:00:00",
          "2010-05-23T00:00:00",
          "2010-05-30T00:00:00",
          "2010-06-06T00:00:00",
          "2010-06-13T00:00:00",
          "2010-06-20T00:00:00",
          "2010-06-27T00:00:00",
          "2010-07-04T00:00:00",
          "2010-07-11T00:00:00",
          "2010-07-18T00:00:00",
          "2010-07-25T00:00:00",
          "2010-08-01T00:00:00",
          "2010-08-08T00:00:00",
          "2010-08-15T00:00:00",
          "2010-08-22T00:00:00",
          "2010-08-29T00:00:00",
          "2010-09-05T00:00:00",
          "2010-09-12T00:00:00",
          "2010-09-19T00:00:00",
          "2010-09-26T00:00:00",
          "2010-10-03T00:00:00",
          "2010-10-10T00:00:00",
          "2010-10-17T00:00:00",
          "2010-10-24T00:00:00",
          "2010-10-31T00:00:00",
          "2010-11-07T00:00:00",
          "2010-11-14T00:00:00",
          "2010-11-21T00:00:00",
          "2010-11-28T00:00:00",
          "2010-12-05T00:00:00",
          "2010-12-12T00:00:00",
          "2010-12-19T00:00:00",
          "2010-12-26T00:00:00",
          "2011-01-02T00:00:00",
          "2011-01-09T00:00:00",
          "2011-01-16T00:00:00",
          "2011-01-23T00:00:00",
          "2011-01-30T00:00:00",
          "2011-02-06T00:00:00",
          "2011-02-13T00:00:00",
          "2011-02-20T00:00:00",
          "2011-02-27T00:00:00",
          "2011-03-06T00:00:00",
          "2011-03-13T00:00:00",
          "2011-03-20T00:00:00",
          "2011-03-27T00:00:00",
          "2011-04-03T00:00:00",
          "2011-04-10T00:00:00",
          "2011-04-17T00:00:00",
          "2011-04-24T00:00:00",
          "2011-05-01T00:00:00",
          "2011-05-08T00:00:00",
          "2011-05-15T00:00:00",
          "2011-05-22T00:00:00",
          "2011-05-29T00:00:00",
          "2011-06-05T00:00:00",
          "2011-06-12T00:00:00",
          "2011-06-19T00:00:00",
          "2011-06-26T00:00:00",
          "2011-07-03T00:00:00",
          "2011-07-10T00:00:00",
          "2011-07-17T00:00:00",
          "2011-07-24T00:00:00",
          "2011-07-31T00:00:00",
          "2011-08-07T00:00:00",
          "2011-08-14T00:00:00",
          "2011-08-21T00:00:00",
          "2011-08-28T00:00:00",
          "2011-09-04T00:00:00",
          "2011-09-11T00:00:00",
          "2011-09-18T00:00:00",
          "2011-09-25T00:00:00",
          "2011-10-02T00:00:00",
          "2011-10-09T00:00:00",
          "2011-10-16T00:00:00",
          "2011-10-23T00:00:00",
          "2011-10-30T00:00:00",
          "2011-11-06T00:00:00",
          "2011-11-13T00:00:00",
          "2011-11-20T00:00:00",
          "2011-11-27T00:00:00",
          "2011-12-04T00:00:00",
          "2011-12-11T00:00:00",
          "2011-12-18T00:00:00",
          "2011-12-25T00:00:00",
          "2012-01-01T00:00:00",
          "2012-01-08T00:00:00",
          "2012-01-15T00:00:00",
          "2012-01-22T00:00:00",
          "2012-01-29T00:00:00",
          "2012-02-05T00:00:00",
          "2012-02-12T00:00:00",
          "2012-02-19T00:00:00",
          "2012-02-26T00:00:00",
          "2012-03-04T00:00:00",
          "2012-03-11T00:00:00",
          "2012-03-18T00:00:00",
          "2012-03-25T00:00:00",
          "2012-04-01T00:00:00",
          "2012-04-08T00:00:00",
          "2012-04-15T00:00:00",
          "2012-04-22T00:00:00",
          "2012-04-29T00:00:00",
          "2012-05-06T00:00:00",
          "2012-05-13T00:00:00",
          "2012-05-20T00:00:00",
          "2012-05-27T00:00:00",
          "2012-06-03T00:00:00",
          "2012-06-10T00:00:00",
          "2012-06-17T00:00:00",
          "2012-06-24T00:00:00",
          "2012-07-01T00:00:00",
          "2012-07-08T00:00:00",
          "2012-07-15T00:00:00",
          "2012-07-22T00:00:00",
          "2012-07-29T00:00:00",
          "2012-08-05T00:00:00",
          "2012-08-12T00:00:00",
          "2012-08-19T00:00:00",
          "2012-08-26T00:00:00",
          "2012-09-02T00:00:00",
          "2012-09-09T00:00:00",
          "2012-09-16T00:00:00",
          "2012-09-23T00:00:00",
          "2012-09-30T00:00:00",
          "2012-10-07T00:00:00",
          "2012-10-14T00:00:00",
          "2012-10-21T00:00:00",
          "2012-10-28T00:00:00"
         ],
         "y": [
          1424169.183650504,
          1477280.84080574,
          1437828.4473083485,
          1376964.8739902775,
          1343641.3970235812,
          1341000.9910585715,
          1350060.05448833,
          1376705.8540216798,
          1383066.6707715571,
          1389714.0104501524,
          1362861.3194810038,
          1338543.496302476,
          1307545.2850144838,
          1330036.4911524912,
          1343545.8275026893,
          1362624.1780637247,
          1345442.9443116428,
          1345796.6903400074,
          1357251.6640943752,
          1364275.7182774974,
          1347662.8130147932,
          1318285.71792703,
          1261607.8885359825,
          1249420.4147678535,
          1277940.0134443082,
          1301399.2546028628,
          1312003.9710024958,
          1328311.438275179,
          1342006.5785725703,
          1359298.8836974327,
          1357087.417669667,
          1302443.1408056924,
          1254954.484239234,
          1261977.128128251,
          1291020.4523823762,
          1321501.1768668743,
          1304190.8731762383,
          1270584.048277169,
          1286240.445736426,
          1361753.1618722875,
          1445984.3088480078,
          1493786.873892533,
          1513124.9787525334,
          1549336.651019267,
          1668554.8355655898,
          1774533.8116096724,
          1766804.201449572,
          1571308.3314113694,
          1309375.348293029,
          1124869.6667082817,
          1142588.4664004159,
          1297212.0803061977,
          1470078.7936552602,
          1545682.4347070109,
          1510951.800709441,
          1449668.8507032234,
          1408818.3892021524,
          1395032.6124893979,
          1400030.993100092,
          1416185.9124403147,
          1434361.4877239408,
          1457134.5532072983,
          1420159.0478288434,
          1393614.3986581801,
          1363815.9469087552,
          1366638.3919318803,
          1397154.7139171867,
          1418439.6496387555,
          1407632.566388088,
          1396368.4732188643,
          1409154.5101755855,
          1419606.9976767541,
          1417846.348111949,
          1382973.6326550173,
          1332034.8328533433,
          1316039.4372228517,
          1332755.7545422292,
          1363345.2156803978,
          1374933.4725995522,
          1384111.8015174347,
          1404270.4511635946,
          1417075.19601821,
          1411825.566837953,
          1368321.927133102,
          1319723.2567991854,
          1314838.5828484867,
          1347295.7776399693,
          1368898.3276869557,
          1375568.84185028,
          1341443.501788077,
          1330102.3959887014,
          1399032.9375004636,
          1484549.0962371004,
          1543527.3692751948,
          1556989.2118428675,
          1592894.9196463055,
          1703107.1525270978,
          1820457.7282207445,
          1829154.3755723743,
          1678468.1495072972,
          1398983.971468896,
          1209322.760639552,
          1180189.3495985318,
          1328986.0567617102,
          1495252.7024301991,
          1578153.4887487276,
          1579734.521849899,
          1521476.9294255637,
          1469163.4218923557,
          1447573.7894705904,
          1462331.1753085584,
          1488325.3601280914,
          1498600.5823894388,
          1513277.39491312,
          1484832.1818441984,
          1452827.702736002,
          1434095.674213683,
          1434656.0981565125,
          1462024.6824556547,
          1473462.2469384535,
          1458199.0536725535,
          1454538.455364739,
          1465765.1362015498,
          1470899.4524534896,
          1470283.9404019462,
          1446877.8917125852,
          1397542.7986573884,
          1374705.560320374,
          1371187.5146327326,
          1398258.2839662705,
          1431043.3088278335,
          1429314.8370041808,
          1450914.860189868,
          1481447.0761871517,
          1475105.6340860538,
          1446010.276949047,
          1390730.6707103471,
          1376192.6772956995,
          1390690.253973564,
          1429196.2438341605,
          1429905.498593103,
          1396911.2706347147,
          1383775.3871508103
         ]
        },
        {
         "fill": "tonexty",
         "fillcolor": "rgba(0, 114, 178, 0.2)",
         "line": {
          "color": "#0072B2",
          "width": 2
         },
         "mode": "lines",
         "name": "Predicted",
         "type": "scatter",
         "x": [
          "2010-02-07T00:00:00",
          "2010-02-14T00:00:00",
          "2010-02-21T00:00:00",
          "2010-02-28T00:00:00",
          "2010-03-07T00:00:00",
          "2010-03-14T00:00:00",
          "2010-03-21T00:00:00",
          "2010-03-28T00:00:00",
          "2010-04-04T00:00:00",
          "2010-04-11T00:00:00",
          "2010-04-18T00:00:00",
          "2010-04-25T00:00:00",
          "2010-05-02T00:00:00",
          "2010-05-09T00:00:00",
          "2010-05-16T00:00:00",
          "2010-05-23T00:00:00",
          "2010-05-30T00:00:00",
          "2010-06-06T00:00:00",
          "2010-06-13T00:00:00",
          "2010-06-20T00:00:00",
          "2010-06-27T00:00:00",
          "2010-07-04T00:00:00",
          "2010-07-11T00:00:00",
          "2010-07-18T00:00:00",
          "2010-07-25T00:00:00",
          "2010-08-01T00:00:00",
          "2010-08-08T00:00:00",
          "2010-08-15T00:00:00",
          "2010-08-22T00:00:00",
          "2010-08-29T00:00:00",
          "2010-09-05T00:00:00",
          "2010-09-12T00:00:00",
          "2010-09-19T00:00:00",
          "2010-09-26T00:00:00",
          "2010-10-03T00:00:00",
          "2010-10-10T00:00:00",
          "2010-10-17T00:00:00",
          "2010-10-24T00:00:00",
          "2010-10-31T00:00:00",
          "2010-11-07T00:00:00",
          "2010-11-14T00:00:00",
          "2010-11-21T00:00:00",
          "2010-11-28T00:00:00",
          "2010-12-05T00:00:00",
          "2010-12-12T00:00:00",
          "2010-12-19T00:00:00",
          "2010-12-26T00:00:00",
          "2011-01-02T00:00:00",
          "2011-01-09T00:00:00",
          "2011-01-16T00:00:00",
          "2011-01-23T00:00:00",
          "2011-01-30T00:00:00",
          "2011-02-06T00:00:00",
          "2011-02-13T00:00:00",
          "2011-02-20T00:00:00",
          "2011-02-27T00:00:00",
          "2011-03-06T00:00:00",
          "2011-03-13T00:00:00",
          "2011-03-20T00:00:00",
          "2011-03-27T00:00:00",
          "2011-04-03T00:00:00",
          "2011-04-10T00:00:00",
          "2011-04-17T00:00:00",
          "2011-04-24T00:00:00",
          "2011-05-01T00:00:00",
          "2011-05-08T00:00:00",
          "2011-05-15T00:00:00",
          "2011-05-22T00:00:00",
          "2011-05-29T00:00:00",
          "2011-06-05T00:00:00",
          "2011-06-12T00:00:00",
          "2011-06-19T00:00:00",
          "2011-06-26T00:00:00",
          "2011-07-03T00:00:00",
          "2011-07-10T00:00:00",
          "2011-07-17T00:00:00",
          "2011-07-24T00:00:00",
          "2011-07-31T00:00:00",
          "2011-08-07T00:00:00",
          "2011-08-14T00:00:00",
          "2011-08-21T00:00:00",
          "2011-08-28T00:00:00",
          "2011-09-04T00:00:00",
          "2011-09-11T00:00:00",
          "2011-09-18T00:00:00",
          "2011-09-25T00:00:00",
          "2011-10-02T00:00:00",
          "2011-10-09T00:00:00",
          "2011-10-16T00:00:00",
          "2011-10-23T00:00:00",
          "2011-10-30T00:00:00",
          "2011-11-06T00:00:00",
          "2011-11-13T00:00:00",
          "2011-11-20T00:00:00",
          "2011-11-27T00:00:00",
          "2011-12-04T00:00:00",
          "2011-12-11T00:00:00",
          "2011-12-18T00:00:00",
          "2011-12-25T00:00:00",
          "2012-01-01T00:00:00",
          "2012-01-08T00:00:00",
          "2012-01-15T00:00:00",
          "2012-01-22T00:00:00",
          "2012-01-29T00:00:00",
          "2012-02-05T00:00:00",
          "2012-02-12T00:00:00",
          "2012-02-19T00:00:00",
          "2012-02-26T00:00:00",
          "2012-03-04T00:00:00",
          "2012-03-11T00:00:00",
          "2012-03-18T00:00:00",
          "2012-03-25T00:00:00",
          "2012-04-01T00:00:00",
          "2012-04-08T00:00:00",
          "2012-04-15T00:00:00",
          "2012-04-22T00:00:00",
          "2012-04-29T00:00:00",
          "2012-05-06T00:00:00",
          "2012-05-13T00:00:00",
          "2012-05-20T00:00:00",
          "2012-05-27T00:00:00",
          "2012-06-03T00:00:00",
          "2012-06-10T00:00:00",
          "2012-06-17T00:00:00",
          "2012-06-24T00:00:00",
          "2012-07-01T00:00:00",
          "2012-07-08T00:00:00",
          "2012-07-15T00:00:00",
          "2012-07-22T00:00:00",
          "2012-07-29T00:00:00",
          "2012-08-05T00:00:00",
          "2012-08-12T00:00:00",
          "2012-08-19T00:00:00",
          "2012-08-26T00:00:00",
          "2012-09-02T00:00:00",
          "2012-09-09T00:00:00",
          "2012-09-16T00:00:00",
          "2012-09-23T00:00:00",
          "2012-09-30T00:00:00",
          "2012-10-07T00:00:00",
          "2012-10-14T00:00:00",
          "2012-10-21T00:00:00",
          "2012-10-28T00:00:00"
         ],
         "y": [
          1573334.2179510905,
          1627178.043932701,
          1589574.7579955254,
          1527559.225913751,
          1491177.3511521202,
          1486708.9893330669,
          1498990.687111263,
          1516145.6078945193,
          1529742.5344105682,
          1528035.326609001,
          1504806.0830177942,
          1473172.0527366118,
          1458203.757835222,
          1470204.5654258027,
          1491764.6479178553,
          1498344.457491287,
          1488257.8708070929,
          1482944.5402869028,
          1495826.6667283655,
          1510376.1575557855,
          1498104.8285664015,
          1455511.2643000206,
          1412671.8596692886,
          1401128.5772732736,
          1420717.5845749474,
          1445987.171249648,
          1460975.0659247178,
          1474690.396768668,
          1497566.024853726,
          1514539.808306821,
          1497567.2884827396,
          1446226.2303581028,
          1400881.1628673715,
          1402237.5200323535,
          1441977.2914659358,
          1468890.46982132,
          1450237.0273526115,
          1415671.2692592468,
          1425860.6865157692,
          1499373.7651109714,
          1587884.5894935157,
          1635109.502230173,
          1649727.298966512,
          1697267.1722739332,
          1810126.3116540022,
          1920494.5576263382,
          1907148.5099519994,
          1720303.8449489644,
          1452537.8898020606,
          1272686.7710945923,
          1283116.793939746,
          1440191.9272850398,
          1608428.3379186096,
          1682554.939008592,
          1656919.0185528235,
          1594382.3400714768,
          1551822.0689966406,
          1542595.7333458678,
          1552993.4651887263,
          1569860.8662912045,
          1584870.6239652657,
          1586746.6331272882,
          1567031.667147717,
          1535097.5891039814,
          1515625.1856936042,
          1523381.2002099035,
          1545292.4611968158,
          1555579.1522786543,
          1547258.2645780519,
          1539407.8582975138,
          1549390.2617168615,
          1565899.3945036114,
          1559780.940558647,
          1521120.901390829,
          1475478.579731157,
          1457260.6430494152,
          1472845.175453192,
          1498987.1800884039,
          1515750.1765137569,
          1528486.9193488385,
          1549984.2054608865,
          1570202.2622931253,
          1560606.166808784,
          1513359.0551772886,
          1463170.5504696409,
          1455037.549754409,
          1491077.454228556,
          1524135.1789012973,
          1513301.771750836,
          1477072.2717230276,
          1475871.483678804,
          1540065.539956988,
          1630983.519831845,
          1687345.7381716995,
          1703712.5048721032,
          1740682.6634723227,
          1843842.7352121011,
          1963512.9231837247,
          1979587.7297450132,
          1820978.0902297553,
          1555682.0609102685,
          1348953.6769253544,
          1324369.329422936,
          1464104.1369756418,
          1640427.2563964447,
          1734760.491803756,
          1723320.1301066307,
          1662176.5599518614,
          1613800.7797445455,
          1599292.767080229,
          1607381.1976795965,
          1623726.280475507,
          1639771.1620494593,
          1644908.4704526798,
          1629009.1016074084,
          1597638.73314143,
          1574189.5832805058,
          1577236.8219152736,
          1598577.250215645,
          1612323.3196977596,
          1606462.0907331912,
          1596709.2273399043,
          1603394.1634733204,
          1620812.9147578534,
          1620475.242953238,
          1586641.7113061263,
          1539403.6250936112,
          1514713.5710775799,
          1525443.2119841103,
          1551748.0422608634,
          1570510.0917241625,
          1582770.0079333645,
          1602553.6545016316,
          1624978.061595169,
          1622431.199092428,
          1580476.9327623898,
          1527041.2167298647,
          1509505.399334048,
          1540167.2384714219,
          1577894.156377742,
          1575517.1753395805,
          1539768.5691574847,
          1528264.453393103
         ]
        },
        {
         "fill": "tonexty",
         "fillcolor": "rgba(0, 114, 178, 0.2)",
         "hoverinfo": "skip",
         "line": {
          "width": 0
         },
         "mode": "lines",
         "type": "scatter",
         "x": [
          "2010-02-07T00:00:00",
          "2010-02-14T00:00:00",
          "2010-02-21T00:00:00",
          "2010-02-28T00:00:00",
          "2010-03-07T00:00:00",
          "2010-03-14T00:00:00",
          "2010-03-21T00:00:00",
          "2010-03-28T00:00:00",
          "2010-04-04T00:00:00",
          "2010-04-11T00:00:00",
          "2010-04-18T00:00:00",
          "2010-04-25T00:00:00",
          "2010-05-02T00:00:00",
          "2010-05-09T00:00:00",
          "2010-05-16T00:00:00",
          "2010-05-23T00:00:00",
          "2010-05-30T00:00:00",
          "2010-06-06T00:00:00",
          "2010-06-13T00:00:00",
          "2010-06-20T00:00:00",
          "2010-06-27T00:00:00",
          "2010-07-04T00:00:00",
          "2010-07-11T00:00:00",
          "2010-07-18T00:00:00",
          "2010-07-25T00:00:00",
          "2010-08-01T00:00:00",
          "2010-08-08T00:00:00",
          "2010-08-15T00:00:00",
          "2010-08-22T00:00:00",
          "2010-08-29T00:00:00",
          "2010-09-05T00:00:00",
          "2010-09-12T00:00:00",
          "2010-09-19T00:00:00",
          "2010-09-26T00:00:00",
          "2010-10-03T00:00:00",
          "2010-10-10T00:00:00",
          "2010-10-17T00:00:00",
          "2010-10-24T00:00:00",
          "2010-10-31T00:00:00",
          "2010-11-07T00:00:00",
          "2010-11-14T00:00:00",
          "2010-11-21T00:00:00",
          "2010-11-28T00:00:00",
          "2010-12-05T00:00:00",
          "2010-12-12T00:00:00",
          "2010-12-19T00:00:00",
          "2010-12-26T00:00:00",
          "2011-01-02T00:00:00",
          "2011-01-09T00:00:00",
          "2011-01-16T00:00:00",
          "2011-01-23T00:00:00",
          "2011-01-30T00:00:00",
          "2011-02-06T00:00:00",
          "2011-02-13T00:00:00",
          "2011-02-20T00:00:00",
          "2011-02-27T00:00:00",
          "2011-03-06T00:00:00",
          "2011-03-13T00:00:00",
          "2011-03-20T00:00:00",
          "2011-03-27T00:00:00",
          "2011-04-03T00:00:00",
          "2011-04-10T00:00:00",
          "2011-04-17T00:00:00",
          "2011-04-24T00:00:00",
          "2011-05-01T00:00:00",
          "2011-05-08T00:00:00",
          "2011-05-15T00:00:00",
          "2011-05-22T00:00:00",
          "2011-05-29T00:00:00",
          "2011-06-05T00:00:00",
          "2011-06-12T00:00:00",
          "2011-06-19T00:00:00",
          "2011-06-26T00:00:00",
          "2011-07-03T00:00:00",
          "2011-07-10T00:00:00",
          "2011-07-17T00:00:00",
          "2011-07-24T00:00:00",
          "2011-07-31T00:00:00",
          "2011-08-07T00:00:00",
          "2011-08-14T00:00:00",
          "2011-08-21T00:00:00",
          "2011-08-28T00:00:00",
          "2011-09-04T00:00:00",
          "2011-09-11T00:00:00",
          "2011-09-18T00:00:00",
          "2011-09-25T00:00:00",
          "2011-10-02T00:00:00",
          "2011-10-09T00:00:00",
          "2011-10-16T00:00:00",
          "2011-10-23T00:00:00",
          "2011-10-30T00:00:00",
          "2011-11-06T00:00:00",
          "2011-11-13T00:00:00",
          "2011-11-20T00:00:00",
          "2011-11-27T00:00:00",
          "2011-12-04T00:00:00",
          "2011-12-11T00:00:00",
          "2011-12-18T00:00:00",
          "2011-12-25T00:00:00",
          "2012-01-01T00:00:00",
          "2012-01-08T00:00:00",
          "2012-01-15T00:00:00",
          "2012-01-22T00:00:00",
          "2012-01-29T00:00:00",
          "2012-02-05T00:00:00",
          "2012-02-12T00:00:00",
          "2012-02-19T00:00:00",
          "2012-02-26T00:00:00",
          "2012-03-04T00:00:00",
          "2012-03-11T00:00:00",
          "2012-03-18T00:00:00",
          "2012-03-25T00:00:00",
          "2012-04-01T00:00:00",
          "2012-04-08T00:00:00",
          "2012-04-15T00:00:00",
          "2012-04-22T00:00:00",
          "2012-04-29T00:00:00",
          "2012-05-06T00:00:00",
          "2012-05-13T00:00:00",
          "2012-05-20T00:00:00",
          "2012-05-27T00:00:00",
          "2012-06-03T00:00:00",
          "2012-06-10T00:00:00",
          "2012-06-17T00:00:00",
          "2012-06-24T00:00:00",
          "2012-07-01T00:00:00",
          "2012-07-08T00:00:00",
          "2012-07-15T00:00:00",
          "2012-07-22T00:00:00",
          "2012-07-29T00:00:00",
          "2012-08-05T00:00:00",
          "2012-08-12T00:00:00",
          "2012-08-19T00:00:00",
          "2012-08-26T00:00:00",
          "2012-09-02T00:00:00",
          "2012-09-09T00:00:00",
          "2012-09-16T00:00:00",
          "2012-09-23T00:00:00",
          "2012-09-30T00:00:00",
          "2012-10-07T00:00:00",
          "2012-10-14T00:00:00",
          "2012-10-21T00:00:00",
          "2012-10-28T00:00:00"
         ],
         "y": [
          1725787.6381910003,
          1782252.488395884,
          1736703.28719706,
          1675657.8500696346,
          1625268.2897228799,
          1631624.2001388944,
          1642575.1723331308,
          1653120.1511697392,
          1675462.6296490969,
          1676646.740006808,
          1643058.7694908378,
          1612600.98200967,
          1598544.002609375,
          1606882.2045456513,
          1625851.5695115412,
          1636622.7979496238,
          1624410.8805852318,
          1635585.2774224365,
          1648313.7489966606,
          1646206.7536733733,
          1641796.5372625994,
          1594306.4672798316,
          1558846.9558948106,
          1542611.9851976694,
          1563803.7329854006,
          1593483.0388097228,
          1600889.6121224028,
          1617412.0892633228,
          1635992.690471897,
          1645947.297049054,
          1649100.0725786092,
          1592243.0023487767,
          1546015.7635075476,
          1555462.1294961674,
          1591160.5698387986,
          1610791.585685132,
          1597870.0296560538,
          1558425.8968617273,
          1572674.4827892024,
          1647379.759812331,
          1731881.9405839073,
          1786681.9900138807,
          1788824.4888142932,
          1840138.2060569788,
          1952945.0314465235,
          2068326.2468722684,
          2049925.777378063,
          1869243.673669452,
          1594524.031485971,
          1401804.7834168498,
          1416955.7065860836,
          1594405.4581813419,
          1755300.8981808857,
          1834682.89776845,
          1800067.130615061,
          1738324.2013047293,
          1703415.2043083995,
          1689639.8835278112,
          1696682.365943023,
          1703080.4451259535,
          1726191.4526031422,
          1729838.1360198644,
          1708827.0359251238,
          1692400.5148222537,
          1660224.1831670443,
          1654577.46401918,
          1688561.390628578,
          1702049.6744064812,
          1689807.2305970227,
          1676498.1814873342,
          1696964.5932685146,
          1717997.3189181231,
          1704355.5033841834,
          1671458.1121356103,
          1619679.307483298,
          1596914.7203627336,
          1610377.2107119397,
          1643509.914868184,
          1665782.562345804,
          1680122.752199249,
          1703038.2586722074,
          1720089.0442181358,
          1699398.0141210014,
          1649103.6844108424,
          1615343.8002554127,
          1596119.814446438,
          1632530.6559525447,
          1674660.0295430045,
          1653707.6037219814,
          1616507.1430115066,
          1623860.1281305037,
          1686244.1208365778,
          1781280.2923386588,
          1838385.0803632871,
          1862187.579163288,
          1878154.716339963,
          1986233.3957611271,
          2102377.125726334,
          2122390.3459983775,
          1958136.2073077613,
          1693223.5008007737,
          1500843.2123024312,
          1475553.876355059,
          1610465.8681283183,
          1778276.926511583,
          1885846.5361684011,
          1868321.7951470325,
          1811099.081542195,
          1757895.692633175,
          1736363.236796258,
          1752115.0464205605,
          1754055.1603542494,
          1790849.4165926236,
          1794928.4949870864,
          1770409.569623958,
          1750974.5607384797,
          1723688.7769495198,
          1725594.774697147,
          1742209.6770518902,
          1758013.0714249385,
          1755178.9374311748,
          1732415.8224926416,
          1752114.5471753564,
          1759125.9666441486,
          1760122.0932685207,
          1732134.8574099638,
          1686065.8026919472,
          1651324.4543801353,
          1663696.5944542608,
          1694588.952283001,
          1722314.2266583587,
          1729445.4579911574,
          1742653.9887963997,
          1771865.9502669033,
          1764532.1041779446,
          1720263.1857092534,
          1661781.5597511579,
          1648016.370035882,
          1684277.1932122298,
          1710594.1513166109,
          1716967.9149288428,
          1684686.4195316266,
          1671348.4192894488
         ]
        }
       ],
       "layout": {
        "height": 600,
        "showlegend": false,
        "template": {
         "data": {
          "bar": [
           {
            "error_x": {
             "color": "#2a3f5f"
            },
            "error_y": {
             "color": "#2a3f5f"
            },
            "marker": {
             "line": {
              "color": "#E5ECF6",
              "width": 0.5
             },
             "pattern": {
              "fillmode": "overlay",
              "size": 10,
              "solidity": 0.2
             }
            },
            "type": "bar"
           }
          ],
          "barpolar": [
           {
            "marker": {
             "line": {
              "color": "#E5ECF6",
              "width": 0.5
             },
             "pattern": {
              "fillmode": "overlay",
              "size": 10,
              "solidity": 0.2
             }
            },
            "type": "barpolar"
           }
          ],
          "carpet": [
           {
            "aaxis": {
             "endlinecolor": "#2a3f5f",
             "gridcolor": "white",
             "linecolor": "white",
             "minorgridcolor": "white",
             "startlinecolor": "#2a3f5f"
            },
            "baxis": {
             "endlinecolor": "#2a3f5f",
             "gridcolor": "white",
             "linecolor": "white",
             "minorgridcolor": "white",
             "startlinecolor": "#2a3f5f"
            },
            "type": "carpet"
           }
          ],
          "choropleth": [
           {
            "colorbar": {
             "outlinewidth": 0,
             "ticks": ""
            },
            "type": "choropleth"
           }
          ],
          "contour": [
           {
            "colorbar": {
             "outlinewidth": 0,
             "ticks": ""
            },
            "colorscale": [
             [
              0,
              "#0d0887"
             ],
             [
              0.1111111111111111,
              "#46039f"
             ],
             [
              0.2222222222222222,
              "#7201a8"
             ],
             [
              0.3333333333333333,
              "#9c179e"
             ],
             [
              0.4444444444444444,
              "#bd3786"
             ],
             [
              0.5555555555555556,
              "#d8576b"
             ],
             [
              0.6666666666666666,
              "#ed7953"
             ],
             [
              0.7777777777777778,
              "#fb9f3a"
             ],
             [
              0.8888888888888888,
              "#fdca26"
             ],
             [
              1,
              "#f0f921"
             ]
            ],
            "type": "contour"
           }
          ],
          "contourcarpet": [
           {
            "colorbar": {
             "outlinewidth": 0,
             "ticks": ""
            },
            "type": "contourcarpet"
           }
          ],
          "heatmap": [
           {
            "colorbar": {
             "outlinewidth": 0,
             "ticks": ""
            },
            "colorscale": [
             [
              0,
              "#0d0887"
             ],
             [
              0.1111111111111111,
              "#46039f"
             ],
             [
              0.2222222222222222,
              "#7201a8"
             ],
             [
              0.3333333333333333,
              "#9c179e"
             ],
             [
              0.4444444444444444,
              "#bd3786"
             ],
             [
              0.5555555555555556,
              "#d8576b"
             ],
             [
              0.6666666666666666,
              "#ed7953"
             ],
             [
              0.7777777777777778,
              "#fb9f3a"
             ],
             [
              0.8888888888888888,
              "#fdca26"
             ],
             [
              1,
              "#f0f921"
             ]
            ],
            "type": "heatmap"
           }
          ],
          "heatmapgl": [
           {
            "colorbar": {
             "outlinewidth": 0,
             "ticks": ""
            },
            "colorscale": [
             [
              0,
              "#0d0887"
             ],
             [
              0.1111111111111111,
              "#46039f"
             ],
             [
              0.2222222222222222,
              "#7201a8"
             ],
             [
              0.3333333333333333,
              "#9c179e"
             ],
             [
              0.4444444444444444,
              "#bd3786"
             ],
             [
              0.5555555555555556,
              "#d8576b"
             ],
             [
              0.6666666666666666,
              "#ed7953"
             ],
             [
              0.7777777777777778,
              "#fb9f3a"
             ],
             [
              0.8888888888888888,
              "#fdca26"
             ],
             [
              1,
              "#f0f921"
             ]
            ],
            "type": "heatmapgl"
           }
          ],
          "histogram": [
           {
            "marker": {
             "pattern": {
              "fillmode": "overlay",
              "size": 10,
              "solidity": 0.2
             }
            },
            "type": "histogram"
           }
          ],
          "histogram2d": [
           {
            "colorbar": {
             "outlinewidth": 0,
             "ticks": ""
            },
            "colorscale": [
             [
              0,
              "#0d0887"
             ],
             [
              0.1111111111111111,
              "#46039f"
             ],
             [
              0.2222222222222222,
              "#7201a8"
             ],
             [
              0.3333333333333333,
              "#9c179e"
             ],
             [
              0.4444444444444444,
              "#bd3786"
             ],
             [
              0.5555555555555556,
              "#d8576b"
             ],
             [
              0.6666666666666666,
              "#ed7953"
             ],
             [
              0.7777777777777778,
              "#fb9f3a"
             ],
             [
              0.8888888888888888,
              "#fdca26"
             ],
             [
              1,
              "#f0f921"
             ]
            ],
            "type": "histogram2d"
           }
          ],
          "histogram2dcontour": [
           {
            "colorbar": {
             "outlinewidth": 0,
             "ticks": ""
            },
            "colorscale": [
             [
              0,
              "#0d0887"
             ],
             [
              0.1111111111111111,
              "#46039f"
             ],
             [
              0.2222222222222222,
              "#7201a8"
             ],
             [
              0.3333333333333333,
              "#9c179e"
             ],
             [
              0.4444444444444444,
              "#bd3786"
             ],
             [
              0.5555555555555556,
              "#d8576b"
             ],
             [
              0.6666666666666666,
              "#ed7953"
             ],
             [
              0.7777777777777778,
              "#fb9f3a"
             ],
             [
              0.8888888888888888,
              "#fdca26"
             ],
             [
              1,
              "#f0f921"
             ]
            ],
            "type": "histogram2dcontour"
           }
          ],
          "mesh3d": [
           {
            "colorbar": {
             "outlinewidth": 0,
             "ticks": ""
            },
            "type": "mesh3d"
           }
          ],
          "parcoords": [
           {
            "line": {
             "colorbar": {
              "outlinewidth": 0,
              "ticks": ""
             }
            },
            "type": "parcoords"
           }
          ],
          "pie": [
           {
            "automargin": true,
            "type": "pie"
           }
          ],
          "scatter": [
           {
            "marker": {
             "colorbar": {
              "outlinewidth": 0,
              "ticks": ""
             }
            },
            "type": "scatter"
           }
          ],
          "scatter3d": [
           {
            "line": {
             "colorbar": {
              "outlinewidth": 0,
              "ticks": ""
             }
            },
            "marker": {
             "colorbar": {
              "outlinewidth": 0,
              "ticks": ""
             }
            },
            "type": "scatter3d"
           }
          ],
          "scattercarpet": [
           {
            "marker": {
             "colorbar": {
              "outlinewidth": 0,
              "ticks": ""
             }
            },
            "type": "scattercarpet"
           }
          ],
          "scattergeo": [
           {
            "marker": {
             "colorbar": {
              "outlinewidth": 0,
              "ticks": ""
             }
            },
            "type": "scattergeo"
           }
          ],
          "scattergl": [
           {
            "marker": {
             "colorbar": {
              "outlinewidth": 0,
              "ticks": ""
             }
            },
            "type": "scattergl"
           }
          ],
          "scattermapbox": [
           {
            "marker": {
             "colorbar": {
              "outlinewidth": 0,
              "ticks": ""
             }
            },
            "type": "scattermapbox"
           }
          ],
          "scatterpolar": [
           {
            "marker": {
             "colorbar": {
              "outlinewidth": 0,
              "ticks": ""
             }
            },
            "type": "scatterpolar"
           }
          ],
          "scatterpolargl": [
           {
            "marker": {
             "colorbar": {
              "outlinewidth": 0,
              "ticks": ""
             }
            },
            "type": "scatterpolargl"
           }
          ],
          "scatterternary": [
           {
            "marker": {
             "colorbar": {
              "outlinewidth": 0,
              "ticks": ""
             }
            },
            "type": "scatterternary"
           }
          ],
          "surface": [
           {
            "colorbar": {
             "outlinewidth": 0,
             "ticks": ""
            },
            "colorscale": [
             [
              0,
              "#0d0887"
             ],
             [
              0.1111111111111111,
              "#46039f"
             ],
             [
              0.2222222222222222,
              "#7201a8"
             ],
             [
              0.3333333333333333,
              "#9c179e"
             ],
             [
              0.4444444444444444,
              "#bd3786"
             ],
             [
              0.5555555555555556,
              "#d8576b"
             ],
             [
              0.6666666666666666,
              "#ed7953"
             ],
             [
              0.7777777777777778,
              "#fb9f3a"
             ],
             [
              0.8888888888888888,
              "#fdca26"
             ],
             [
              1,
              "#f0f921"
             ]
            ],
            "type": "surface"
           }
          ],
          "table": [
           {
            "cells": {
             "fill": {
              "color": "#EBF0F8"
             },
             "line": {
              "color": "white"
             }
            },
            "header": {
             "fill": {
              "color": "#C8D4E3"
             },
             "line": {
              "color": "white"
             }
            },
            "type": "table"
           }
          ]
         },
         "layout": {
          "annotationdefaults": {
           "arrowcolor": "#2a3f5f",
           "arrowhead": 0,
           "arrowwidth": 1
          },
          "autotypenumbers": "strict",
          "coloraxis": {
           "colorbar": {
            "outlinewidth": 0,
            "ticks": ""
           }
          },
          "colorscale": {
           "diverging": [
            [
             0,
             "#8e0152"
            ],
            [
             0.1,
             "#c51b7d"
            ],
            [
             0.2,
             "#de77ae"
            ],
            [
             0.3,
             "#f1b6da"
            ],
            [
             0.4,
             "#fde0ef"
            ],
            [
             0.5,
             "#f7f7f7"
            ],
            [
             0.6,
             "#e6f5d0"
            ],
            [
             0.7,
             "#b8e186"
            ],
            [
             0.8,
             "#7fbc41"
            ],
            [
             0.9,
             "#4d9221"
            ],
            [
             1,
             "#276419"
            ]
           ],
           "sequential": [
            [
             0,
             "#0d0887"
            ],
            [
             0.1111111111111111,
             "#46039f"
            ],
            [
             0.2222222222222222,
             "#7201a8"
            ],
            [
             0.3333333333333333,
             "#9c179e"
            ],
            [
             0.4444444444444444,
             "#bd3786"
            ],
            [
             0.5555555555555556,
             "#d8576b"
            ],
            [
             0.6666666666666666,
             "#ed7953"
            ],
            [
             0.7777777777777778,
             "#fb9f3a"
            ],
            [
             0.8888888888888888,
             "#fdca26"
            ],
            [
             1,
             "#f0f921"
            ]
           ],
           "sequentialminus": [
            [
             0,
             "#0d0887"
            ],
            [
             0.1111111111111111,
             "#46039f"
            ],
            [
             0.2222222222222222,
             "#7201a8"
            ],
            [
             0.3333333333333333,
             "#9c179e"
            ],
            [
             0.4444444444444444,
             "#bd3786"
            ],
            [
             0.5555555555555556,
             "#d8576b"
            ],
            [
             0.6666666666666666,
             "#ed7953"
            ],
            [
             0.7777777777777778,
             "#fb9f3a"
            ],
            [
             0.8888888888888888,
             "#fdca26"
            ],
            [
             1,
             "#f0f921"
            ]
           ]
          },
          "colorway": [
           "#636efa",
           "#EF553B",
           "#00cc96",
           "#ab63fa",
           "#FFA15A",
           "#19d3f3",
           "#FF6692",
           "#B6E880",
           "#FF97FF",
           "#FECB52"
          ],
          "font": {
           "color": "#2a3f5f"
          },
          "geo": {
           "bgcolor": "white",
           "lakecolor": "white",
           "landcolor": "#E5ECF6",
           "showlakes": true,
           "showland": true,
           "subunitcolor": "white"
          },
          "hoverlabel": {
           "align": "left"
          },
          "hovermode": "closest",
          "mapbox": {
           "style": "light"
          },
          "paper_bgcolor": "white",
          "plot_bgcolor": "#E5ECF6",
          "polar": {
           "angularaxis": {
            "gridcolor": "white",
            "linecolor": "white",
            "ticks": ""
           },
           "bgcolor": "#E5ECF6",
           "radialaxis": {
            "gridcolor": "white",
            "linecolor": "white",
            "ticks": ""
           }
          },
          "scene": {
           "xaxis": {
            "backgroundcolor": "#E5ECF6",
            "gridcolor": "white",
            "gridwidth": 2,
            "linecolor": "white",
            "showbackground": true,
            "ticks": "",
            "zerolinecolor": "white"
           },
           "yaxis": {
            "backgroundcolor": "#E5ECF6",
            "gridcolor": "white",
            "gridwidth": 2,
            "linecolor": "white",
            "showbackground": true,
            "ticks": "",
            "zerolinecolor": "white"
           },
           "zaxis": {
            "backgroundcolor": "#E5ECF6",
            "gridcolor": "white",
            "gridwidth": 2,
            "linecolor": "white",
            "showbackground": true,
            "ticks": "",
            "zerolinecolor": "white"
           }
          },
          "shapedefaults": {
           "line": {
            "color": "#2a3f5f"
           }
          },
          "ternary": {
           "aaxis": {
            "gridcolor": "white",
            "linecolor": "white",
            "ticks": ""
           },
           "baxis": {
            "gridcolor": "white",
            "linecolor": "white",
            "ticks": ""
           },
           "bgcolor": "#E5ECF6",
           "caxis": {
            "gridcolor": "white",
            "linecolor": "white",
            "ticks": ""
           }
          },
          "title": {
           "x": 0.05
          },
          "xaxis": {
           "automargin": true,
           "gridcolor": "white",
           "linecolor": "white",
           "ticks": "",
           "title": {
            "standoff": 15
           },
           "zerolinecolor": "white",
           "zerolinewidth": 2
          },
          "yaxis": {
           "automargin": true,
           "gridcolor": "white",
           "linecolor": "white",
           "ticks": "",
           "title": {
            "standoff": 15
           },
           "zerolinecolor": "white",
           "zerolinewidth": 2
          }
         }
        },
        "width": 900,
        "xaxis": {
         "rangeselector": {
          "buttons": [
           {
            "count": 7,
            "label": "1w",
            "step": "day",
            "stepmode": "backward"
           },
           {
            "count": 1,
            "label": "1m",
            "step": "month",
            "stepmode": "backward"
           },
           {
            "count": 6,
            "label": "6m",
            "step": "month",
            "stepmode": "backward"
           },
           {
            "count": 1,
            "label": "1y",
            "step": "year",
            "stepmode": "backward"
           },
           {
            "step": "all"
           }
          ]
         },
         "rangeslider": {
          "visible": true
         },
         "title": {
          "text": "ds"
         },
         "type": "date"
        },
        "yaxis": {
         "title": {
          "text": "y"
         }
        }
       }
      }
     },
     "metadata": {},
     "output_type": "display_data"
    }
   ],
   "source": [
    "fig3 = plot_plotly(m, forecast)\n",
    "fig3"
   ]
  },
  {
   "cell_type": "markdown",
   "metadata": {},
   "source": [
    "## ++++   Testing Zone"
   ]
  },
  {
   "cell_type": "code",
   "execution_count": 109,
   "metadata": {},
   "outputs": [],
   "source": [
    "# function to evaluate metrics\n",
    "def evaluate(y_true, y_pred):\n",
    "    dict = {\n",
    "        'MAE': metrics.mean_absolute_error(y_true, y_pred),\n",
    "        'MSE': metrics.mean_squared_error(y_true, y_pred),\n",
    "        'RMSE': math.sqrt(metrics.mean_squared_error(y_true, y_pred)),\n",
    "        'R2': metrics.r2_score(y_true, y_pred)\n",
    "        }\n",
    "    return dict"
   ]
  },
  {
   "cell_type": "markdown",
   "metadata": {},
   "source": [
    "##### Linear Regression Model for all Stores"
   ]
  },
  {
   "cell_type": "code",
   "execution_count": 110,
   "metadata": {},
   "outputs": [],
   "source": [
    "# Regresion Lineal para toda tienda\n",
    "results = {}\n",
    "results_metrics = []\n",
    "\n",
    "for store in df.Store.unique():\n",
    "\n",
    "    store_series = df.loc[df['Store'] == store]\n",
    "    store_series = store_series[['Date', 'Weekly_Sales']]\n",
    "    store_series.dropna(inplace=True)\n",
    "    store_series.columns = ['Date', 'Sales']\n",
    "    store_series = store_series[[\"Sales\", \"Date\"]].resample(\"W\",on =\"Date\").sum().reset_index()\n",
    "    #store_df[\"Date\"]=pd.to_datetime(store_df[\"Date\"])\n",
    "    #store_series.set_index(\"Date\", inplace=True)\n",
    "\n",
    "    store_series['Time'] = np.arange(len(store_series.index)) # add time step column\n",
    "\n",
    "    #https://medium.com/@Hong_Tang/timeseries-split-with-sklearn-tips-8162c83612b9\n",
    "\n",
    "    # Time Series Split\n",
    "    tscv = TimeSeriesSplit() # instantiate object from class. default parameter sets object to perform k=5 splits\n",
    "\n",
    "    # Set date as index\n",
    "    store_series.set_index('Date', inplace=True)\n",
    "    store_series.sort_index(inplace=True)\n",
    "\n",
    "    #prepare features dataframe (X) and target (y) as data series\n",
    "    X = store_series.drop(labels=['Sales'], axis=1)\n",
    "    y = store_series['Sales']\n",
    "\n",
    "    # Split train test sets for both features and targets time-series class (tscv) class returns two arrays to mark train and test sets\n",
    "    for train_index, test_index in tscv.split(X):\n",
    "        X_train, X_test = X.iloc[train_index, :], X.iloc[test_index, :]\n",
    "        y_train, y_test = y.iloc[train_index], y.iloc[test_index]\n",
    "\n",
    "    # Summary of Train Test Split: number of records and date range for training and testing dataset.\n",
    "    #print('The training dataset has', len(X_train), 'records, ranging from', pd.DataFrame(y_train).index.min(), 'to', pd.DataFrame(y_train).index.max())\n",
    "    #print('The testing dataset has', len(X_test), 'records, ranging from', pd.DataFrame(y_test).index.min(), 'to', pd.DataFrame(y_test).index.max())\n",
    "\n",
    "    #https://scikit-learn.org/stable/auto_examples/linear_model/plot_ols.html#sphx-glr-auto-examples-linear-model-plot-ols-py\n",
    "\n",
    "    # Create linear regression object\n",
    "    regr = LinearRegression()\n",
    "\n",
    "    # Train the model using the training sets\n",
    "    regr.fit(X_train.values, y_train.values)\n",
    "\n",
    "    # Make predictions using the testing set\n",
    "    y_pred = regr.predict(X_test.values)\n",
    "\n",
    "    # model performance\n",
    "    results_metrics.append(evaluate(y_test.values, y_pred))\n",
    "\n",
    "    # save results\n",
    "    results[store] = [X_train, X_test, y_train, y_test, y_pred]\n",
    "\n",
    "\n",
    "    ## TODO: formato con pandas"
   ]
  },
  {
   "cell_type": "code",
   "execution_count": 111,
   "metadata": {},
   "outputs": [],
   "source": [
    "#results[2][21]"
   ]
  },
  {
   "cell_type": "code",
   "execution_count": 112,
   "metadata": {},
   "outputs": [
    {
     "data": {
      "text/plain": [
       "(45,\n",
       " [{'MAE': 93594.25616272884,\n",
       "   'MSE': 12501688526.009594,\n",
       "   'RMSE': 111810.94993787323,\n",
       "   'R2': -0.8738924620234421},\n",
       "  {'MAE': 63211.95745158935,\n",
       "   'MSE': 6059747851.113385,\n",
       "   'RMSE': 77844.38227074183,\n",
       "   'R2': -0.11523481698914484},\n",
       "  {'MAE': 20317.347704531592,\n",
       "   'MSE': 556727738.6059258,\n",
       "   'RMSE': 23595.078694633037,\n",
       "   'R2': -1.1966355054556428},\n",
       "  {'MAE': 163201.1880698508,\n",
       "   'MSE': 32011097318.233643,\n",
       "   'RMSE': 178916.45345868458,\n",
       "   'R2': -7.334731124714043},\n",
       "  {'MAE': 20899.499049047798,\n",
       "   'MSE': 627298728.8920628,\n",
       "   'RMSE': 25045.932382166626,\n",
       "   'R2': -1.5491145063675296},\n",
       "  {'MAE': 90031.39092210661,\n",
       "   'MSE': 12958265864.18495,\n",
       "   'RMSE': 113834.37909605757,\n",
       "   'R2': 0.007793137265963979},\n",
       "  {'MAE': 76090.60933047687,\n",
       "   'MSE': 7873997623.478217,\n",
       "   'RMSE': 88735.54881488149,\n",
       "   'R2': -0.16633712226452846},\n",
       "  {'MAE': 45496.09658672404,\n",
       "   'MSE': 2750501695.0761824,\n",
       "   'RMSE': 52445.225665223166,\n",
       "   'R2': -1.6368803281850721},\n",
       "  {'MAE': 47368.739110616094,\n",
       "   'MSE': 2946238210.4751177,\n",
       "   'RMSE': 54279.26132949045,\n",
       "   'R2': -3.4079308887690702},\n",
       "  {'MAE': 156073.72523502374,\n",
       "   'MSE': 29512418768.46471,\n",
       "   'RMSE': 171791.78900187492,\n",
       "   'R2': -4.310829815360931},\n",
       "  {'MAE': 73043.91981709686,\n",
       "   'MSE': 8690149559.857393,\n",
       "   'RMSE': 93220.97167406803,\n",
       "   'R2': -0.782813472103395},\n",
       "  {'MAE': 96229.62526450364,\n",
       "   'MSE': 11568021256.473806,\n",
       "   'RMSE': 107554.7360950405,\n",
       "   'R2': -3.5901264591471813},\n",
       "  {'MAE': 85201.930587713,\n",
       "   'MSE': 10172027016.70004,\n",
       "   'RMSE': 100856.46740145146,\n",
       "   'R2': -0.7539557915578174},\n",
       "  {'MAE': 274652.060967618,\n",
       "   'MSE': 92238889549.39162,\n",
       "   'RMSE': 303708.5602175079,\n",
       "   'R2': -1.9648458686460257},\n",
       "  {'MAE': 34262.95679967559,\n",
       "   'MSE': 1921978020.8566308,\n",
       "   'RMSE': 43840.36976186025,\n",
       "   'R2': 0.09781765260698139},\n",
       "  {'MAE': 35434.9158823157,\n",
       "   'MSE': 1947660904.1354144,\n",
       "   'RMSE': 44132.31133914713,\n",
       "   'R2': -0.09494487386752981},\n",
       "  {'MAE': 55974.75835757464,\n",
       "   'MSE': 6951205665.004683,\n",
       "   'RMSE': 83373.89078725236,\n",
       "   'R2': -0.011299519732102414},\n",
       "  {'MAE': 63188.26902935745,\n",
       "   'MSE': 5313384850.471352,\n",
       "   'RMSE': 72892.96845698734,\n",
       "   'R2': -0.4308173342386923},\n",
       "  {'MAE': 69294.9933650208,\n",
       "   'MSE': 6662662678.770215,\n",
       "   'RMSE': 81625.13509189565,\n",
       "   'R2': 0.011799129420715482},\n",
       "  {'MAE': 117763.61708965493,\n",
       "   'MSE': 18446100354.75566,\n",
       "   'RMSE': 135816.4215209474,\n",
       "   'R2': -0.9472436886224525},\n",
       "  {'MAE': 76338.62372685302,\n",
       "   'MSE': 7179161437.327485,\n",
       "   'RMSE': 84729.93235762368,\n",
       "   'R2': -2.9625529885776567},\n",
       "  {'MAE': 51654.22562123225,\n",
       "   'MSE': 3559991351.972572,\n",
       "   'RMSE': 59665.663090026675,\n",
       "   'R2': -0.10498951909380172},\n",
       "  {'MAE': 90733.50005623026,\n",
       "   'MSE': 12940761958.632462,\n",
       "   'RMSE': 113757.46990256272,\n",
       "   'R2': -0.2554003497462365},\n",
       "  {'MAE': 89267.93357631123,\n",
       "   'MSE': 12010127696.80145,\n",
       "   'RMSE': 109590.72815161623,\n",
       "   'R2': -0.4130378118358069},\n",
       "  {'MAE': 26182.5723176106,\n",
       "   'MSE': 1056221243.6600858,\n",
       "   'RMSE': 32499.557591759396,\n",
       "   'R2': -0.010953061837177147},\n",
       "  {'MAE': 59550.9656798067,\n",
       "   'MSE': 4958964128.736948,\n",
       "   'RMSE': 70419.91287084178,\n",
       "   'R2': -0.7147332144946843},\n",
       "  {'MAE': 102755.8640949401,\n",
       "   'MSE': 16549360120.225443,\n",
       "   'RMSE': 128644.31631527856,\n",
       "   'R2': -0.09246679248750822},\n",
       "  {'MAE': 147338.74124635666,\n",
       "   'MSE': 23889876226.37522,\n",
       "   'RMSE': 154563.50224543703,\n",
       "   'R2': -0.6678580602199087},\n",
       "  {'MAE': 34282.17134051425,\n",
       "   'MSE': 1920467070.8200572,\n",
       "   'RMSE': 43823.13396848812,\n",
       "   'R2': -0.0787431876229665},\n",
       "  {'MAE': 14274.268826074864,\n",
       "   'MSE': 275647469.0967629,\n",
       "   'RMSE': 16602.63440230986,\n",
       "   'R2': -3.036005407327976},\n",
       "  {'MAE': 89713.60540783407,\n",
       "   'MSE': 9981645025.18271,\n",
       "   'RMSE': 99908.18297408232,\n",
       "   'R2': -5.10968053178155},\n",
       "  {'MAE': 44902.83883018731,\n",
       "   'MSE': 2690241600.8393655,\n",
       "   'RMSE': 51867.53898961628,\n",
       "   'R2': -0.745835741011672},\n",
       "  {'MAE': 20809.684561011152,\n",
       "   'MSE': 687438647.401442,\n",
       "   'RMSE': 26219.051230001478,\n",
       "   'R2': -1.280399028069747},\n",
       "  {'MAE': 43272.030979541094,\n",
       "   'MSE': 2667166624.931517,\n",
       "   'RMSE': 51644.61854764267,\n",
       "   'R2': -2.2129378848228805},\n",
       "  {'MAE': 176500.0991591988,\n",
       "   'MSE': 33961361671.165382,\n",
       "   'RMSE': 184286.08648285246,\n",
       "   'R2': -11.249141700911846},\n",
       "  {'MAE': 15263.459223599433,\n",
       "   'MSE': 364912717.86563486,\n",
       "   'RMSE': 19102.68876011005,\n",
       "   'R2': -0.32085827342329676},\n",
       "  {'MAE': 15052.12035334532,\n",
       "   'MSE': 339405676.17802763,\n",
       "   'RMSE': 18422.965998395255,\n",
       "   'R2': -0.4061130288226569},\n",
       "  {'MAE': 23278.722785694656,\n",
       "   'MSE': 740339615.7786239,\n",
       "   'RMSE': 27209.182563587314,\n",
       "   'R2': -0.2851622154054432},\n",
       "  {'MAE': 70825.38059466085,\n",
       "   'MSE': 7141070983.377106,\n",
       "   'RMSE': 84504.85775017377,\n",
       "   'R2': -0.18844641601788759},\n",
       "  {'MAE': 52771.90172725513,\n",
       "   'MSE': 5064227311.926803,\n",
       "   'RMSE': 71163.38462950454,\n",
       "   'R2': -0.09367084316879337},\n",
       "  {'MAE': 57340.366769683555,\n",
       "   'MSE': 5193201997.143714,\n",
       "   'RMSE': 72063.87442501071,\n",
       "   'R2': -0.15066838645827207},\n",
       "  {'MAE': 50107.85008514632,\n",
       "   'MSE': 3426330970.201966,\n",
       "   'RMSE': 58534.869694926,\n",
       "   'R2': -0.8068808904490736},\n",
       "  {'MAE': 21357.444962048994,\n",
       "   'MSE': 627095852.6564542,\n",
       "   'RMSE': 25041.881971138955,\n",
       "   'R2': -0.09533450938870924},\n",
       "  {'MAE': 15993.536002221354,\n",
       "   'MSE': 335749958.2520217,\n",
       "   'RMSE': 18323.481062615305,\n",
       "   'R2': -2.393989472453752},\n",
       "  {'MAE': 64034.85490238353,\n",
       "   'MSE': 5157442395.38224,\n",
       "   'RMSE': 71815.33537749609,\n",
       "   'R2': -1.7126153031484597}])"
      ]
     },
     "execution_count": 112,
     "metadata": {},
     "output_type": "execute_result"
    }
   ],
   "source": [
    "len(results_metrics), results_metrics"
   ]
  },
  {
   "cell_type": "markdown",
   "metadata": {},
   "source": [
    "##### Prophet Model for all Stores"
   ]
  },
  {
   "cell_type": "code",
   "execution_count": 113,
   "metadata": {},
   "outputs": [
    {
     "name": "stderr",
     "output_type": "stream",
     "text": [
      "INFO:prophet:Disabling weekly seasonality. Run prophet with weekly_seasonality=True to override this.\n",
      "INFO:prophet:Disabling daily seasonality. Run prophet with daily_seasonality=True to override this.\n",
      "c:\\Users\\mike_\\anaconda3\\lib\\site-packages\\prophet\\forecaster.py:896: FutureWarning:\n",
      "\n",
      "The frame.append method is deprecated and will be removed from pandas in a future version. Use pandas.concat instead.\n",
      "\n",
      "c:\\Users\\mike_\\anaconda3\\lib\\site-packages\\prophet\\forecaster.py:896: FutureWarning:\n",
      "\n",
      "The frame.append method is deprecated and will be removed from pandas in a future version. Use pandas.concat instead.\n",
      "\n",
      "c:\\Users\\mike_\\anaconda3\\lib\\site-packages\\prophet\\forecaster.py:896: FutureWarning:\n",
      "\n",
      "The frame.append method is deprecated and will be removed from pandas in a future version. Use pandas.concat instead.\n",
      "\n",
      "INFO:prophet:Disabling weekly seasonality. Run prophet with weekly_seasonality=True to override this.\n",
      "INFO:prophet:Disabling daily seasonality. Run prophet with daily_seasonality=True to override this.\n",
      "c:\\Users\\mike_\\anaconda3\\lib\\site-packages\\prophet\\forecaster.py:896: FutureWarning:\n",
      "\n",
      "The frame.append method is deprecated and will be removed from pandas in a future version. Use pandas.concat instead.\n",
      "\n",
      "c:\\Users\\mike_\\anaconda3\\lib\\site-packages\\prophet\\forecaster.py:896: FutureWarning:\n",
      "\n",
      "The frame.append method is deprecated and will be removed from pandas in a future version. Use pandas.concat instead.\n",
      "\n",
      "c:\\Users\\mike_\\anaconda3\\lib\\site-packages\\prophet\\forecaster.py:896: FutureWarning:\n",
      "\n",
      "The frame.append method is deprecated and will be removed from pandas in a future version. Use pandas.concat instead.\n",
      "\n",
      "INFO:prophet:Disabling weekly seasonality. Run prophet with weekly_seasonality=True to override this.\n",
      "INFO:prophet:Disabling daily seasonality. Run prophet with daily_seasonality=True to override this.\n",
      "c:\\Users\\mike_\\anaconda3\\lib\\site-packages\\prophet\\forecaster.py:896: FutureWarning:\n",
      "\n",
      "The frame.append method is deprecated and will be removed from pandas in a future version. Use pandas.concat instead.\n",
      "\n",
      "c:\\Users\\mike_\\anaconda3\\lib\\site-packages\\prophet\\forecaster.py:896: FutureWarning:\n",
      "\n",
      "The frame.append method is deprecated and will be removed from pandas in a future version. Use pandas.concat instead.\n",
      "\n",
      "c:\\Users\\mike_\\anaconda3\\lib\\site-packages\\prophet\\forecaster.py:896: FutureWarning:\n",
      "\n",
      "The frame.append method is deprecated and will be removed from pandas in a future version. Use pandas.concat instead.\n",
      "\n",
      "INFO:prophet:Disabling weekly seasonality. Run prophet with weekly_seasonality=True to override this.\n",
      "INFO:prophet:Disabling daily seasonality. Run prophet with daily_seasonality=True to override this.\n",
      "c:\\Users\\mike_\\anaconda3\\lib\\site-packages\\prophet\\forecaster.py:896: FutureWarning:\n",
      "\n",
      "The frame.append method is deprecated and will be removed from pandas in a future version. Use pandas.concat instead.\n",
      "\n",
      "c:\\Users\\mike_\\anaconda3\\lib\\site-packages\\prophet\\forecaster.py:896: FutureWarning:\n",
      "\n",
      "The frame.append method is deprecated and will be removed from pandas in a future version. Use pandas.concat instead.\n",
      "\n",
      "c:\\Users\\mike_\\anaconda3\\lib\\site-packages\\prophet\\forecaster.py:896: FutureWarning:\n",
      "\n",
      "The frame.append method is deprecated and will be removed from pandas in a future version. Use pandas.concat instead.\n",
      "\n",
      "INFO:prophet:Disabling weekly seasonality. Run prophet with weekly_seasonality=True to override this.\n",
      "INFO:prophet:Disabling daily seasonality. Run prophet with daily_seasonality=True to override this.\n",
      "c:\\Users\\mike_\\anaconda3\\lib\\site-packages\\prophet\\forecaster.py:896: FutureWarning:\n",
      "\n",
      "The frame.append method is deprecated and will be removed from pandas in a future version. Use pandas.concat instead.\n",
      "\n",
      "c:\\Users\\mike_\\anaconda3\\lib\\site-packages\\prophet\\forecaster.py:896: FutureWarning:\n",
      "\n",
      "The frame.append method is deprecated and will be removed from pandas in a future version. Use pandas.concat instead.\n",
      "\n",
      "c:\\Users\\mike_\\anaconda3\\lib\\site-packages\\prophet\\forecaster.py:896: FutureWarning:\n",
      "\n",
      "The frame.append method is deprecated and will be removed from pandas in a future version. Use pandas.concat instead.\n",
      "\n",
      "INFO:prophet:Disabling weekly seasonality. Run prophet with weekly_seasonality=True to override this.\n",
      "INFO:prophet:Disabling daily seasonality. Run prophet with daily_seasonality=True to override this.\n",
      "c:\\Users\\mike_\\anaconda3\\lib\\site-packages\\prophet\\forecaster.py:896: FutureWarning:\n",
      "\n",
      "The frame.append method is deprecated and will be removed from pandas in a future version. Use pandas.concat instead.\n",
      "\n",
      "c:\\Users\\mike_\\anaconda3\\lib\\site-packages\\prophet\\forecaster.py:896: FutureWarning:\n",
      "\n",
      "The frame.append method is deprecated and will be removed from pandas in a future version. Use pandas.concat instead.\n",
      "\n",
      "c:\\Users\\mike_\\anaconda3\\lib\\site-packages\\prophet\\forecaster.py:896: FutureWarning:\n",
      "\n",
      "The frame.append method is deprecated and will be removed from pandas in a future version. Use pandas.concat instead.\n",
      "\n",
      "INFO:prophet:Disabling weekly seasonality. Run prophet with weekly_seasonality=True to override this.\n",
      "INFO:prophet:Disabling daily seasonality. Run prophet with daily_seasonality=True to override this.\n",
      "c:\\Users\\mike_\\anaconda3\\lib\\site-packages\\prophet\\forecaster.py:896: FutureWarning:\n",
      "\n",
      "The frame.append method is deprecated and will be removed from pandas in a future version. Use pandas.concat instead.\n",
      "\n",
      "c:\\Users\\mike_\\anaconda3\\lib\\site-packages\\prophet\\forecaster.py:896: FutureWarning:\n",
      "\n",
      "The frame.append method is deprecated and will be removed from pandas in a future version. Use pandas.concat instead.\n",
      "\n",
      "c:\\Users\\mike_\\anaconda3\\lib\\site-packages\\prophet\\forecaster.py:896: FutureWarning:\n",
      "\n",
      "The frame.append method is deprecated and will be removed from pandas in a future version. Use pandas.concat instead.\n",
      "\n",
      "INFO:prophet:Disabling weekly seasonality. Run prophet with weekly_seasonality=True to override this.\n",
      "INFO:prophet:Disabling daily seasonality. Run prophet with daily_seasonality=True to override this.\n",
      "c:\\Users\\mike_\\anaconda3\\lib\\site-packages\\prophet\\forecaster.py:896: FutureWarning:\n",
      "\n",
      "The frame.append method is deprecated and will be removed from pandas in a future version. Use pandas.concat instead.\n",
      "\n",
      "c:\\Users\\mike_\\anaconda3\\lib\\site-packages\\prophet\\forecaster.py:896: FutureWarning:\n",
      "\n",
      "The frame.append method is deprecated and will be removed from pandas in a future version. Use pandas.concat instead.\n",
      "\n",
      "c:\\Users\\mike_\\anaconda3\\lib\\site-packages\\prophet\\forecaster.py:896: FutureWarning:\n",
      "\n",
      "The frame.append method is deprecated and will be removed from pandas in a future version. Use pandas.concat instead.\n",
      "\n",
      "INFO:prophet:Disabling weekly seasonality. Run prophet with weekly_seasonality=True to override this.\n",
      "INFO:prophet:Disabling daily seasonality. Run prophet with daily_seasonality=True to override this.\n",
      "c:\\Users\\mike_\\anaconda3\\lib\\site-packages\\prophet\\forecaster.py:896: FutureWarning:\n",
      "\n",
      "The frame.append method is deprecated and will be removed from pandas in a future version. Use pandas.concat instead.\n",
      "\n",
      "c:\\Users\\mike_\\anaconda3\\lib\\site-packages\\prophet\\forecaster.py:896: FutureWarning:\n",
      "\n",
      "The frame.append method is deprecated and will be removed from pandas in a future version. Use pandas.concat instead.\n",
      "\n",
      "c:\\Users\\mike_\\anaconda3\\lib\\site-packages\\prophet\\forecaster.py:896: FutureWarning:\n",
      "\n",
      "The frame.append method is deprecated and will be removed from pandas in a future version. Use pandas.concat instead.\n",
      "\n",
      "INFO:prophet:Disabling weekly seasonality. Run prophet with weekly_seasonality=True to override this.\n",
      "INFO:prophet:Disabling daily seasonality. Run prophet with daily_seasonality=True to override this.\n",
      "c:\\Users\\mike_\\anaconda3\\lib\\site-packages\\prophet\\forecaster.py:896: FutureWarning:\n",
      "\n",
      "The frame.append method is deprecated and will be removed from pandas in a future version. Use pandas.concat instead.\n",
      "\n",
      "c:\\Users\\mike_\\anaconda3\\lib\\site-packages\\prophet\\forecaster.py:896: FutureWarning:\n",
      "\n",
      "The frame.append method is deprecated and will be removed from pandas in a future version. Use pandas.concat instead.\n",
      "\n",
      "c:\\Users\\mike_\\anaconda3\\lib\\site-packages\\prophet\\forecaster.py:896: FutureWarning:\n",
      "\n",
      "The frame.append method is deprecated and will be removed from pandas in a future version. Use pandas.concat instead.\n",
      "\n",
      "INFO:prophet:Disabling weekly seasonality. Run prophet with weekly_seasonality=True to override this.\n",
      "INFO:prophet:Disabling daily seasonality. Run prophet with daily_seasonality=True to override this.\n",
      "c:\\Users\\mike_\\anaconda3\\lib\\site-packages\\prophet\\forecaster.py:896: FutureWarning:\n",
      "\n",
      "The frame.append method is deprecated and will be removed from pandas in a future version. Use pandas.concat instead.\n",
      "\n",
      "c:\\Users\\mike_\\anaconda3\\lib\\site-packages\\prophet\\forecaster.py:896: FutureWarning:\n",
      "\n",
      "The frame.append method is deprecated and will be removed from pandas in a future version. Use pandas.concat instead.\n",
      "\n",
      "c:\\Users\\mike_\\anaconda3\\lib\\site-packages\\prophet\\forecaster.py:896: FutureWarning:\n",
      "\n",
      "The frame.append method is deprecated and will be removed from pandas in a future version. Use pandas.concat instead.\n",
      "\n",
      "INFO:prophet:Disabling weekly seasonality. Run prophet with weekly_seasonality=True to override this.\n",
      "INFO:prophet:Disabling daily seasonality. Run prophet with daily_seasonality=True to override this.\n",
      "c:\\Users\\mike_\\anaconda3\\lib\\site-packages\\prophet\\forecaster.py:896: FutureWarning:\n",
      "\n",
      "The frame.append method is deprecated and will be removed from pandas in a future version. Use pandas.concat instead.\n",
      "\n",
      "c:\\Users\\mike_\\anaconda3\\lib\\site-packages\\prophet\\forecaster.py:896: FutureWarning:\n",
      "\n",
      "The frame.append method is deprecated and will be removed from pandas in a future version. Use pandas.concat instead.\n",
      "\n",
      "c:\\Users\\mike_\\anaconda3\\lib\\site-packages\\prophet\\forecaster.py:896: FutureWarning:\n",
      "\n",
      "The frame.append method is deprecated and will be removed from pandas in a future version. Use pandas.concat instead.\n",
      "\n",
      "INFO:prophet:Disabling weekly seasonality. Run prophet with weekly_seasonality=True to override this.\n",
      "INFO:prophet:Disabling daily seasonality. Run prophet with daily_seasonality=True to override this.\n",
      "c:\\Users\\mike_\\anaconda3\\lib\\site-packages\\prophet\\forecaster.py:896: FutureWarning:\n",
      "\n",
      "The frame.append method is deprecated and will be removed from pandas in a future version. Use pandas.concat instead.\n",
      "\n",
      "c:\\Users\\mike_\\anaconda3\\lib\\site-packages\\prophet\\forecaster.py:896: FutureWarning:\n",
      "\n",
      "The frame.append method is deprecated and will be removed from pandas in a future version. Use pandas.concat instead.\n",
      "\n",
      "c:\\Users\\mike_\\anaconda3\\lib\\site-packages\\prophet\\forecaster.py:896: FutureWarning:\n",
      "\n",
      "The frame.append method is deprecated and will be removed from pandas in a future version. Use pandas.concat instead.\n",
      "\n",
      "INFO:prophet:Disabling weekly seasonality. Run prophet with weekly_seasonality=True to override this.\n",
      "INFO:prophet:Disabling daily seasonality. Run prophet with daily_seasonality=True to override this.\n",
      "c:\\Users\\mike_\\anaconda3\\lib\\site-packages\\prophet\\forecaster.py:896: FutureWarning:\n",
      "\n",
      "The frame.append method is deprecated and will be removed from pandas in a future version. Use pandas.concat instead.\n",
      "\n",
      "c:\\Users\\mike_\\anaconda3\\lib\\site-packages\\prophet\\forecaster.py:896: FutureWarning:\n",
      "\n",
      "The frame.append method is deprecated and will be removed from pandas in a future version. Use pandas.concat instead.\n",
      "\n",
      "c:\\Users\\mike_\\anaconda3\\lib\\site-packages\\prophet\\forecaster.py:896: FutureWarning:\n",
      "\n",
      "The frame.append method is deprecated and will be removed from pandas in a future version. Use pandas.concat instead.\n",
      "\n",
      "INFO:prophet:Disabling weekly seasonality. Run prophet with weekly_seasonality=True to override this.\n",
      "INFO:prophet:Disabling daily seasonality. Run prophet with daily_seasonality=True to override this.\n",
      "c:\\Users\\mike_\\anaconda3\\lib\\site-packages\\prophet\\forecaster.py:896: FutureWarning:\n",
      "\n",
      "The frame.append method is deprecated and will be removed from pandas in a future version. Use pandas.concat instead.\n",
      "\n",
      "c:\\Users\\mike_\\anaconda3\\lib\\site-packages\\prophet\\forecaster.py:896: FutureWarning:\n",
      "\n",
      "The frame.append method is deprecated and will be removed from pandas in a future version. Use pandas.concat instead.\n",
      "\n",
      "c:\\Users\\mike_\\anaconda3\\lib\\site-packages\\prophet\\forecaster.py:896: FutureWarning:\n",
      "\n",
      "The frame.append method is deprecated and will be removed from pandas in a future version. Use pandas.concat instead.\n",
      "\n",
      "INFO:prophet:Disabling weekly seasonality. Run prophet with weekly_seasonality=True to override this.\n",
      "INFO:prophet:Disabling daily seasonality. Run prophet with daily_seasonality=True to override this.\n",
      "c:\\Users\\mike_\\anaconda3\\lib\\site-packages\\prophet\\forecaster.py:896: FutureWarning:\n",
      "\n",
      "The frame.append method is deprecated and will be removed from pandas in a future version. Use pandas.concat instead.\n",
      "\n",
      "c:\\Users\\mike_\\anaconda3\\lib\\site-packages\\prophet\\forecaster.py:896: FutureWarning:\n",
      "\n",
      "The frame.append method is deprecated and will be removed from pandas in a future version. Use pandas.concat instead.\n",
      "\n",
      "c:\\Users\\mike_\\anaconda3\\lib\\site-packages\\prophet\\forecaster.py:896: FutureWarning:\n",
      "\n",
      "The frame.append method is deprecated and will be removed from pandas in a future version. Use pandas.concat instead.\n",
      "\n",
      "INFO:prophet:Disabling weekly seasonality. Run prophet with weekly_seasonality=True to override this.\n",
      "INFO:prophet:Disabling daily seasonality. Run prophet with daily_seasonality=True to override this.\n",
      "c:\\Users\\mike_\\anaconda3\\lib\\site-packages\\prophet\\forecaster.py:896: FutureWarning:\n",
      "\n",
      "The frame.append method is deprecated and will be removed from pandas in a future version. Use pandas.concat instead.\n",
      "\n",
      "c:\\Users\\mike_\\anaconda3\\lib\\site-packages\\prophet\\forecaster.py:896: FutureWarning:\n",
      "\n",
      "The frame.append method is deprecated and will be removed from pandas in a future version. Use pandas.concat instead.\n",
      "\n",
      "c:\\Users\\mike_\\anaconda3\\lib\\site-packages\\prophet\\forecaster.py:896: FutureWarning:\n",
      "\n",
      "The frame.append method is deprecated and will be removed from pandas in a future version. Use pandas.concat instead.\n",
      "\n",
      "INFO:prophet:Disabling weekly seasonality. Run prophet with weekly_seasonality=True to override this.\n",
      "INFO:prophet:Disabling daily seasonality. Run prophet with daily_seasonality=True to override this.\n",
      "c:\\Users\\mike_\\anaconda3\\lib\\site-packages\\prophet\\forecaster.py:896: FutureWarning:\n",
      "\n",
      "The frame.append method is deprecated and will be removed from pandas in a future version. Use pandas.concat instead.\n",
      "\n",
      "c:\\Users\\mike_\\anaconda3\\lib\\site-packages\\prophet\\forecaster.py:896: FutureWarning:\n",
      "\n",
      "The frame.append method is deprecated and will be removed from pandas in a future version. Use pandas.concat instead.\n",
      "\n",
      "c:\\Users\\mike_\\anaconda3\\lib\\site-packages\\prophet\\forecaster.py:896: FutureWarning:\n",
      "\n",
      "The frame.append method is deprecated and will be removed from pandas in a future version. Use pandas.concat instead.\n",
      "\n",
      "INFO:prophet:Disabling weekly seasonality. Run prophet with weekly_seasonality=True to override this.\n",
      "INFO:prophet:Disabling daily seasonality. Run prophet with daily_seasonality=True to override this.\n",
      "c:\\Users\\mike_\\anaconda3\\lib\\site-packages\\prophet\\forecaster.py:896: FutureWarning:\n",
      "\n",
      "The frame.append method is deprecated and will be removed from pandas in a future version. Use pandas.concat instead.\n",
      "\n",
      "c:\\Users\\mike_\\anaconda3\\lib\\site-packages\\prophet\\forecaster.py:896: FutureWarning:\n",
      "\n",
      "The frame.append method is deprecated and will be removed from pandas in a future version. Use pandas.concat instead.\n",
      "\n",
      "c:\\Users\\mike_\\anaconda3\\lib\\site-packages\\prophet\\forecaster.py:896: FutureWarning:\n",
      "\n",
      "The frame.append method is deprecated and will be removed from pandas in a future version. Use pandas.concat instead.\n",
      "\n",
      "INFO:prophet:Disabling weekly seasonality. Run prophet with weekly_seasonality=True to override this.\n",
      "INFO:prophet:Disabling daily seasonality. Run prophet with daily_seasonality=True to override this.\n",
      "c:\\Users\\mike_\\anaconda3\\lib\\site-packages\\prophet\\forecaster.py:896: FutureWarning:\n",
      "\n",
      "The frame.append method is deprecated and will be removed from pandas in a future version. Use pandas.concat instead.\n",
      "\n",
      "c:\\Users\\mike_\\anaconda3\\lib\\site-packages\\prophet\\forecaster.py:896: FutureWarning:\n",
      "\n",
      "The frame.append method is deprecated and will be removed from pandas in a future version. Use pandas.concat instead.\n",
      "\n",
      "c:\\Users\\mike_\\anaconda3\\lib\\site-packages\\prophet\\forecaster.py:896: FutureWarning:\n",
      "\n",
      "The frame.append method is deprecated and will be removed from pandas in a future version. Use pandas.concat instead.\n",
      "\n",
      "INFO:prophet:Disabling weekly seasonality. Run prophet with weekly_seasonality=True to override this.\n",
      "INFO:prophet:Disabling daily seasonality. Run prophet with daily_seasonality=True to override this.\n",
      "c:\\Users\\mike_\\anaconda3\\lib\\site-packages\\prophet\\forecaster.py:896: FutureWarning:\n",
      "\n",
      "The frame.append method is deprecated and will be removed from pandas in a future version. Use pandas.concat instead.\n",
      "\n",
      "c:\\Users\\mike_\\anaconda3\\lib\\site-packages\\prophet\\forecaster.py:896: FutureWarning:\n",
      "\n",
      "The frame.append method is deprecated and will be removed from pandas in a future version. Use pandas.concat instead.\n",
      "\n",
      "c:\\Users\\mike_\\anaconda3\\lib\\site-packages\\prophet\\forecaster.py:896: FutureWarning:\n",
      "\n",
      "The frame.append method is deprecated and will be removed from pandas in a future version. Use pandas.concat instead.\n",
      "\n",
      "INFO:prophet:Disabling weekly seasonality. Run prophet with weekly_seasonality=True to override this.\n",
      "INFO:prophet:Disabling daily seasonality. Run prophet with daily_seasonality=True to override this.\n",
      "c:\\Users\\mike_\\anaconda3\\lib\\site-packages\\prophet\\forecaster.py:896: FutureWarning:\n",
      "\n",
      "The frame.append method is deprecated and will be removed from pandas in a future version. Use pandas.concat instead.\n",
      "\n",
      "c:\\Users\\mike_\\anaconda3\\lib\\site-packages\\prophet\\forecaster.py:896: FutureWarning:\n",
      "\n",
      "The frame.append method is deprecated and will be removed from pandas in a future version. Use pandas.concat instead.\n",
      "\n",
      "c:\\Users\\mike_\\anaconda3\\lib\\site-packages\\prophet\\forecaster.py:896: FutureWarning:\n",
      "\n",
      "The frame.append method is deprecated and will be removed from pandas in a future version. Use pandas.concat instead.\n",
      "\n",
      "INFO:prophet:Disabling weekly seasonality. Run prophet with weekly_seasonality=True to override this.\n",
      "INFO:prophet:Disabling daily seasonality. Run prophet with daily_seasonality=True to override this.\n",
      "c:\\Users\\mike_\\anaconda3\\lib\\site-packages\\prophet\\forecaster.py:896: FutureWarning:\n",
      "\n",
      "The frame.append method is deprecated and will be removed from pandas in a future version. Use pandas.concat instead.\n",
      "\n",
      "c:\\Users\\mike_\\anaconda3\\lib\\site-packages\\prophet\\forecaster.py:896: FutureWarning:\n",
      "\n",
      "The frame.append method is deprecated and will be removed from pandas in a future version. Use pandas.concat instead.\n",
      "\n",
      "c:\\Users\\mike_\\anaconda3\\lib\\site-packages\\prophet\\forecaster.py:896: FutureWarning:\n",
      "\n",
      "The frame.append method is deprecated and will be removed from pandas in a future version. Use pandas.concat instead.\n",
      "\n",
      "INFO:prophet:Disabling weekly seasonality. Run prophet with weekly_seasonality=True to override this.\n",
      "INFO:prophet:Disabling daily seasonality. Run prophet with daily_seasonality=True to override this.\n",
      "c:\\Users\\mike_\\anaconda3\\lib\\site-packages\\prophet\\forecaster.py:896: FutureWarning:\n",
      "\n",
      "The frame.append method is deprecated and will be removed from pandas in a future version. Use pandas.concat instead.\n",
      "\n",
      "c:\\Users\\mike_\\anaconda3\\lib\\site-packages\\prophet\\forecaster.py:896: FutureWarning:\n",
      "\n",
      "The frame.append method is deprecated and will be removed from pandas in a future version. Use pandas.concat instead.\n",
      "\n",
      "c:\\Users\\mike_\\anaconda3\\lib\\site-packages\\prophet\\forecaster.py:896: FutureWarning:\n",
      "\n",
      "The frame.append method is deprecated and will be removed from pandas in a future version. Use pandas.concat instead.\n",
      "\n",
      "INFO:prophet:Disabling weekly seasonality. Run prophet with weekly_seasonality=True to override this.\n",
      "INFO:prophet:Disabling daily seasonality. Run prophet with daily_seasonality=True to override this.\n",
      "c:\\Users\\mike_\\anaconda3\\lib\\site-packages\\prophet\\forecaster.py:896: FutureWarning:\n",
      "\n",
      "The frame.append method is deprecated and will be removed from pandas in a future version. Use pandas.concat instead.\n",
      "\n",
      "c:\\Users\\mike_\\anaconda3\\lib\\site-packages\\prophet\\forecaster.py:896: FutureWarning:\n",
      "\n",
      "The frame.append method is deprecated and will be removed from pandas in a future version. Use pandas.concat instead.\n",
      "\n",
      "c:\\Users\\mike_\\anaconda3\\lib\\site-packages\\prophet\\forecaster.py:896: FutureWarning:\n",
      "\n",
      "The frame.append method is deprecated and will be removed from pandas in a future version. Use pandas.concat instead.\n",
      "\n",
      "INFO:prophet:Disabling weekly seasonality. Run prophet with weekly_seasonality=True to override this.\n",
      "INFO:prophet:Disabling daily seasonality. Run prophet with daily_seasonality=True to override this.\n",
      "c:\\Users\\mike_\\anaconda3\\lib\\site-packages\\prophet\\forecaster.py:896: FutureWarning:\n",
      "\n",
      "The frame.append method is deprecated and will be removed from pandas in a future version. Use pandas.concat instead.\n",
      "\n",
      "c:\\Users\\mike_\\anaconda3\\lib\\site-packages\\prophet\\forecaster.py:896: FutureWarning:\n",
      "\n",
      "The frame.append method is deprecated and will be removed from pandas in a future version. Use pandas.concat instead.\n",
      "\n",
      "c:\\Users\\mike_\\anaconda3\\lib\\site-packages\\prophet\\forecaster.py:896: FutureWarning:\n",
      "\n",
      "The frame.append method is deprecated and will be removed from pandas in a future version. Use pandas.concat instead.\n",
      "\n",
      "INFO:prophet:Disabling weekly seasonality. Run prophet with weekly_seasonality=True to override this.\n",
      "INFO:prophet:Disabling daily seasonality. Run prophet with daily_seasonality=True to override this.\n",
      "c:\\Users\\mike_\\anaconda3\\lib\\site-packages\\prophet\\forecaster.py:896: FutureWarning:\n",
      "\n",
      "The frame.append method is deprecated and will be removed from pandas in a future version. Use pandas.concat instead.\n",
      "\n",
      "c:\\Users\\mike_\\anaconda3\\lib\\site-packages\\prophet\\forecaster.py:896: FutureWarning:\n",
      "\n",
      "The frame.append method is deprecated and will be removed from pandas in a future version. Use pandas.concat instead.\n",
      "\n",
      "c:\\Users\\mike_\\anaconda3\\lib\\site-packages\\prophet\\forecaster.py:896: FutureWarning:\n",
      "\n",
      "The frame.append method is deprecated and will be removed from pandas in a future version. Use pandas.concat instead.\n",
      "\n",
      "INFO:prophet:Disabling weekly seasonality. Run prophet with weekly_seasonality=True to override this.\n",
      "INFO:prophet:Disabling daily seasonality. Run prophet with daily_seasonality=True to override this.\n",
      "c:\\Users\\mike_\\anaconda3\\lib\\site-packages\\prophet\\forecaster.py:896: FutureWarning:\n",
      "\n",
      "The frame.append method is deprecated and will be removed from pandas in a future version. Use pandas.concat instead.\n",
      "\n",
      "c:\\Users\\mike_\\anaconda3\\lib\\site-packages\\prophet\\forecaster.py:896: FutureWarning:\n",
      "\n",
      "The frame.append method is deprecated and will be removed from pandas in a future version. Use pandas.concat instead.\n",
      "\n",
      "c:\\Users\\mike_\\anaconda3\\lib\\site-packages\\prophet\\forecaster.py:896: FutureWarning:\n",
      "\n",
      "The frame.append method is deprecated and will be removed from pandas in a future version. Use pandas.concat instead.\n",
      "\n",
      "INFO:prophet:Disabling weekly seasonality. Run prophet with weekly_seasonality=True to override this.\n",
      "INFO:prophet:Disabling daily seasonality. Run prophet with daily_seasonality=True to override this.\n",
      "c:\\Users\\mike_\\anaconda3\\lib\\site-packages\\prophet\\forecaster.py:896: FutureWarning:\n",
      "\n",
      "The frame.append method is deprecated and will be removed from pandas in a future version. Use pandas.concat instead.\n",
      "\n",
      "c:\\Users\\mike_\\anaconda3\\lib\\site-packages\\prophet\\forecaster.py:896: FutureWarning:\n",
      "\n",
      "The frame.append method is deprecated and will be removed from pandas in a future version. Use pandas.concat instead.\n",
      "\n",
      "c:\\Users\\mike_\\anaconda3\\lib\\site-packages\\prophet\\forecaster.py:896: FutureWarning:\n",
      "\n",
      "The frame.append method is deprecated and will be removed from pandas in a future version. Use pandas.concat instead.\n",
      "\n",
      "INFO:prophet:Disabling weekly seasonality. Run prophet with weekly_seasonality=True to override this.\n",
      "INFO:prophet:Disabling daily seasonality. Run prophet with daily_seasonality=True to override this.\n",
      "c:\\Users\\mike_\\anaconda3\\lib\\site-packages\\prophet\\forecaster.py:896: FutureWarning:\n",
      "\n",
      "The frame.append method is deprecated and will be removed from pandas in a future version. Use pandas.concat instead.\n",
      "\n",
      "c:\\Users\\mike_\\anaconda3\\lib\\site-packages\\prophet\\forecaster.py:896: FutureWarning:\n",
      "\n",
      "The frame.append method is deprecated and will be removed from pandas in a future version. Use pandas.concat instead.\n",
      "\n",
      "c:\\Users\\mike_\\anaconda3\\lib\\site-packages\\prophet\\forecaster.py:896: FutureWarning:\n",
      "\n",
      "The frame.append method is deprecated and will be removed from pandas in a future version. Use pandas.concat instead.\n",
      "\n",
      "INFO:prophet:Disabling weekly seasonality. Run prophet with weekly_seasonality=True to override this.\n",
      "INFO:prophet:Disabling daily seasonality. Run prophet with daily_seasonality=True to override this.\n",
      "c:\\Users\\mike_\\anaconda3\\lib\\site-packages\\prophet\\forecaster.py:896: FutureWarning:\n",
      "\n",
      "The frame.append method is deprecated and will be removed from pandas in a future version. Use pandas.concat instead.\n",
      "\n",
      "c:\\Users\\mike_\\anaconda3\\lib\\site-packages\\prophet\\forecaster.py:896: FutureWarning:\n",
      "\n",
      "The frame.append method is deprecated and will be removed from pandas in a future version. Use pandas.concat instead.\n",
      "\n",
      "c:\\Users\\mike_\\anaconda3\\lib\\site-packages\\prophet\\forecaster.py:896: FutureWarning:\n",
      "\n",
      "The frame.append method is deprecated and will be removed from pandas in a future version. Use pandas.concat instead.\n",
      "\n",
      "INFO:prophet:Disabling weekly seasonality. Run prophet with weekly_seasonality=True to override this.\n",
      "INFO:prophet:Disabling daily seasonality. Run prophet with daily_seasonality=True to override this.\n",
      "c:\\Users\\mike_\\anaconda3\\lib\\site-packages\\prophet\\forecaster.py:896: FutureWarning:\n",
      "\n",
      "The frame.append method is deprecated and will be removed from pandas in a future version. Use pandas.concat instead.\n",
      "\n",
      "c:\\Users\\mike_\\anaconda3\\lib\\site-packages\\prophet\\forecaster.py:896: FutureWarning:\n",
      "\n",
      "The frame.append method is deprecated and will be removed from pandas in a future version. Use pandas.concat instead.\n",
      "\n",
      "c:\\Users\\mike_\\anaconda3\\lib\\site-packages\\prophet\\forecaster.py:896: FutureWarning:\n",
      "\n",
      "The frame.append method is deprecated and will be removed from pandas in a future version. Use pandas.concat instead.\n",
      "\n",
      "INFO:prophet:Disabling weekly seasonality. Run prophet with weekly_seasonality=True to override this.\n",
      "INFO:prophet:Disabling daily seasonality. Run prophet with daily_seasonality=True to override this.\n",
      "c:\\Users\\mike_\\anaconda3\\lib\\site-packages\\prophet\\forecaster.py:896: FutureWarning:\n",
      "\n",
      "The frame.append method is deprecated and will be removed from pandas in a future version. Use pandas.concat instead.\n",
      "\n",
      "c:\\Users\\mike_\\anaconda3\\lib\\site-packages\\prophet\\forecaster.py:896: FutureWarning:\n",
      "\n",
      "The frame.append method is deprecated and will be removed from pandas in a future version. Use pandas.concat instead.\n",
      "\n",
      "c:\\Users\\mike_\\anaconda3\\lib\\site-packages\\prophet\\forecaster.py:896: FutureWarning:\n",
      "\n",
      "The frame.append method is deprecated and will be removed from pandas in a future version. Use pandas.concat instead.\n",
      "\n",
      "INFO:prophet:Disabling weekly seasonality. Run prophet with weekly_seasonality=True to override this.\n",
      "INFO:prophet:Disabling daily seasonality. Run prophet with daily_seasonality=True to override this.\n",
      "c:\\Users\\mike_\\anaconda3\\lib\\site-packages\\prophet\\forecaster.py:896: FutureWarning:\n",
      "\n",
      "The frame.append method is deprecated and will be removed from pandas in a future version. Use pandas.concat instead.\n",
      "\n",
      "c:\\Users\\mike_\\anaconda3\\lib\\site-packages\\prophet\\forecaster.py:896: FutureWarning:\n",
      "\n",
      "The frame.append method is deprecated and will be removed from pandas in a future version. Use pandas.concat instead.\n",
      "\n",
      "c:\\Users\\mike_\\anaconda3\\lib\\site-packages\\prophet\\forecaster.py:896: FutureWarning:\n",
      "\n",
      "The frame.append method is deprecated and will be removed from pandas in a future version. Use pandas.concat instead.\n",
      "\n",
      "INFO:prophet:Disabling weekly seasonality. Run prophet with weekly_seasonality=True to override this.\n",
      "INFO:prophet:Disabling daily seasonality. Run prophet with daily_seasonality=True to override this.\n",
      "c:\\Users\\mike_\\anaconda3\\lib\\site-packages\\prophet\\forecaster.py:896: FutureWarning:\n",
      "\n",
      "The frame.append method is deprecated and will be removed from pandas in a future version. Use pandas.concat instead.\n",
      "\n",
      "c:\\Users\\mike_\\anaconda3\\lib\\site-packages\\prophet\\forecaster.py:896: FutureWarning:\n",
      "\n",
      "The frame.append method is deprecated and will be removed from pandas in a future version. Use pandas.concat instead.\n",
      "\n",
      "c:\\Users\\mike_\\anaconda3\\lib\\site-packages\\prophet\\forecaster.py:896: FutureWarning:\n",
      "\n",
      "The frame.append method is deprecated and will be removed from pandas in a future version. Use pandas.concat instead.\n",
      "\n",
      "INFO:prophet:Disabling weekly seasonality. Run prophet with weekly_seasonality=True to override this.\n",
      "INFO:prophet:Disabling daily seasonality. Run prophet with daily_seasonality=True to override this.\n",
      "c:\\Users\\mike_\\anaconda3\\lib\\site-packages\\prophet\\forecaster.py:896: FutureWarning:\n",
      "\n",
      "The frame.append method is deprecated and will be removed from pandas in a future version. Use pandas.concat instead.\n",
      "\n",
      "c:\\Users\\mike_\\anaconda3\\lib\\site-packages\\prophet\\forecaster.py:896: FutureWarning:\n",
      "\n",
      "The frame.append method is deprecated and will be removed from pandas in a future version. Use pandas.concat instead.\n",
      "\n",
      "c:\\Users\\mike_\\anaconda3\\lib\\site-packages\\prophet\\forecaster.py:896: FutureWarning:\n",
      "\n",
      "The frame.append method is deprecated and will be removed from pandas in a future version. Use pandas.concat instead.\n",
      "\n",
      "INFO:prophet:Disabling weekly seasonality. Run prophet with weekly_seasonality=True to override this.\n",
      "INFO:prophet:Disabling daily seasonality. Run prophet with daily_seasonality=True to override this.\n",
      "c:\\Users\\mike_\\anaconda3\\lib\\site-packages\\prophet\\forecaster.py:896: FutureWarning:\n",
      "\n",
      "The frame.append method is deprecated and will be removed from pandas in a future version. Use pandas.concat instead.\n",
      "\n",
      "c:\\Users\\mike_\\anaconda3\\lib\\site-packages\\prophet\\forecaster.py:896: FutureWarning:\n",
      "\n",
      "The frame.append method is deprecated and will be removed from pandas in a future version. Use pandas.concat instead.\n",
      "\n",
      "c:\\Users\\mike_\\anaconda3\\lib\\site-packages\\prophet\\forecaster.py:896: FutureWarning:\n",
      "\n",
      "The frame.append method is deprecated and will be removed from pandas in a future version. Use pandas.concat instead.\n",
      "\n",
      "INFO:prophet:Disabling weekly seasonality. Run prophet with weekly_seasonality=True to override this.\n",
      "INFO:prophet:Disabling daily seasonality. Run prophet with daily_seasonality=True to override this.\n",
      "c:\\Users\\mike_\\anaconda3\\lib\\site-packages\\prophet\\forecaster.py:896: FutureWarning:\n",
      "\n",
      "The frame.append method is deprecated and will be removed from pandas in a future version. Use pandas.concat instead.\n",
      "\n",
      "c:\\Users\\mike_\\anaconda3\\lib\\site-packages\\prophet\\forecaster.py:896: FutureWarning:\n",
      "\n",
      "The frame.append method is deprecated and will be removed from pandas in a future version. Use pandas.concat instead.\n",
      "\n",
      "c:\\Users\\mike_\\anaconda3\\lib\\site-packages\\prophet\\forecaster.py:896: FutureWarning:\n",
      "\n",
      "The frame.append method is deprecated and will be removed from pandas in a future version. Use pandas.concat instead.\n",
      "\n",
      "INFO:prophet:Disabling weekly seasonality. Run prophet with weekly_seasonality=True to override this.\n",
      "INFO:prophet:Disabling daily seasonality. Run prophet with daily_seasonality=True to override this.\n",
      "c:\\Users\\mike_\\anaconda3\\lib\\site-packages\\prophet\\forecaster.py:896: FutureWarning:\n",
      "\n",
      "The frame.append method is deprecated and will be removed from pandas in a future version. Use pandas.concat instead.\n",
      "\n",
      "c:\\Users\\mike_\\anaconda3\\lib\\site-packages\\prophet\\forecaster.py:896: FutureWarning:\n",
      "\n",
      "The frame.append method is deprecated and will be removed from pandas in a future version. Use pandas.concat instead.\n",
      "\n",
      "c:\\Users\\mike_\\anaconda3\\lib\\site-packages\\prophet\\forecaster.py:896: FutureWarning:\n",
      "\n",
      "The frame.append method is deprecated and will be removed from pandas in a future version. Use pandas.concat instead.\n",
      "\n",
      "INFO:prophet:Disabling weekly seasonality. Run prophet with weekly_seasonality=True to override this.\n",
      "INFO:prophet:Disabling daily seasonality. Run prophet with daily_seasonality=True to override this.\n",
      "c:\\Users\\mike_\\anaconda3\\lib\\site-packages\\prophet\\forecaster.py:896: FutureWarning:\n",
      "\n",
      "The frame.append method is deprecated and will be removed from pandas in a future version. Use pandas.concat instead.\n",
      "\n",
      "c:\\Users\\mike_\\anaconda3\\lib\\site-packages\\prophet\\forecaster.py:896: FutureWarning:\n",
      "\n",
      "The frame.append method is deprecated and will be removed from pandas in a future version. Use pandas.concat instead.\n",
      "\n",
      "c:\\Users\\mike_\\anaconda3\\lib\\site-packages\\prophet\\forecaster.py:896: FutureWarning:\n",
      "\n",
      "The frame.append method is deprecated and will be removed from pandas in a future version. Use pandas.concat instead.\n",
      "\n",
      "INFO:prophet:Disabling weekly seasonality. Run prophet with weekly_seasonality=True to override this.\n",
      "INFO:prophet:Disabling daily seasonality. Run prophet with daily_seasonality=True to override this.\n",
      "c:\\Users\\mike_\\anaconda3\\lib\\site-packages\\prophet\\forecaster.py:896: FutureWarning:\n",
      "\n",
      "The frame.append method is deprecated and will be removed from pandas in a future version. Use pandas.concat instead.\n",
      "\n",
      "c:\\Users\\mike_\\anaconda3\\lib\\site-packages\\prophet\\forecaster.py:896: FutureWarning:\n",
      "\n",
      "The frame.append method is deprecated and will be removed from pandas in a future version. Use pandas.concat instead.\n",
      "\n",
      "c:\\Users\\mike_\\anaconda3\\lib\\site-packages\\prophet\\forecaster.py:896: FutureWarning:\n",
      "\n",
      "The frame.append method is deprecated and will be removed from pandas in a future version. Use pandas.concat instead.\n",
      "\n",
      "INFO:prophet:Disabling weekly seasonality. Run prophet with weekly_seasonality=True to override this.\n",
      "INFO:prophet:Disabling daily seasonality. Run prophet with daily_seasonality=True to override this.\n",
      "c:\\Users\\mike_\\anaconda3\\lib\\site-packages\\prophet\\forecaster.py:896: FutureWarning:\n",
      "\n",
      "The frame.append method is deprecated and will be removed from pandas in a future version. Use pandas.concat instead.\n",
      "\n",
      "c:\\Users\\mike_\\anaconda3\\lib\\site-packages\\prophet\\forecaster.py:896: FutureWarning:\n",
      "\n",
      "The frame.append method is deprecated and will be removed from pandas in a future version. Use pandas.concat instead.\n",
      "\n",
      "c:\\Users\\mike_\\anaconda3\\lib\\site-packages\\prophet\\forecaster.py:896: FutureWarning:\n",
      "\n",
      "The frame.append method is deprecated and will be removed from pandas in a future version. Use pandas.concat instead.\n",
      "\n",
      "INFO:prophet:Disabling weekly seasonality. Run prophet with weekly_seasonality=True to override this.\n",
      "INFO:prophet:Disabling daily seasonality. Run prophet with daily_seasonality=True to override this.\n",
      "c:\\Users\\mike_\\anaconda3\\lib\\site-packages\\prophet\\forecaster.py:896: FutureWarning:\n",
      "\n",
      "The frame.append method is deprecated and will be removed from pandas in a future version. Use pandas.concat instead.\n",
      "\n",
      "c:\\Users\\mike_\\anaconda3\\lib\\site-packages\\prophet\\forecaster.py:896: FutureWarning:\n",
      "\n",
      "The frame.append method is deprecated and will be removed from pandas in a future version. Use pandas.concat instead.\n",
      "\n",
      "c:\\Users\\mike_\\anaconda3\\lib\\site-packages\\prophet\\forecaster.py:896: FutureWarning:\n",
      "\n",
      "The frame.append method is deprecated and will be removed from pandas in a future version. Use pandas.concat instead.\n",
      "\n",
      "INFO:prophet:Disabling weekly seasonality. Run prophet with weekly_seasonality=True to override this.\n",
      "INFO:prophet:Disabling daily seasonality. Run prophet with daily_seasonality=True to override this.\n",
      "c:\\Users\\mike_\\anaconda3\\lib\\site-packages\\prophet\\forecaster.py:896: FutureWarning:\n",
      "\n",
      "The frame.append method is deprecated and will be removed from pandas in a future version. Use pandas.concat instead.\n",
      "\n",
      "c:\\Users\\mike_\\anaconda3\\lib\\site-packages\\prophet\\forecaster.py:896: FutureWarning:\n",
      "\n",
      "The frame.append method is deprecated and will be removed from pandas in a future version. Use pandas.concat instead.\n",
      "\n",
      "c:\\Users\\mike_\\anaconda3\\lib\\site-packages\\prophet\\forecaster.py:896: FutureWarning:\n",
      "\n",
      "The frame.append method is deprecated and will be removed from pandas in a future version. Use pandas.concat instead.\n",
      "\n",
      "INFO:prophet:Disabling weekly seasonality. Run prophet with weekly_seasonality=True to override this.\n",
      "INFO:prophet:Disabling daily seasonality. Run prophet with daily_seasonality=True to override this.\n",
      "c:\\Users\\mike_\\anaconda3\\lib\\site-packages\\prophet\\forecaster.py:896: FutureWarning:\n",
      "\n",
      "The frame.append method is deprecated and will be removed from pandas in a future version. Use pandas.concat instead.\n",
      "\n",
      "c:\\Users\\mike_\\anaconda3\\lib\\site-packages\\prophet\\forecaster.py:896: FutureWarning:\n",
      "\n",
      "The frame.append method is deprecated and will be removed from pandas in a future version. Use pandas.concat instead.\n",
      "\n",
      "c:\\Users\\mike_\\anaconda3\\lib\\site-packages\\prophet\\forecaster.py:896: FutureWarning:\n",
      "\n",
      "The frame.append method is deprecated and will be removed from pandas in a future version. Use pandas.concat instead.\n",
      "\n"
     ]
    }
   ],
   "source": [
    "# Prophet for All Stores\n",
    "results = {}\n",
    "results_metrics = []\n",
    "\n",
    "for store in df.Store.unique():\n",
    "\n",
    "    store_series = df.loc[df['Store'] == store]\n",
    "    store_series = store_series[['Date', 'Weekly_Sales']]\n",
    "    store_series.dropna(inplace=True)\n",
    "    store_series.columns = ['Date', 'Sales']\n",
    "    store_series = store_series[[\"Sales\", \"Date\"]].resample(\"W\",on =\"Date\").sum().reset_index()\n",
    "    #store_df[\"Date\"]=pd.to_datetime(store_df[\"Date\"])\n",
    "    #store_series.set_index(\"Date\", inplace=True)\n",
    "\n",
    "    store_series['Time'] = np.arange(len(store_series.index)) # add time step column\n",
    "\n",
    "    store_series.rename(columns={'Date':'ds', 'Sales':'y'}, inplace=True)\n",
    "\n",
    "    #https://medium.com/@Hong_Tang/timeseries-split-with-sklearn-tips-8162c83612b9\n",
    "\n",
    "    # Time Series Split\n",
    "    tscv = TimeSeriesSplit() # instantiate object from class. default parameter sets object to perform k=5 splits\n",
    "\n",
    "    # Set date as index\n",
    "    store_series.set_index('ds', inplace=True)\n",
    "    store_series.sort_index(inplace=True)\n",
    "\n",
    "    #prepare features dataframe (X) and target (y) as data series\n",
    "    X = store_series.drop(labels=['y'], axis=1)\n",
    "    y = store_series['y']\n",
    "\n",
    "    # Split train test sets for both features and targets time-series class (tscv) class returns two arrays to mark train and test sets\n",
    "    for train_index, test_index in tscv.split(X):\n",
    "        X_train, X_test = X.iloc[train_index, :], X.iloc[test_index, :]\n",
    "        y_train, y_test = y.iloc[train_index], y.iloc[test_index]\n",
    "\n",
    "    # Summary of Train Test Split: number of records and date range for training and testing dataset.\n",
    "    #print('The training dataset has', len(X_train), 'records, ranging from', pd.DataFrame(y_train).index.min(), 'to', pd.DataFrame(y_train).index.max())\n",
    "    #print('The testing dataset has', len(X_test), 'records, ranging from', pd.DataFrame(y_test).index.min(), 'to', pd.DataFrame(y_test).index.max())\n",
    "\n",
    "    #fit the model by instantiating a new Prophet object. Call fit method and pass in the train dataset\n",
    "    m = Prophet()\n",
    "    m.fit(pd.DataFrame(y_train).reset_index())\n",
    "\n",
    "    \"\"\" \n",
    "    predictions are then made on a dataframe with a column ds containing the dates for which a prediction is to be made\n",
    "    You can get a suitable dataframe that extends into the future a specified number of days using the helper\n",
    "    method Prophet.make_future_dataframe. By default it will also include the dates from the history, so we will see the model fit as well.\n",
    "    \"\"\"\n",
    "    future = m.make_future_dataframe(periods=23, freq='W') # predict next 23 weeeks\n",
    "    #future.tail(40) uncomment no verify added periods\n",
    "\n",
    "    \"\"\"\n",
    "    The predict method will assign each row in future a predicted value which it names yhat. If you pass in historical\n",
    "    dates, it will provide an in-sample fit. The forecast object here is a new dataframe that includes a column yhat with the forecast,\n",
    "    as well as columns for components and uncertainty intervals.\n",
    "    \"\"\"\n",
    "    forecast = m.predict(future)\n",
    "    #forecast[['ds', 'yhat', 'yhat_lower', 'yhat_upper']].tail()\n",
    "\n",
    "    \"\"\"\n",
    "    Model Performance\n",
    "    \"\"\"\n",
    "    actual_sales = y_test.values\n",
    "    predicted_sales = forecast.tail(23)['yhat'].values\n",
    "    evaluate(actual_sales, predicted_sales)\n",
    "\n",
    "    # model performance\n",
    "    results_metrics.append(evaluate(y_test.values, y_pred))\n",
    "\n",
    "    # save results\n",
    "    results[store] = [X_train, X_test, y_train, y_test, y_pred]\n",
    "\n",
    "\n",
    "    ## TODO: formato con pandas\n",
    "\n"
   ]
  },
  {
   "cell_type": "code",
   "execution_count": 114,
   "metadata": {},
   "outputs": [
    {
     "data": {
      "text/html": [
       "<div>\n",
       "<style scoped>\n",
       "    .dataframe tbody tr th:only-of-type {\n",
       "        vertical-align: middle;\n",
       "    }\n",
       "\n",
       "    .dataframe tbody tr th {\n",
       "        vertical-align: top;\n",
       "    }\n",
       "\n",
       "    .dataframe thead th {\n",
       "        text-align: right;\n",
       "    }\n",
       "</style>\n",
       "<table border=\"1\" class=\"dataframe\">\n",
       "  <thead>\n",
       "    <tr style=\"text-align: right;\">\n",
       "      <th></th>\n",
       "      <th>Time</th>\n",
       "    </tr>\n",
       "    <tr>\n",
       "      <th>ds</th>\n",
       "      <th></th>\n",
       "    </tr>\n",
       "  </thead>\n",
       "  <tbody>\n",
       "    <tr>\n",
       "      <th>2010-02-07</th>\n",
       "      <td>0</td>\n",
       "    </tr>\n",
       "    <tr>\n",
       "      <th>2010-02-14</th>\n",
       "      <td>1</td>\n",
       "    </tr>\n",
       "    <tr>\n",
       "      <th>2010-02-21</th>\n",
       "      <td>2</td>\n",
       "    </tr>\n",
       "    <tr>\n",
       "      <th>2010-02-28</th>\n",
       "      <td>3</td>\n",
       "    </tr>\n",
       "    <tr>\n",
       "      <th>2010-03-07</th>\n",
       "      <td>4</td>\n",
       "    </tr>\n",
       "    <tr>\n",
       "      <th>...</th>\n",
       "      <td>...</td>\n",
       "    </tr>\n",
       "    <tr>\n",
       "      <th>2012-04-22</th>\n",
       "      <td>115</td>\n",
       "    </tr>\n",
       "    <tr>\n",
       "      <th>2012-04-29</th>\n",
       "      <td>116</td>\n",
       "    </tr>\n",
       "    <tr>\n",
       "      <th>2012-05-06</th>\n",
       "      <td>117</td>\n",
       "    </tr>\n",
       "    <tr>\n",
       "      <th>2012-05-13</th>\n",
       "      <td>118</td>\n",
       "    </tr>\n",
       "    <tr>\n",
       "      <th>2012-05-20</th>\n",
       "      <td>119</td>\n",
       "    </tr>\n",
       "  </tbody>\n",
       "</table>\n",
       "<p>120 rows × 1 columns</p>\n",
       "</div>"
      ],
      "text/plain": [
       "            Time\n",
       "ds              \n",
       "2010-02-07     0\n",
       "2010-02-14     1\n",
       "2010-02-21     2\n",
       "2010-02-28     3\n",
       "2010-03-07     4\n",
       "...          ...\n",
       "2012-04-22   115\n",
       "2012-04-29   116\n",
       "2012-05-06   117\n",
       "2012-05-13   118\n",
       "2012-05-20   119\n",
       "\n",
       "[120 rows x 1 columns]"
      ]
     },
     "execution_count": 114,
     "metadata": {},
     "output_type": "execute_result"
    }
   ],
   "source": [
    "results[1][0]"
   ]
  },
  {
   "cell_type": "code",
   "execution_count": 115,
   "metadata": {},
   "outputs": [
    {
     "data": {
      "text/plain": [
       "(45,\n",
       " [{'MAE': 756228.7618264966,\n",
       "   'MSE': 578654155250.9325,\n",
       "   'RMSE': 760693.207049289,\n",
       "   'R2': -85.73513640875946},\n",
       "  {'MAE': 1076838.9418264963,\n",
       "   'MSE': 1165113052784.7463,\n",
       "   'RMSE': 1079404.0266669132,\n",
       "   'R2': -213.42717982982091},\n",
       "  {'MAE': 396661.85469524254,\n",
       "   'MSE': 157618722017.7888,\n",
       "   'RMSE': 397012.2441660821,\n",
       "   'R2': -620.9034136430807},\n",
       "  {'MAE': 1340986.2996525837,\n",
       "   'MSE': 1802183066501.4487,\n",
       "   'RMSE': 1342454.1208180818,\n",
       "   'R2': -468.2345016316067},\n",
       "  {'MAE': 486594.71165176434,\n",
       "   'MSE': 237048029977.27557,\n",
       "   'RMSE': 486875.78495677473,\n",
       "   'R2': -962.2772140128019},\n",
       "  {'MAE': 748779.5074786704,\n",
       "   'MSE': 574061899243.7942,\n",
       "   'RMSE': 757668.7265842468,\n",
       "   'R2': -42.95558495509023},\n",
       "  {'MAE': 198482.92904306864,\n",
       "   'MSE': 46354196239.27979,\n",
       "   'RMSE': 215300.24672368536,\n",
       "   'R2': -5.8662225253154965},\n",
       "  {'MAE': 95749.84878301831,\n",
       "   'MSE': 10205940169.022703,\n",
       "   'RMSE': 101024.45332206803,\n",
       "   'R2': -8.784339675378533},\n",
       "  {'MAE': 261660.95295611213,\n",
       "   'MSE': 69150292402.07953,\n",
       "   'RMSE': 262964.43181936134,\n",
       "   'R2': -102.45725228965281},\n",
       "  {'MAE': 957424.4113917139,\n",
       "   'MSE': 922357669204.8398,\n",
       "   'RMSE': 960394.5383043574,\n",
       "   'R2': -164.9804521096766},\n",
       "  {'MAE': 528053.6853047576,\n",
       "   'MSE': 283834240435.2473,\n",
       "   'RMSE': 532760.959939115,\n",
       "   'R2': -57.22955108041859},\n",
       "  {'MAE': 161203.31139171397,\n",
       "   'MSE': 28582844607.765167,\n",
       "   'RMSE': 169064.61666405885,\n",
       "   'R2': -10.341513678354668},\n",
       "  {'MAE': 1233852.7187830182,\n",
       "   'MSE': 1528316601037.4412,\n",
       "   'RMSE': 1236251.0267083466,\n",
       "   'R2': -262.5266057908294},\n",
       "  {'MAE': 889770.6057395402,\n",
       "   'MSE': 823177427871.4374,\n",
       "   'RMSE': 907291.2585666399,\n",
       "   'R2': -25.459492391009494},\n",
       "  {'MAE': 213643.08252132952,\n",
       "   'MSE': 47921365279.978035,\n",
       "   'RMSE': 218909.49106874748,\n",
       "   'R2': -21.49443508167667},\n",
       "  {'MAE': 268191.3138256773,\n",
       "   'MSE': 73802678499.97205,\n",
       "   'RMSE': 271666.48394671734,\n",
       "   'R2': -40.490725787870154},\n",
       "  {'MAE': 147389.82139171398,\n",
       "   'MSE': 28606844280.792126,\n",
       "   'RMSE': 169135.57958274812,\n",
       "   'R2': -3.1618805825099443},\n",
       "  {'MAE': 247912.48573954002,\n",
       "   'MSE': 65219768767.26098,\n",
       "   'RMSE': 255381.61399611557,\n",
       "   'R2': -16.562736054957142},\n",
       "  {'MAE': 588718.2553047574,\n",
       "   'MSE': 353429588215.0226,\n",
       "   'RMSE': 594499.4434101874,\n",
       "   'R2': -51.42039761001816},\n",
       "  {'MAE': 1279205.2066091052,\n",
       "   'MSE': 1645947917600.052,\n",
       "   'RMSE': 1282945.01737216,\n",
       "   'R2': -172.75280588895095},\n",
       "  {'MAE': 118604.38947785123,\n",
       "   'MSE': 15956968552.137789,\n",
       "   'RMSE': 126320.89515253519,\n",
       "   'R2': -7.807481761888251},\n",
       "  {'MAE': 203838.92878301835,\n",
       "   'MSE': 44872466649.78077,\n",
       "   'RMSE': 211831.2220844245,\n",
       "   'R2': -12.928012863407634},\n",
       "  {'MAE': 637472.3518264965,\n",
       "   'MSE': 416864104212.6937,\n",
       "   'RMSE': 645650.1407207263,\n",
       "   'R2': -39.44053541037171},\n",
       "  {'MAE': 573893.0161743227,\n",
       "   'MSE': 338028682390.21826,\n",
       "   'RMSE': 581402.3412321439,\n",
       "   'R2': -38.770377281635604},\n",
       "  {'MAE': 104304.58556480774,\n",
       "   'MSE': 11998186425.828585,\n",
       "   'RMSE': 109536.23339255639,\n",
       "   'R2': -10.483960748273141},\n",
       "  {'MAE': 234508.01486997484,\n",
       "   'MSE': 57983043405.40242,\n",
       "   'RMSE': 240796.68478906105,\n",
       "   'R2': -19.049640978156106},\n",
       "  {'MAE': 919083.5992178008,\n",
       "   'MSE': 860174860702.1501,\n",
       "   'RMSE': 927456.1233299127,\n",
       "   'R2': -55.78240513367148},\n",
       "  {'MAE': 426142.51400040963,\n",
       "   'MSE': 195961154132.75616,\n",
       "   'RMSE': 442674.99831451534,\n",
       "   'R2': -12.680916021217225},\n",
       "  {'MAE': 284965.4468691556,\n",
       "   'MSE': 83052380717.53871,\n",
       "   'RMSE': 288188.0995418421,\n",
       "   'R2': -45.65125024854356},\n",
       "  {'MAE': 379371.99817350344,\n",
       "   'MSE': 143989435729.96295,\n",
       "   'RMSE': 379459.39931692684,\n",
       "   'R2': -2107.28034484957},\n",
       "  {'MAE': 566398.4426960617,\n",
       "   'MSE': 322521447588.5952,\n",
       "   'RMSE': 567909.7178148964,\n",
       "   'R2': -196.4126513658478},\n",
       "  {'MAE': 380843.84400040965,\n",
       "   'MSE': 146610790062.53964,\n",
       "   'RMSE': 382897.88464098313,\n",
       "   'R2': -94.14326045262277},\n",
       "  {'MAE': 546866.7916517642,\n",
       "   'MSE': 299378671434.61475,\n",
       "   'RMSE': 547155.0707382823,\n",
       "   'R2': -992.110925527629},\n",
       "  {'MAE': 154782.00400040965,\n",
       "   'MSE': 24841848030.75488,\n",
       "   'RMSE': 157612.96910709754,\n",
       "   'R2': -28.925132506138183},\n",
       "  {'MAE': 62920.69629466016,\n",
       "   'MSE': 6294583513.7024,\n",
       "   'RMSE': 79338.41133840784,\n",
       "   'R2': -1.2703225552062647},\n",
       "  {'MAE': 514409.6664343729,\n",
       "   'MSE': 264939081796.41074,\n",
       "   'RMSE': 514722.33465861063,\n",
       "   'R2': -957.9881662409346},\n",
       "  {'MAE': 291192.63556480774,\n",
       "   'MSE': 85015000451.00333,\n",
       "   'RMSE': 291573.3191686155,\n",
       "   'R2': -351.205953434961},\n",
       "  {'MAE': 382076.0394778512,\n",
       "   'MSE': 146563147773.246,\n",
       "   'RMSE': 382835.6667987532,\n",
       "   'R2': -253.4202899245942},\n",
       "  {'MAE': 770464.5213917139,\n",
       "   'MSE': 599667969764.3923,\n",
       "   'RMSE': 774382.3149868496,\n",
       "   'R2': -98.79921094835309},\n",
       "  {'MAE': 182175.3470438879,\n",
       "   'MSE': 37933897044.64614,\n",
       "   'RMSE': 194766.26259351525,\n",
       "   'R2': -7.192206749446163},\n",
       "  {'MAE': 575060.694869975,\n",
       "   'MSE': 335284886080.34595,\n",
       "   'RMSE': 579037.8969293339,\n",
       "   'R2': -73.2897578569272},\n",
       "  {'MAE': 250850.41686915554,\n",
       "   'MSE': 64845150755.68389,\n",
       "   'RMSE': 254647.11024412568,\n",
       "   'R2': -33.196189672776434},\n",
       "  {'MAE': 196592.4538256773,\n",
       "   'MSE': 39228651464.28446,\n",
       "   'RMSE': 198062.241389631,\n",
       "   'R2': -67.5198212100956},\n",
       "  {'MAE': 473524.55513002514,\n",
       "   'MSE': 224321308406.8891,\n",
       "   'RMSE': 473625.7049684794,\n",
       "   'R2': -2266.5927143632002},\n",
       "  {'MAE': 64034.85490238353,\n",
       "   'MSE': 5157442395.38224,\n",
       "   'RMSE': 71815.33537749609,\n",
       "   'R2': -1.7126153031484597}])"
      ]
     },
     "execution_count": 115,
     "metadata": {},
     "output_type": "execute_result"
    }
   ],
   "source": [
    "len(results_metrics), results_metrics"
   ]
  },
  {
   "cell_type": "markdown",
   "metadata": {},
   "source": [
    "### KNN Regression for all stores"
   ]
  },
  {
   "cell_type": "code",
   "execution_count": 116,
   "metadata": {},
   "outputs": [],
   "source": [
    "# Regresion knn para toda tienda\n",
    "results = {}\n",
    "results_metrics = []\n",
    "\n",
    "for store in df.Store.unique():\n",
    "\n",
    "    store_series = df.loc[df['Store'] == store]\n",
    "    store_series = store_series[['Date', 'Weekly_Sales']]\n",
    "    store_series.dropna(inplace=True)\n",
    "    store_series.columns = ['Date', 'Sales']\n",
    "    store_series = store_series[[\"Sales\", \"Date\"]].resample(\"W\",on =\"Date\").sum().reset_index()\n",
    "    #store_df[\"Date\"]=pd.to_datetime(store_df[\"Date\"])\n",
    "    #store_series.set_index(\"Date\", inplace=True)\n",
    "\n",
    "    store_series['Time'] = np.arange(len(store_series.index)) # add time step column\n",
    "\n",
    "    #https://medium.com/@Hong_Tang/timeseries-split-with-sklearn-tips-8162c83612b9\n",
    "\n",
    "    # Time Series Split\n",
    "    tscv = TimeSeriesSplit() # instantiate object from class. default parameter sets object to perform k=5 splits\n",
    "\n",
    "    # Set date as index\n",
    "    store_series.set_index('Date', inplace=True)\n",
    "    store_series.sort_index(inplace=True)\n",
    "\n",
    "    #prepare features dataframe (X) and target (y) as data series\n",
    "    X = store_series.drop(labels=['Sales'], axis=1)\n",
    "    y = store_series['Sales']\n",
    "\n",
    "    # Split train test sets for both features and targets time-series class (tscv) class returns two arrays to mark train and test sets\n",
    "    for train_index, test_index in tscv.split(X):\n",
    "        X_train, X_test = X.iloc[train_index, :], X.iloc[test_index, :]\n",
    "        y_train, y_test = y.iloc[train_index], y.iloc[test_index]\n",
    "\n",
    "    # Summary of Train Test Split: number of records and date range for training and testing dataset.\n",
    "    #print('The training dataset has', len(X_train), 'records, ranging from', pd.DataFrame(y_train).index.min(), 'to', pd.DataFrame(y_train).index.max())\n",
    "    #print('The testing dataset has', len(X_test), 'records, ranging from', pd.DataFrame(y_test).index.min(), 'to', pd.DataFrame(y_test).index.max())\n",
    "\n",
    "    #https://scikit-learn.org/stable/auto_examples/linear_model/plot_ols.html#sphx-glr-auto-examples-linear-model-plot-ols-py\n",
    "\n",
    "    # Create knn regression object\n",
    "    regr = neighbors.KNeighborsRegressor(n_neighbors = 7)\n",
    "\n",
    "    # Train the model using the training sets\n",
    "    regr.fit(X_train.values, y_train.values)\n",
    "\n",
    "    # Make predictions using the testing set\n",
    "    y_pred = regr.predict(X_test.values)\n",
    "\n",
    "    # model performance\n",
    "    results_metrics.append(evaluate(y_test.values, y_pred))\n",
    "\n",
    "    # save results\n",
    "    results[store] = [X_train, X_test, y_train, y_test, y_pred] # guardar el modelo, no resultados\n",
    "\n",
    "\n",
    "    ## TODO: formato con pandas"
   ]
  },
  {
   "cell_type": "code",
   "execution_count": null,
   "metadata": {},
   "outputs": [],
   "source": []
  },
  {
   "cell_type": "code",
   "execution_count": 117,
   "metadata": {},
   "outputs": [
    {
     "data": {
      "text/html": [
       "<div>\n",
       "<style scoped>\n",
       "    .dataframe tbody tr th:only-of-type {\n",
       "        vertical-align: middle;\n",
       "    }\n",
       "\n",
       "    .dataframe tbody tr th {\n",
       "        vertical-align: top;\n",
       "    }\n",
       "\n",
       "    .dataframe thead th {\n",
       "        text-align: right;\n",
       "    }\n",
       "</style>\n",
       "<table border=\"1\" class=\"dataframe\">\n",
       "  <thead>\n",
       "    <tr style=\"text-align: right;\">\n",
       "      <th></th>\n",
       "      <th>Time</th>\n",
       "    </tr>\n",
       "    <tr>\n",
       "      <th>Date</th>\n",
       "      <th></th>\n",
       "    </tr>\n",
       "  </thead>\n",
       "  <tbody>\n",
       "    <tr>\n",
       "      <th>2010-02-07</th>\n",
       "      <td>0</td>\n",
       "    </tr>\n",
       "    <tr>\n",
       "      <th>2010-02-14</th>\n",
       "      <td>1</td>\n",
       "    </tr>\n",
       "    <tr>\n",
       "      <th>2010-02-21</th>\n",
       "      <td>2</td>\n",
       "    </tr>\n",
       "    <tr>\n",
       "      <th>2010-02-28</th>\n",
       "      <td>3</td>\n",
       "    </tr>\n",
       "    <tr>\n",
       "      <th>2010-03-07</th>\n",
       "      <td>4</td>\n",
       "    </tr>\n",
       "    <tr>\n",
       "      <th>...</th>\n",
       "      <td>...</td>\n",
       "    </tr>\n",
       "    <tr>\n",
       "      <th>2012-04-22</th>\n",
       "      <td>115</td>\n",
       "    </tr>\n",
       "    <tr>\n",
       "      <th>2012-04-29</th>\n",
       "      <td>116</td>\n",
       "    </tr>\n",
       "    <tr>\n",
       "      <th>2012-05-06</th>\n",
       "      <td>117</td>\n",
       "    </tr>\n",
       "    <tr>\n",
       "      <th>2012-05-13</th>\n",
       "      <td>118</td>\n",
       "    </tr>\n",
       "    <tr>\n",
       "      <th>2012-05-20</th>\n",
       "      <td>119</td>\n",
       "    </tr>\n",
       "  </tbody>\n",
       "</table>\n",
       "<p>120 rows × 1 columns</p>\n",
       "</div>"
      ],
      "text/plain": [
       "            Time\n",
       "Date            \n",
       "2010-02-07     0\n",
       "2010-02-14     1\n",
       "2010-02-21     2\n",
       "2010-02-28     3\n",
       "2010-03-07     4\n",
       "...          ...\n",
       "2012-04-22   115\n",
       "2012-04-29   116\n",
       "2012-05-06   117\n",
       "2012-05-13   118\n",
       "2012-05-20   119\n",
       "\n",
       "[120 rows x 1 columns]"
      ]
     },
     "execution_count": 117,
     "metadata": {},
     "output_type": "execute_result"
    }
   ],
   "source": [
    "results[1][0]"
   ]
  },
  {
   "cell_type": "code",
   "execution_count": 118,
   "metadata": {},
   "outputs": [
    {
     "data": {
      "text/plain": [
       "(45,\n",
       " [{'MAE': 85462.70913043477,\n",
       "   'MSE': 10326098901.093714,\n",
       "   'RMSE': 101617.41435941831,\n",
       "   'R2': -0.5477908326231811},\n",
       "  {'MAE': 69848.47782608692,\n",
       "   'MSE': 7209633896.975285,\n",
       "   'RMSE': 84909.56304784099,\n",
       "   'R2': -0.326859621423796},\n",
       "  {'MAE': 21569.875962732905,\n",
       "   'MSE': 620685962.6361433,\n",
       "   'RMSE': 24913.56984930388,\n",
       "   'R2': -1.4489902850512557},\n",
       "  {'MAE': 58387.94720496903,\n",
       "   'MSE': 5047635494.758705,\n",
       "   'RMSE': 71046.7134690881,\n",
       "   'R2': -0.3142531243505087},\n",
       "  {'MAE': 24134.89236024844,\n",
       "   'MSE': 774625926.1688194,\n",
       "   'RMSE': 27832.10243888915,\n",
       "   'R2': -2.147798798975544},\n",
       "  {'MAE': 89899.28819875777,\n",
       "   'MSE': 13064996295.632065,\n",
       "   'RMSE': 114302.21474508736,\n",
       "   'R2': -0.00037914964760221714},\n",
       "  {'MAE': 119791.57937888202,\n",
       "   'MSE': 21101070255.92529,\n",
       "   'RMSE': 145262.0743894472,\n",
       "   'R2': -2.1255993125542787},\n",
       "  {'MAE': 29735.675217391276,\n",
       "   'MSE': 1354947858.4540787,\n",
       "   'RMSE': 36809.61638558705,\n",
       "   'R2': -0.29897587777167045},\n",
       "  {'MAE': 36924.386521739034,\n",
       "   'MSE': 1900031911.6016405,\n",
       "   'RMSE': 43589.355485045206,\n",
       "   'R2': -1.8426789534595058},\n",
       "  {'MAE': 101653.14521739139,\n",
       "   'MSE': 14157524460.949177,\n",
       "   'RMSE': 118985.3959986232,\n",
       "   'R2': -1.5476801345490667},\n",
       "  {'MAE': 64632.7239130435,\n",
       "   'MSE': 6268084748.840019,\n",
       "   'RMSE': 79171.23687830081,\n",
       "   'R2': -0.2859187126235365},\n",
       "  {'MAE': 81859.8570807453,\n",
       "   'MSE': 8590739976.04245,\n",
       "   'RMSE': 92686.24480494639,\n",
       "   'R2': -2.4087578154836318},\n",
       "  {'MAE': 62349.98577639743,\n",
       "   'MSE': 6204034212.020542,\n",
       "   'RMSE': 78765.69184626351,\n",
       "   'R2': -0.0697574553558773},\n",
       "  {'MAE': 294359.52453416167,\n",
       "   'MSE': 105050911710.66168,\n",
       "   'RMSE': 324115.58387504553,\n",
       "   'R2': -2.3766642584749977},\n",
       "  {'MAE': 38260.453478260875,\n",
       "   'MSE': 2603533640.6813154,\n",
       "   'RMSE': 51024.83356838428,\n",
       "   'R2': -0.2221066349237788},\n",
       "  {'MAE': 88588.09459627331,\n",
       "   'MSE': 9626625811.17418,\n",
       "   'RMSE': 98115.36990285559,\n",
       "   'R2': -4.411940324008868},\n",
       "  {'MAE': 54165.146086956534,\n",
       "   'MSE': 6898858164.52336,\n",
       "   'RMSE': 83059.36530291669,\n",
       "   'R2': -0.003683718294597238},\n",
       "  {'MAE': 51082.83186335406,\n",
       "   'MSE': 3834377932.6002564,\n",
       "   'RMSE': 61922.35406216609,\n",
       "   'R2': -0.03254226192557397},\n",
       "  {'MAE': 68037.21677018634,\n",
       "   'MSE': 6802491416.342994,\n",
       "   'RMSE': 82477.21755941451,\n",
       "   'R2': -0.008940158588223168},\n",
       "  {'MAE': 79859.31832298139,\n",
       "   'MSE': 9729344478.182493,\n",
       "   'RMSE': 98637.43953581974,\n",
       "   'R2': -0.02706828355133495},\n",
       "  {'MAE': 39130.67832298142,\n",
       "   'MSE': 2174822817.808555,\n",
       "   'RMSE': 46634.99563427186,\n",
       "   'R2': -0.20039794780576115},\n",
       "  {'MAE': 47199.922236024846,\n",
       "   'MSE': 3304737491.5911117,\n",
       "   'RMSE': 57486.84624843419,\n",
       "   'R2': -0.02576100066679432},\n",
       "  {'MAE': 119011.44950310545,\n",
       "   'MSE': 22533587509.029778,\n",
       "   'RMSE': 150111.91661233886,\n",
       "   'R2': -1.1860129821028607},\n",
       "  {'MAE': 96192.14590062108,\n",
       "   'MSE': 14208404769.022455,\n",
       "   'RMSE': 119199.01328879554,\n",
       "   'R2': -0.6716735817758095},\n",
       "  {'MAE': 26306.99621118011,\n",
       "   'MSE': 1070574506.5183543,\n",
       "   'RMSE': 32719.634877522003,\n",
       "   'R2': -0.024691163698902674},\n",
       "  {'MAE': 74864.79602484462,\n",
       "   'MSE': 7958193431.186028,\n",
       "   'RMSE': 89208.70714894387,\n",
       "   'R2': -1.751820390220042},\n",
       "  {'MAE': 104802.95161490685,\n",
       "   'MSE': 17156892246.939651,\n",
       "   'RMSE': 130984.32061487227,\n",
       "   'R2': -0.13257158620659903},\n",
       "  {'MAE': 129282.3140993788,\n",
       "   'MSE': 18662502200.443905,\n",
       "   'RMSE': 136610.7689768413,\n",
       "   'R2': -0.3029119290504134},\n",
       "  {'MAE': 34024.90645962734,\n",
       "   'MSE': 1863828797.336765,\n",
       "   'RMSE': 43172.0835417607,\n",
       "   'R2': -0.046928972941983504},\n",
       "  {'MAE': 15529.913913043541,\n",
       "   'MSE': 306767546.6440548,\n",
       "   'RMSE': 17514.780804910315,\n",
       "   'R2': -3.491662778929836},\n",
       "  {'MAE': 38215.856832298115,\n",
       "   'MSE': 2428474399.807715,\n",
       "   'RMSE': 49279.553567455485,\n",
       "   'R2': -0.4864486489954587},\n",
       "  {'MAE': 33873.52503105594,\n",
       "   'MSE': 1782806098.6915324,\n",
       "   'RMSE': 42223.28858215016,\n",
       "   'R2': -0.15695430678722389},\n",
       "  {'MAE': 18634.484161490684,\n",
       "   'MSE': 450969805.82878476,\n",
       "   'RMSE': 21236.049675699687,\n",
       "   'R2': -0.49597511107084435},\n",
       "  {'MAE': 32189.88136645963,\n",
       "   'MSE': 1394339858.169707,\n",
       "   'RMSE': 37340.860436922274,\n",
       "   'R2': -0.6796578484282141},\n",
       "  {'MAE': 78991.49478260866,\n",
       "   'MSE': 8719474902.028973,\n",
       "   'RMSE': 93378.12860637641,\n",
       "   'R2': -2.144929366103131},\n",
       "  {'MAE': 28511.027950310552,\n",
       "   'MSE': 980905860.7748009,\n",
       "   'RMSE': 31319.416673603628,\n",
       "   'R2': -2.550541151955315},\n",
       "  {'MAE': 15282.522049689425,\n",
       "   'MSE': 355137186.00074804,\n",
       "   'RMSE': 18845.083868233327,\n",
       "   'R2': -0.4712866027412501},\n",
       "  {'MAE': 22604.06739130433,\n",
       "   'MSE': 704067406.2337513,\n",
       "   'RMSE': 26534.26852644993,\n",
       "   'R2': -0.22219695975407183},\n",
       "  {'MAE': 76050.14571428571,\n",
       "   'MSE': 8329468533.998497,\n",
       "   'RMSE': 91265.92208485321,\n",
       "   'R2': -0.38622442622505004},\n",
       "  {'MAE': 63414.361242236024,\n",
       "   'MSE': 7011837939.085317,\n",
       "   'RMSE': 83736.71798610999,\n",
       "   'R2': -0.514276954539914},\n",
       "  {'MAE': 68415.03440993783,\n",
       "   'MSE': 8003119306.505026,\n",
       "   'RMSE': 89460.15485401881,\n",
       "   'R2': -0.7732675108948475},\n",
       "  {'MAE': 50504.65689440989,\n",
       "   'MSE': 3549232997.9523745,\n",
       "   'RMSE': 59575.43955316129,\n",
       "   'R2': -0.8716934632188795},\n",
       "  {'MAE': 27842.389875776367,\n",
       "   'MSE': 1178329479.4652581,\n",
       "   'RMSE': 34326.80409629271,\n",
       "   'R2': -1.0581621403186103},\n",
       "  {'MAE': 13235.485838509328,\n",
       "   'MSE': 245723822.397818,\n",
       "   'RMSE': 15675.580448513478,\n",
       "   'R2': -1.4839439167503397},\n",
       "  {'MAE': 50404.68372670804,\n",
       "   'MSE': 2972984093.856147,\n",
       "   'RMSE': 54525.07766024865,\n",
       "   'R2': -0.5636746919814004}])"
      ]
     },
     "execution_count": 118,
     "metadata": {},
     "output_type": "execute_result"
    }
   ],
   "source": [
    "len(results_metrics), results_metrics"
   ]
  },
  {
   "cell_type": "markdown",
   "metadata": {},
   "source": [
    "## ++++   Histórico de Ventas"
   ]
  },
  {
   "cell_type": "code",
   "execution_count": 119,
   "metadata": {},
   "outputs": [
    {
     "data": {
      "text/plain": [
       "\"# Train test split Manual\\ndf_train = df[df['ds']<='2019-11-30']\\ndf_test = df[df['ds']>'2019-11-30']\\n# Print the number of records and date range for training and testing dataset.\\nprint('The training dataset has', len(df_train), 'records, ranging from', df_train['ds'].min(), 'to', df_train['ds'].max())\\nprint('The testing dataset has', len(df_test), 'records, ranging from', df_test['ds'].min(), 'to', df_test['ds'].max())\""
      ]
     },
     "execution_count": 119,
     "metadata": {},
     "output_type": "execute_result"
    }
   ],
   "source": [
    "\"\"\"# Train test split Manual\n",
    "df_train = df[df['ds']<='2019-11-30']\n",
    "df_test = df[df['ds']>'2019-11-30']\n",
    "# Print the number of records and date range for training and testing dataset.\n",
    "print('The training dataset has', len(df_train), 'records, ranging from', df_train['ds'].min(), 'to', df_train['ds'].max())\n",
    "print('The testing dataset has', len(df_test), 'records, ranging from', df_test['ds'].min(), 'to', df_test['ds'].max())\"\"\""
   ]
  },
  {
   "cell_type": "code",
   "execution_count": 120,
   "metadata": {},
   "outputs": [
    {
     "data": {
      "text/plain": [
       "'\\n\\nfig = px.line(df, x=\\'Date\\', y=\"Weekly_Sales\")\\n\\nfig.update_xaxes(\\n    rangeslider_visible=True,\\n    rangeselector=dict(\\n        buttons=list([\\n            dict(count=1, label=\"1m\", step=\"month\", stepmode=\"backward\"),\\n            dict(count=6, label=\"6m\", step=\"month\", stepmode=\"backward\"),\\n            dict(count=1, label=\"YTD\", step=\"year\", stepmode=\"todate\"),\\n            dict(count=1, label=\"1y\", step=\"year\", stepmode=\"backward\"),\\n            dict(step=\"all\")\\n        ])\\n    )\\n)\\nfig.show()\\n\\n'"
      ]
     },
     "execution_count": 120,
     "metadata": {},
     "output_type": "execute_result"
    }
   ],
   "source": [
    "\"\"\"\n",
    "\n",
    "fig = px.line(df, x='Date', y=\"Weekly_Sales\")\n",
    "\n",
    "fig.update_xaxes(\n",
    "    rangeslider_visible=True,\n",
    "    rangeselector=dict(\n",
    "        buttons=list([\n",
    "            dict(count=1, label=\"1m\", step=\"month\", stepmode=\"backward\"),\n",
    "            dict(count=6, label=\"6m\", step=\"month\", stepmode=\"backward\"),\n",
    "            dict(count=1, label=\"YTD\", step=\"year\", stepmode=\"todate\"),\n",
    "            dict(count=1, label=\"1y\", step=\"year\", stepmode=\"backward\"),\n",
    "            dict(step=\"all\")\n",
    "        ])\n",
    "    )\n",
    ")\n",
    "fig.show()\n",
    "\n",
    "\"\"\""
   ]
  },
  {
   "cell_type": "markdown",
   "metadata": {},
   "source": [
    "# Next Steps:\n",
    "## Apply for several models: Semanal a nivel tienda"
   ]
  },
  {
   "cell_type": "code",
   "execution_count": 121,
   "metadata": {},
   "outputs": [],
   "source": [
    "# por cada modelo aplicar:\n",
    "#results = {}\n",
    "#results_metrics = {}\n",
    "#for store in df.Store.unique():\n",
    "#    store_series = df[df['Store'] == store]\n",
    "#    results[store] = # guardar modelo creado previamente\n",
    "#    results_metrics[store] = #guardar metricas+performance\n",
    "\n",
    "    ## formato con pandas\n",
    "\n",
    "\n",
    "#https://scikit-learn.org/stable/modules/generated/sklearn.model_selection.TimeSeriesSplit.html\n",
    "\n",
    "# https://scikit-learn.org/stable/modules/model_evaluation.html\n",
    "\n",
    "# rmse, mae, mse, mape <- metricas de evaluacion modelos de regresion\n",
    "\n",
    "# adicional: evaluar modelo en train y test: métricas similares esperadas\n",
    "\n",
    "# https://www.kaggle.com/code/ryanholbrook/linear-regression-with-time-series\n",
    "\n",
    "# https://www.kdnuggets.com/2019/03/beginners-guide-linear-regression-python-scikit-learn.html\n",
    "\n",
    "# https://www.alpharithms.com/predicting-stock-prices-with-linear-regression-214618/"
   ]
  },
  {
   "cell_type": "code",
   "execution_count": 122,
   "metadata": {},
   "outputs": [
    {
     "data": {
      "text/plain": [
       "['Hola Mundo 1',\n",
       " 'Hola Mundo 2',\n",
       " 'Hola Mundo 3',\n",
       " 'Hola Mundo 4',\n",
       " 'Hola Mundo 5',\n",
       " 'Hola Mundo 6',\n",
       " 'Hola Mundo 7',\n",
       " 'Hola Mundo 8',\n",
       " 'Hola Mundo 9',\n",
       " 'Hola Mundo 10']"
      ]
     },
     "execution_count": 122,
     "metadata": {},
     "output_type": "execute_result"
    }
   ],
   "source": [
    "[\"Hola Mundo %d\" % (i + 1) for i in range(10)]"
   ]
  }
 ],
 "metadata": {
  "kernelspec": {
   "display_name": "Python 3.9.12 ('base')",
   "language": "python",
   "name": "python3"
  },
  "language_info": {
   "codemirror_mode": {
    "name": "ipython",
    "version": 3
   },
   "file_extension": ".py",
   "mimetype": "text/x-python",
   "name": "python",
   "nbconvert_exporter": "python",
   "pygments_lexer": "ipython3",
   "version": "3.9.12"
  },
  "orig_nbformat": 4,
  "vscode": {
   "interpreter": {
    "hash": "777a9814b1f625c6de01a68afd34302da90c24c55ff64ad7426d28deb82a847b"
   }
  }
 },
 "nbformat": 4,
 "nbformat_minor": 2
}
