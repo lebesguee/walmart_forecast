{
 "cells": [
  {
   "cell_type": "code",
   "execution_count": 1,
   "metadata": {},
   "outputs": [],
   "source": [
    "%run ./1_DATA_INGESTION.ipynb"
   ]
  },
  {
   "cell_type": "code",
   "execution_count": 2,
   "metadata": {},
   "outputs": [],
   "source": [
    "# function to evaluate metrics\n",
    "def evaluate(y_true, y_pred):\n",
    "    dict = {\n",
    "        'MAE': metrics.mean_absolute_error(y_true, y_pred),\n",
    "        'MSE': metrics.mean_squared_error(y_true, y_pred),\n",
    "        'RMSE': math.sqrt(metrics.mean_squared_error(y_true, y_pred)),\n",
    "        'R2': metrics.r2_score(y_true, y_pred)\n",
    "        }\n",
    "    return dict"
   ]
  }
 ],
 "metadata": {
  "kernelspec": {
   "display_name": "Python 3.9.12 ('base')",
   "language": "python",
   "name": "python3"
  },
  "language_info": {
   "codemirror_mode": {
    "name": "ipython",
    "version": 3
   },
   "file_extension": ".py",
   "mimetype": "text/x-python",
   "name": "python",
   "nbconvert_exporter": "python",
   "pygments_lexer": "ipython3",
   "version": "3.9.12"
  },
  "orig_nbformat": 4,
  "vscode": {
   "interpreter": {
    "hash": "777a9814b1f625c6de01a68afd34302da90c24c55ff64ad7426d28deb82a847b"
   }
  }
 },
 "nbformat": 4,
 "nbformat_minor": 2
}
